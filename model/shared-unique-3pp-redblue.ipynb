{
 "cells": [
  {
   "cell_type": "markdown",
   "metadata": {},
   "source": [
    "# Choosing between shared and group-specifi expressions, given two groups' observed interactions\n",
    "\n",
    "January 2025"
   ]
  },
  {
   "cell_type": "code",
   "execution_count": 1,
   "metadata": {},
   "outputs": [],
   "source": [
    "# import jax\n",
    "import jax.numpy as jnp\n",
    "# from jax import lax\n",
    "import pandas as pd \n",
    "import matplotlib.pyplot as plt\n",
    "import seaborn as sns\n",
    "from scipy.stats import chi2\n",
    "\n",
    "import data_tools\n",
    "import model_tools\n",
    "import utils\n",
    "\n",
    "from enums import *\n",
    "\n",
    "sns.set_theme('talk')"
   ]
  },
  {
   "cell_type": "code",
   "execution_count": 2,
   "metadata": {},
   "outputs": [],
   "source": [
    "data = data_tools.get_data(expt_type=ExptTypes.SharedUnique)\n",
    "tangram_info = data_tools.get_tangram_info(expt_type=ExptTypes.SharedUnique)\n",
    "data_organized = data_tools.make_data_matrices(data, expt_type=ExptTypes.SharedUnique)\n"
   ]
  },
  {
   "cell_type": "code",
   "execution_count": 3,
   "metadata": {},
   "outputs": [
    {
     "data": {
      "text/html": [
       "<div>\n",
       "<style scoped>\n",
       "    .dataframe tbody tr th:only-of-type {\n",
       "        vertical-align: middle;\n",
       "    }\n",
       "\n",
       "    .dataframe tbody tr th {\n",
       "        vertical-align: top;\n",
       "    }\n",
       "\n",
       "    .dataframe thead th {\n",
       "        text-align: right;\n",
       "    }\n",
       "</style>\n",
       "<table border=\"1\" class=\"dataframe\">\n",
       "  <thead>\n",
       "    <tr style=\"text-align: right;\">\n",
       "      <th></th>\n",
       "      <th>tangram_set</th>\n",
       "      <th>counterbalance</th>\n",
       "      <th>audience_group</th>\n",
       "      <th>shared.tangram</th>\n",
       "      <th>unique.tangram</th>\n",
       "    </tr>\n",
       "  </thead>\n",
       "  <tbody>\n",
       "    <tr>\n",
       "      <th>0</th>\n",
       "      <td>0</td>\n",
       "      <td>a</td>\n",
       "      <td>Blue</td>\n",
       "      <td>B</td>\n",
       "      <td>A</td>\n",
       "    </tr>\n",
       "    <tr>\n",
       "      <th>1</th>\n",
       "      <td>0</td>\n",
       "      <td>a</td>\n",
       "      <td>Blue</td>\n",
       "      <td>B</td>\n",
       "      <td>D</td>\n",
       "    </tr>\n",
       "    <tr>\n",
       "      <th>2</th>\n",
       "      <td>0</td>\n",
       "      <td>a</td>\n",
       "      <td>Blue</td>\n",
       "      <td>B</td>\n",
       "      <td>H</td>\n",
       "    </tr>\n",
       "    <tr>\n",
       "      <th>3</th>\n",
       "      <td>0</td>\n",
       "      <td>a</td>\n",
       "      <td>Blue</td>\n",
       "      <td>C</td>\n",
       "      <td>A</td>\n",
       "    </tr>\n",
       "    <tr>\n",
       "      <th>4</th>\n",
       "      <td>0</td>\n",
       "      <td>a</td>\n",
       "      <td>Blue</td>\n",
       "      <td>C</td>\n",
       "      <td>D</td>\n",
       "    </tr>\n",
       "    <tr>\n",
       "      <th>...</th>\n",
       "      <td>...</td>\n",
       "      <td>...</td>\n",
       "      <td>...</td>\n",
       "      <td>...</td>\n",
       "      <td>...</td>\n",
       "    </tr>\n",
       "    <tr>\n",
       "      <th>103</th>\n",
       "      <td>2</td>\n",
       "      <td>b</td>\n",
       "      <td>Red</td>\n",
       "      <td>G</td>\n",
       "      <td>E</td>\n",
       "    </tr>\n",
       "    <tr>\n",
       "      <th>104</th>\n",
       "      <td>2</td>\n",
       "      <td>b</td>\n",
       "      <td>Red</td>\n",
       "      <td>G</td>\n",
       "      <td>K</td>\n",
       "    </tr>\n",
       "    <tr>\n",
       "      <th>105</th>\n",
       "      <td>2</td>\n",
       "      <td>b</td>\n",
       "      <td>Red</td>\n",
       "      <td>I</td>\n",
       "      <td>C</td>\n",
       "    </tr>\n",
       "    <tr>\n",
       "      <th>106</th>\n",
       "      <td>2</td>\n",
       "      <td>b</td>\n",
       "      <td>Red</td>\n",
       "      <td>I</td>\n",
       "      <td>E</td>\n",
       "    </tr>\n",
       "    <tr>\n",
       "      <th>107</th>\n",
       "      <td>2</td>\n",
       "      <td>b</td>\n",
       "      <td>Red</td>\n",
       "      <td>I</td>\n",
       "      <td>K</td>\n",
       "    </tr>\n",
       "  </tbody>\n",
       "</table>\n",
       "<p>108 rows × 5 columns</p>\n",
       "</div>"
      ],
      "text/plain": [
       "     tangram_set counterbalance audience_group shared.tangram unique.tangram\n",
       "0              0              a           Blue              B              A\n",
       "1              0              a           Blue              B              D\n",
       "2              0              a           Blue              B              H\n",
       "3              0              a           Blue              C              A\n",
       "4              0              a           Blue              C              D\n",
       "..           ...            ...            ...            ...            ...\n",
       "103            2              b            Red              G              E\n",
       "104            2              b            Red              G              K\n",
       "105            2              b            Red              I              C\n",
       "106            2              b            Red              I              E\n",
       "107            2              b            Red              I              K\n",
       "\n",
       "[108 rows x 5 columns]"
      ]
     },
     "execution_count": 3,
     "metadata": {},
     "output_type": "execute_result"
    }
   ],
   "source": [
    "tangram_info"
   ]
  },
  {
   "cell_type": "code",
   "execution_count": 4,
   "metadata": {},
   "outputs": [],
   "source": [
    "alphas = jnp.array([1]) \n",
    "w_rs = jnp.arange(0, 5, 0.1)\n",
    "w_ss = jnp.arange(0, 5, 0.1)\n",
    "w_cs = jnp.array([0]) # no cost in design"
   ]
  },
  {
   "cell_type": "code",
   "execution_count": 5,
   "metadata": {},
   "outputs": [],
   "source": [
    "params_list_no_social = utils.get_params_list(\n",
    "    alphas=alphas, w_rs=w_rs, w_ss=jnp.array([0]), w_cs=w_cs\n",
    ")\n",
    "\n",
    "params_list_social = utils.get_params_list(\n",
    "    alphas=alphas, w_rs=w_rs, w_ss=w_rs, w_cs=w_cs\n",
    ")"
   ]
  },
  {
   "cell_type": "code",
   "execution_count": 6,
   "metadata": {},
   "outputs": [],
   "source": [
    "best_params_no_social, best_nll_no_social, _ = model_tools.fit_params_overall(data_organized, tangram_info, params_list=params_list_no_social, expt_type=ExptTypes.SharedUnique)\n",
    "best_params_social, best_nll_social, _ = model_tools.fit_params_overall(data_organized, tangram_info, params_list=params_list_social, expt_type=ExptTypes.SharedUnique)"
   ]
  },
  {
   "cell_type": "code",
   "execution_count": 7,
   "metadata": {},
   "outputs": [
    {
     "name": "stdout",
     "output_type": "stream",
     "text": [
      "Best params no social: [1.  4.9 0.  0. ]\n",
      "NLL no social: 2278.33251953125\n",
      "Best params social: [1.  4.9 0.4 0. ]\n",
      "NLL social: 2256.768310546875\n"
     ]
    }
   ],
   "source": [
    "print(f\"Best params no social: {best_params_no_social}\")\n",
    "print(f\"NLL no social: {best_nll_no_social}\")\n",
    "print(f\"Best params social: {best_params_social}\")\n",
    "print(f\"NLL social: {best_nll_social}\")"
   ]
  },
  {
   "cell_type": "markdown",
   "metadata": {},
   "source": [
    "Get model predictions (probability of later utterance)"
   ]
  },
  {
   "cell_type": "code",
   "execution_count": 8,
   "metadata": {},
   "outputs": [],
   "source": [
    "preds_no_social = model_tools.get_model_preds(*best_params_no_social, expt_type=ExptTypes.SharedUnique)\n",
    "preds_social = model_tools.get_model_preds(*best_params_social, expt_type=ExptTypes.SharedUnique)"
   ]
  },
  {
   "cell_type": "markdown",
   "metadata": {},
   "source": [
    "Put the model predictions in a dataframe"
   ]
  },
  {
   "cell_type": "code",
   "execution_count": 9,
   "metadata": {},
   "outputs": [
    {
     "data": {
      "text/html": [
       "<div>\n",
       "<style scoped>\n",
       "    .dataframe tbody tr th:only-of-type {\n",
       "        vertical-align: middle;\n",
       "    }\n",
       "\n",
       "    .dataframe tbody tr th {\n",
       "        vertical-align: top;\n",
       "    }\n",
       "\n",
       "    .dataframe thead th {\n",
       "        text-align: right;\n",
       "    }\n",
       "</style>\n",
       "<table border=\"1\" class=\"dataframe\">\n",
       "  <thead>\n",
       "    <tr style=\"text-align: right;\">\n",
       "      <th></th>\n",
       "      <th>type</th>\n",
       "      <th>condition</th>\n",
       "      <th>p_groupspecific</th>\n",
       "    </tr>\n",
       "  </thead>\n",
       "  <tbody>\n",
       "    <tr>\n",
       "      <th>0</th>\n",
       "      <td>no_social</td>\n",
       "      <td>ReferEither</td>\n",
       "      <td>0.253696</td>\n",
       "    </tr>\n",
       "    <tr>\n",
       "      <th>1</th>\n",
       "      <td>no_social</td>\n",
       "      <td>ReferOne</td>\n",
       "      <td>0.500000</td>\n",
       "    </tr>\n",
       "    <tr>\n",
       "      <th>2</th>\n",
       "      <td>no_social</td>\n",
       "      <td>SocialOne</td>\n",
       "      <td>0.500000</td>\n",
       "    </tr>\n",
       "    <tr>\n",
       "      <th>3</th>\n",
       "      <td>social</td>\n",
       "      <td>ReferEither</td>\n",
       "      <td>0.253696</td>\n",
       "    </tr>\n",
       "    <tr>\n",
       "      <th>4</th>\n",
       "      <td>social</td>\n",
       "      <td>ReferOne</td>\n",
       "      <td>0.500000</td>\n",
       "    </tr>\n",
       "    <tr>\n",
       "      <th>5</th>\n",
       "      <td>social</td>\n",
       "      <td>SocialOne</td>\n",
       "      <td>0.598688</td>\n",
       "    </tr>\n",
       "  </tbody>\n",
       "</table>\n",
       "</div>"
      ],
      "text/plain": [
       "        type    condition  p_groupspecific\n",
       "0  no_social  ReferEither         0.253696\n",
       "1  no_social     ReferOne         0.500000\n",
       "2  no_social    SocialOne         0.500000\n",
       "3     social  ReferEither         0.253696\n",
       "4     social     ReferOne         0.500000\n",
       "5     social    SocialOne         0.598688"
      ]
     },
     "execution_count": 9,
     "metadata": {},
     "output_type": "execute_result"
    }
   ],
   "source": [
    "# Put it in a dataframe\n",
    "df_preds = pd.DataFrame(columns=[\"type\", \"condition\", \"p_groupspecific\"])\n",
    "rows = []\n",
    "for condition in Conditions:\n",
    "    rows.append(\n",
    "        {\n",
    "            \"type\": \"no_social\",\n",
    "            \"condition\": condition.name,\n",
    "            \"p_groupspecific\": preds_no_social[condition, 0],\n",
    "        }\n",
    "    )\n",
    "\n",
    "for condition in Conditions:\n",
    "    rows.append(\n",
    "        {\n",
    "            \"type\": \"social\",\n",
    "            \"condition\": condition.name,\n",
    "            \"p_groupspecific\": preds_social[condition, 0],\n",
    "        }\n",
    "    )\n",
    "\n",
    "df_preds = pd.concat([df_preds, pd.DataFrame(rows)], ignore_index=True)\n",
    "\n",
    "# remove jax stuff\n",
    "df_preds[\"p_groupspecific\"] = df_preds[\"p_groupspecific\"].apply(lambda x: x.item())\n",
    "df_preds"
   ]
  },
  {
   "cell_type": "markdown",
   "metadata": {},
   "source": [
    "Plot"
   ]
  },
  {
   "cell_type": "code",
   "execution_count": 10,
   "metadata": {},
   "outputs": [
    {
     "data": {
      "image/png": "[encoded data removed]",
      "text/plain": [
       "<Figure size 1200x600 with 2 Axes>"
      ]
     },
     "metadata": {},
     "output_type": "display_data"
    }
   ],
   "source": [
    "g = sns.catplot(\n",
    "    data=df_preds,\n",
    "    x=\"condition\",\n",
    "    y=\"p_groupspecific\",\n",
    "    col=\"type\",\n",
    "    kind=\"point\",\n",
    "    height=6,\n",
    "    aspect=1,\n",
    "    hue=\"type\",\n",
    "    dodge=0.1,\n",
    "    alpha=0.6,\n",
    "    linestyle=\"none\",\n",
    "    legend=False\n",
    ")\n",
    "\n",
    "g.set(ylim=(0, 1))\n",
    "for ax in g.axes.flat:\n",
    "    ax.axhline(0.5, ls=\"--\", color=\"gray\")\n",
    "\n",
    "# add an extra title to each of the plots\n",
    "titles = [\n",
    "    f\"No social utility, $\\\\alpha=1$\\nBest params: $w_r={best_params_no_social[1]:.1f}$\\nNLL: {best_nll_no_social:.4f}\",\n",
    "    f\"Social utility on 'one social', $\\\\alpha=1$\\nBest params: $w_r={best_params_social[1]:.1f}$, $w_s={best_params_social[2]:.1f}$\\nNLL: {best_nll_social:.4f}\",\n",
    "]\n",
    "for ax, title in zip(g.axes.flat, titles):\n",
    "    ax.set_title(title)  # add padding to the title\n",
    "\n",
    "plt.show()"
   ]
  },
  {
   "cell_type": "markdown",
   "metadata": {},
   "source": [
    "Do likelihood ratio test"
   ]
  },
  {
   "cell_type": "code",
   "execution_count": 11,
   "metadata": {},
   "outputs": [
    {
     "name": "stdout",
     "output_type": "stream",
     "text": [
      "Likelihood Ratio Test Statistic: 43.12841796875\n",
      "Degrees of Freedom: 1\n",
      "P-value: 5.126224860460063e-11\n"
     ]
    }
   ],
   "source": [
    "# Test statistic\n",
    "lr_stat = 2 * (best_nll_no_social - best_nll_social)\n",
    "\n",
    "# Degrees of freedom: number of additional parameters in the \"social\" model\n",
    "df = 1  # w_s is the additional parameter\n",
    "\n",
    "p_value = chi2.sf(lr_stat, df)\n",
    "\n",
    "print(f\"Likelihood Ratio Test Statistic: {lr_stat}\")\n",
    "print(f\"Degrees of Freedom: {df}\")\n",
    "print(f\"P-value: {p_value}\")"
   ]
  }
 ],
 "metadata": {
  "kernelspec": {
   "display_name": "code-switching",
   "language": "python",
   "name": "python3"
  },
  "language_info": {
   "codemirror_mode": {
    "name": "ipython",
    "version": 3
   },
   "file_extension": ".py",
   "mimetype": "text/x-python",
   "name": "python",
   "nbconvert_exporter": "python",
   "pygments_lexer": "ipython3",
   "version": "3.12.4"
  }
 },
 "nbformat": 4,
 "nbformat_minor": 2
}
