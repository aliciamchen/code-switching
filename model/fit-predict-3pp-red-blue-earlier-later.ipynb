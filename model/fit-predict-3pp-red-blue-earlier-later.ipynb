{
 "cells": [
  {
   "cell_type": "markdown",
   "metadata": {},
   "source": [
    "# Choosing between earlier and later labels, after observing two groups\n",
    "\n",
    "January 2025"
   ]
  },
  {
   "cell_type": "markdown",
   "metadata": {},
   "source": [
    "In this experiment, participants observe the gameplay of two groups (the red group and the blue group), and choose between earlier and later labels based on their audience (the red group, the blue group, or either group) and goal (refer to the correct tangram, or be identified as a member of the audience group)"
   ]
  },
  {
   "cell_type": "code",
   "execution_count": 1,
   "metadata": {},
   "outputs": [],
   "source": [
    "import numpy as np\n",
    "import pandas as pd\n",
    "import matplotlib.pyplot as plt\n",
    "import seaborn as sns\n",
    "\n",
    "from memo import memo\n",
    "import jax\n",
    "import jax.numpy as jnp\n",
    "\n",
    "from enum import IntEnum\n",
    "from tqdm import tqdm\n",
    "\n",
    "pd.set_option('future.no_silent_downcasting', True)\n",
    "sns.set_context('talk')"
   ]
  },
  {
   "cell_type": "markdown",
   "metadata": {},
   "source": [
    "## Model"
   ]
  },
  {
   "cell_type": "code",
   "execution_count": 2,
   "metadata": {},
   "outputs": [],
   "source": [
    "class TangramTypes(IntEnum):\n",
    "    shared = 0\n",
    "    unique = 1\n",
    "\n",
    "\n",
    "class Responses(IntEnum):\n",
    "    later = 0\n",
    "    earlier = 1  # this coding is counterintuitive, but corresponds to utterance length\n",
    "\n",
    "\n",
    "class AudienceConditions(IntEnum):\n",
    "    either = 0\n",
    "    one = 1\n",
    "\n",
    "\n",
    "class Audiences(IntEnum):\n",
    "    ingroup = 1\n",
    "    outgroup = 0"
   ]
  },
  {
   "cell_type": "code",
   "execution_count": 3,
   "metadata": {},
   "outputs": [],
   "source": [
    "# type: ignore\n",
    "@jax.jit\n",
    "def audience_wpp(audience_condition, audience):\n",
    "    # for the \"either group\" condition, return 1 regardless of audience\n",
    "    # for the \"one group\" condition, return 1 for the ingroup and 0 for the outgroup\n",
    "    return jnp.array([1, audience])[audience_condition]\n",
    "\n",
    "\n",
    "@jax.jit\n",
    "def ref_info(audience, tangram_type, utterance):\n",
    "    ingroup_info = jnp.array([1, 1])  # [later, earlier]\n",
    "    outgroup_info = jax.lax.cond(\n",
    "        tangram_type == TangramTypes.shared,\n",
    "        lambda _: jnp.array(\n",
    "            [1, 1]\n",
    "        ),  # if it's a shared-label tangram, the later utterance is informative regardless of group\n",
    "        lambda _: jnp.array([0, 1]),\n",
    "        operand=None,\n",
    "    )\n",
    "\n",
    "    info = jax.lax.cond(\n",
    "        audience == Audiences.ingroup,\n",
    "        lambda _: ingroup_info,\n",
    "        lambda _: outgroup_info,\n",
    "        operand=None,\n",
    "    )\n",
    "\n",
    "    return info[utterance]\n",
    "\n",
    "\n",
    "@jax.jit\n",
    "def social_info(utterance):\n",
    "    return jnp.array([1, 0])[utterance]\n",
    "\n",
    "\n",
    "@jax.jit\n",
    "def cost(utterance):\n",
    "    return jnp.array([0, 1])[utterance]\n",
    "\n",
    "\n",
    "@memo\n",
    "def speaker[\n",
    "    utterance: Responses, audience: Audiences\n",
    "](\n",
    "    audience_condition: AudienceConditions,\n",
    "    tangram_type: TangramTypes,\n",
    "    alpha,\n",
    "    w_r,\n",
    "    w_s,\n",
    "    w_c,\n",
    "):\n",
    "    cast: [speaker]\n",
    "    speaker: chooses(\n",
    "        audience in Audiences, wpp=audience_wpp(audience_condition, audience)\n",
    "    )\n",
    "    speaker: chooses(\n",
    "        utterance in Responses,\n",
    "        wpp=exp(\n",
    "            alpha\n",
    "            * (\n",
    "                w_r * ref_info(audience, tangram_type, utterance)\n",
    "                + w_s * social_info(utterance)\n",
    "                - w_c * cost(utterance)\n",
    "            )\n",
    "        ),\n",
    "    )\n",
    "    return Pr[speaker.utterance == utterance]"
   ]
  },
  {
   "cell_type": "markdown",
   "metadata": {},
   "source": [
    "## Load data"
   ]
  },
  {
   "cell_type": "code",
   "execution_count": 4,
   "metadata": {},
   "outputs": [
    {
     "data": {
      "text/html": [
       "<div>\n",
       "<style scoped>\n",
       "    .dataframe tbody tr th:only-of-type {\n",
       "        vertical-align: middle;\n",
       "    }\n",
       "\n",
       "    .dataframe tbody tr th {\n",
       "        vertical-align: top;\n",
       "    }\n",
       "\n",
       "    .dataframe thead th {\n",
       "        text-align: right;\n",
       "    }\n",
       "</style>\n",
       "<table border=\"1\" class=\"dataframe\">\n",
       "  <thead>\n",
       "    <tr style=\"text-align: right;\">\n",
       "      <th></th>\n",
       "      <th>subject_id</th>\n",
       "      <th>item_id</th>\n",
       "      <th>counterbalance</th>\n",
       "      <th>condition</th>\n",
       "      <th>audience_group</th>\n",
       "      <th>tangram</th>\n",
       "      <th>shared</th>\n",
       "      <th>response.earlier</th>\n",
       "    </tr>\n",
       "  </thead>\n",
       "  <tbody>\n",
       "    <tr>\n",
       "      <th>0</th>\n",
       "      <td>dd2c8d9a-acab-46b0-a2d6-58e7c914ac4e</td>\n",
       "      <td>0</td>\n",
       "      <td>a</td>\n",
       "      <td>one social</td>\n",
       "      <td>red</td>\n",
       "      <td>C</td>\n",
       "      <td>0</td>\n",
       "      <td>0</td>\n",
       "    </tr>\n",
       "    <tr>\n",
       "      <th>1</th>\n",
       "      <td>dd2c8d9a-acab-46b0-a2d6-58e7c914ac4e</td>\n",
       "      <td>0</td>\n",
       "      <td>a</td>\n",
       "      <td>either refer</td>\n",
       "      <td>blue</td>\n",
       "      <td>B</td>\n",
       "      <td>0</td>\n",
       "      <td>0</td>\n",
       "    </tr>\n",
       "    <tr>\n",
       "      <th>2</th>\n",
       "      <td>dd2c8d9a-acab-46b0-a2d6-58e7c914ac4e</td>\n",
       "      <td>0</td>\n",
       "      <td>a</td>\n",
       "      <td>one social</td>\n",
       "      <td>blue</td>\n",
       "      <td>L</td>\n",
       "      <td>0</td>\n",
       "      <td>0</td>\n",
       "    </tr>\n",
       "    <tr>\n",
       "      <th>3</th>\n",
       "      <td>dd2c8d9a-acab-46b0-a2d6-58e7c914ac4e</td>\n",
       "      <td>0</td>\n",
       "      <td>a</td>\n",
       "      <td>one refer</td>\n",
       "      <td>blue</td>\n",
       "      <td>L</td>\n",
       "      <td>0</td>\n",
       "      <td>0</td>\n",
       "    </tr>\n",
       "    <tr>\n",
       "      <th>4</th>\n",
       "      <td>dd2c8d9a-acab-46b0-a2d6-58e7c914ac4e</td>\n",
       "      <td>0</td>\n",
       "      <td>a</td>\n",
       "      <td>one refer</td>\n",
       "      <td>red</td>\n",
       "      <td>H</td>\n",
       "      <td>1</td>\n",
       "      <td>1</td>\n",
       "    </tr>\n",
       "  </tbody>\n",
       "</table>\n",
       "</div>"
      ],
      "text/plain": [
       "                             subject_id  item_id counterbalance     condition  \\\n",
       "0  dd2c8d9a-acab-46b0-a2d6-58e7c914ac4e        0              a    one social   \n",
       "1  dd2c8d9a-acab-46b0-a2d6-58e7c914ac4e        0              a  either refer   \n",
       "2  dd2c8d9a-acab-46b0-a2d6-58e7c914ac4e        0              a    one social   \n",
       "3  dd2c8d9a-acab-46b0-a2d6-58e7c914ac4e        0              a     one refer   \n",
       "4  dd2c8d9a-acab-46b0-a2d6-58e7c914ac4e        0              a     one refer   \n",
       "\n",
       "  audience_group tangram  shared  response.earlier  \n",
       "0            red       C       0                 0  \n",
       "1           blue       B       0                 0  \n",
       "2           blue       L       0                 0  \n",
       "3           blue       L       0                 0  \n",
       "4            red       H       1                 1  "
      ]
     },
     "execution_count": 4,
     "metadata": {},
     "output_type": "execute_result"
    }
   ],
   "source": [
    "data = pd.read_csv(\"../data/3pp/earlier-later/selection_trials_clean.csv\")\n",
    "data.replace(\n",
    "    {\"response.earlier\": {\"earlier\": Responses.earlier, \"later\": Responses.later}},\n",
    "    inplace=True,\n",
    ")\n",
    "data.replace(\n",
    "    {\"shared\": {\"shared\": TangramTypes.shared, \"unique\": TangramTypes.unique}},\n",
    "    inplace=True,\n",
    ")  # is it a shared or group-specific label?\n",
    "\n",
    "data[\"shared\"] = data[\"shared\"].astype(int)\n",
    "data[\"response.earlier\"] = data[\"response.earlier\"].astype(int)\n",
    "\n",
    "data.head()"
   ]
  },
  {
   "cell_type": "markdown",
   "metadata": {},
   "source": [
    "Make a jax array for each condition"
   ]
  },
  {
   "cell_type": "code",
   "execution_count": 5,
   "metadata": {},
   "outputs": [],
   "source": [
    "# masks for each condition\n",
    "refer_either_mask = data[\"condition\"] == \"either refer\"\n",
    "refer_one_mask = data[\"condition\"] == \"one refer\"\n",
    "social_one_mask = data[\"condition\"] == \"one social\"\n",
    "\n",
    "# get the data for each condition\n",
    "refer_either_tangram_types = jnp.array(data[refer_either_mask][\"shared\"].values)\n",
    "refer_either_responses = jnp.array(data[refer_either_mask][\"response.earlier\"].values)\n",
    "\n",
    "refer_one_tangram_types = jnp.array(data[refer_one_mask][\"shared\"].values)\n",
    "refer_one_responses = jnp.array(data[refer_one_mask][\"response.earlier\"].values)\n",
    "\n",
    "social_one_tangram_types = jnp.array(data[social_one_mask][\"shared\"].values)\n",
    "social_one_responses = jnp.array(data[social_one_mask][\"response.earlier\"].values)"
   ]
  },
  {
   "cell_type": "markdown",
   "metadata": {},
   "source": [
    "## Predict\n",
    "\n",
    "Define speaker functions"
   ]
  },
  {
   "cell_type": "code",
   "execution_count": 6,
   "metadata": {},
   "outputs": [],
   "source": [
    "@jax.jit\n",
    "def speaker_refer_either(tangram_type, w_r, w_s, w_c):\n",
    "    return speaker(\n",
    "        audience_condition=AudienceConditions.either,\n",
    "        tangram_type=tangram_type,\n",
    "        alpha=1,\n",
    "        w_r=w_r,\n",
    "        w_s=0,\n",
    "        w_c=w_c,\n",
    "    )[1, 0]\n",
    "\n",
    "@jax.jit\n",
    "def speaker_refer_one(tangram_type, w_r, w_s, w_c):\n",
    "    return speaker(\n",
    "        audience_condition=AudienceConditions.one,\n",
    "        tangram_type=tangram_type,\n",
    "        alpha=1,\n",
    "        w_r=w_r,\n",
    "        w_s=0,\n",
    "        w_c=w_c,\n",
    "    )[1, 0]\n",
    "\n",
    "@jax.jit\n",
    "def speaker_social_one(tangram_type, w_r, w_s, w_c):\n",
    "    return speaker(\n",
    "        audience_condition=AudienceConditions.one,\n",
    "        tangram_type=tangram_type,\n",
    "        alpha=1,\n",
    "        w_r=0,\n",
    "        w_s=w_s,\n",
    "        w_c=w_c,\n",
    "    )[1, 0]\n",
    "\n",
    "# vmap functions, for vectorizing the functions over the data\n",
    "speaker_refer_either_vmap = jax.vmap(speaker_refer_either, in_axes=(0, None, None, None))\n",
    "speaker_refer_one_vmap = jax.vmap(speaker_refer_one, in_axes=(0, None, None, None))\n",
    "speaker_social_one_vmap = jax.vmap(speaker_social_one, in_axes=(0, None, None, None))"
   ]
  },
  {
   "cell_type": "markdown",
   "metadata": {},
   "source": [
    "Compute preds"
   ]
  },
  {
   "cell_type": "code",
   "execution_count": 7,
   "metadata": {},
   "outputs": [],
   "source": [
    "class ModelTypes(IntEnum):\n",
    "    base = 0 \n",
    "    social = 1"
   ]
  },
  {
   "cell_type": "code",
   "execution_count": 8,
   "metadata": {},
   "outputs": [],
   "source": [
    "@jax.jit\n",
    "def predict_all(\n",
    "    model_type,\n",
    "    refer_either_tangram_types,\n",
    "    refer_one_tangram_types,\n",
    "    social_one_tangram_types,\n",
    "    w_r,\n",
    "    w_s,\n",
    "    w_c,\n",
    "):\n",
    "    \"\"\"Generate predictions for all conditions\"\"\"\n",
    "    preds_refer_either = speaker_refer_either_vmap(\n",
    "        refer_either_tangram_types, w_r, w_s, w_c\n",
    "    )\n",
    "    preds_refer_one = speaker_refer_one_vmap(refer_one_tangram_types, w_r, w_s, w_c)\n",
    "    preds_social_one = jax.lax.cond(\n",
    "        model_type == ModelTypes.base,\n",
    "        lambda _: speaker_refer_one_vmap(refer_one_tangram_types, w_r, w_s, w_c),\n",
    "        lambda _: speaker_social_one_vmap(social_one_tangram_types, w_r, w_s, w_c),\n",
    "        operand=None,\n",
    "    )\n",
    "    return preds_refer_either, preds_refer_one, preds_social_one\n",
    "\n",
    "\n",
    "@jax.jit\n",
    "def compute_NLL(preds, responses):\n",
    "    eps = 1e-7\n",
    "    preds_clipped = jnp.clip(preds, eps, 1 - eps)\n",
    "    return -jnp.sum(\n",
    "        responses * jnp.log(preds_clipped)\n",
    "        + (1 - responses) * jnp.log(1 - preds_clipped)\n",
    "    )\n",
    "\n",
    "\n",
    "@jax.jit\n",
    "def compute_NLL_all(\n",
    "    model_type,\n",
    "    refer_either_tangram_types,\n",
    "    refer_one_tangram_types,\n",
    "    social_one_tangram_types,\n",
    "    refer_either_responses,\n",
    "    refer_one_responses,\n",
    "    social_one_responses,\n",
    "    w_r,\n",
    "    w_s,\n",
    "    w_c,\n",
    "):\n",
    "    \"\"\"compute NLL of whole dataset\"\"\"\n",
    "    preds_refer_either, preds_refer_one, preds_social_one = predict_all(\n",
    "        model_type,\n",
    "        refer_either_tangram_types,\n",
    "        refer_one_tangram_types,\n",
    "        social_one_tangram_types,\n",
    "        w_r,\n",
    "        w_s,\n",
    "        w_c,\n",
    "    )\n",
    "    NLL_refer_either = compute_NLL(preds_refer_either, refer_either_responses)\n",
    "    NLL_refer_one = compute_NLL(preds_refer_one, refer_one_responses)\n",
    "    NLL_social_one = compute_NLL(preds_social_one, social_one_responses)\n",
    "    return NLL_refer_either + NLL_refer_one + NLL_social_one"
   ]
  },
  {
   "cell_type": "markdown",
   "metadata": {},
   "source": [
    "Fit params"
   ]
  },
  {
   "cell_type": "code",
   "execution_count": 9,
   "metadata": {},
   "outputs": [],
   "source": [
    "w_rs = np.arange(0, 5, 0.1)\n",
    "w_ss = np.arange(0, 5, 0.1)\n",
    "w_cs = np.arange(0, 5, 0.1)\n",
    "params_list = [(w_r, w_s, w_c) for w_r in w_rs for w_s in w_ss for w_c in w_cs]"
   ]
  },
  {
   "cell_type": "code",
   "execution_count": 10,
   "metadata": {},
   "outputs": [],
   "source": [
    "def fit_params(model_type, params_list, *args):\n",
    "    NLLs = []\n",
    "    for params in tqdm(params_list):\n",
    "        NLL = compute_NLL_all(model_type, *args, *params)\n",
    "        NLLs.append(NLL)\n",
    "    \n",
    "    nlls = jnp.array(NLLs)\n",
    "    best_params = params_list[jnp.argmin(nlls)]\n",
    "    best_nll = jnp.min(nlls)\n",
    "    return best_params, best_nll"
   ]
  },
  {
   "cell_type": "code",
   "execution_count": 11,
   "metadata": {},
   "outputs": [
    {
     "name": "stderr",
     "output_type": "stream",
     "text": [
      "100%|██████████| 125000/125000 [00:08<00:00, 15185.32it/s]\n"
     ]
    },
    {
     "data": {
      "text/plain": [
       "((1.9000000000000001, 0.0, 0.7000000000000001),\n",
       " Array(1380.3662, dtype=float32))"
      ]
     },
     "execution_count": 11,
     "metadata": {},
     "output_type": "execute_result"
    }
   ],
   "source": [
    "best_params_base, best_nll_base = fit_params(\n",
    "    ModelTypes.base,\n",
    "    params_list,\n",
    "    refer_either_tangram_types,\n",
    "    refer_one_tangram_types,\n",
    "    social_one_tangram_types,\n",
    "    refer_either_responses,\n",
    "    refer_one_responses,\n",
    "    social_one_responses,\n",
    ")\n",
    "best_params_base, best_nll_base"
   ]
  },
  {
   "cell_type": "code",
   "execution_count": 12,
   "metadata": {},
   "outputs": [
    {
     "name": "stderr",
     "output_type": "stream",
     "text": [
      "100%|██████████| 125000/125000 [00:07<00:00, 15809.23it/s]\n"
     ]
    },
    {
     "data": {
      "text/plain": [
       "((1.6, 0.30000000000000004, 0.6000000000000001),\n",
       " Array(1377.6577, dtype=float32))"
      ]
     },
     "execution_count": 12,
     "metadata": {},
     "output_type": "execute_result"
    }
   ],
   "source": [
    "best_params_social, best_nll_social = fit_params(\n",
    "    ModelTypes.social,\n",
    "    params_list,\n",
    "    refer_either_tangram_types,\n",
    "    refer_one_tangram_types,\n",
    "    social_one_tangram_types,\n",
    "    refer_either_responses,\n",
    "    refer_one_responses,\n",
    "    social_one_responses,\n",
    ")\n",
    "best_params_social, best_nll_social"
   ]
  },
  {
   "cell_type": "markdown",
   "metadata": {},
   "source": [
    "Generate model predictions"
   ]
  },
  {
   "cell_type": "code",
   "execution_count": 13,
   "metadata": {},
   "outputs": [],
   "source": [
    "# Base model preds\n",
    "preds_refer_either_base, preds_refer_one_base, preds_social_one_base = predict_all(\n",
    "    ModelTypes.base,\n",
    "    refer_either_tangram_types,\n",
    "    refer_one_tangram_types,\n",
    "    social_one_tangram_types,\n",
    "    *best_params_base\n",
    ")\n",
    "\n",
    "# Social model preds\n",
    "preds_refer_either_social, preds_refer_one_social, preds_social_one_social = predict_all(\n",
    "    ModelTypes.social,\n",
    "    refer_either_tangram_types,\n",
    "    refer_one_tangram_types,\n",
    "    social_one_tangram_types,\n",
    "    *best_params_social\n",
    ")"
   ]
  },
  {
   "cell_type": "code",
   "execution_count": 14,
   "metadata": {},
   "outputs": [],
   "source": [
    "# Put the predictions into a dataframe\n",
    "\n",
    "tangram_types_mapping = np.vectorize(lambda x: TangramTypes(x).name)\n",
    "\n",
    "preds_df_base = pd.DataFrame(\n",
    "    {\n",
    "        \"condition\": [\"refer_either\"] * len(preds_refer_either_base)\n",
    "        + [\"refer_one\"] * len(preds_refer_one_base)\n",
    "        + [\"social_one\"] * len(preds_social_one_base),\n",
    "        \"tangram_type\": tangram_types_mapping(\n",
    "            np.concatenate(\n",
    "                [\n",
    "                    refer_either_tangram_types,\n",
    "                    refer_one_tangram_types,\n",
    "                    social_one_tangram_types,\n",
    "                ]\n",
    "            )\n",
    "        ),\n",
    "        \"response_earlier\": np.concatenate(\n",
    "            [\n",
    "                refer_either_responses,\n",
    "                refer_one_responses,\n",
    "                social_one_responses,\n",
    "            ]\n",
    "        ),\n",
    "        \"p_earlier\": np.concatenate(\n",
    "            [\n",
    "                preds_refer_either_base,\n",
    "                preds_refer_one_base,\n",
    "                preds_social_one_base,\n",
    "            ]\n",
    "        ),\n",
    "        \"model\": \"base\",\n",
    "    }\n",
    ")\n",
    "\n",
    "preds_df_social = pd.DataFrame(\n",
    "    {\n",
    "        \"condition\": [\"refer_either\"] * len(preds_refer_either_social)\n",
    "        + [\"refer_one\"] * len(preds_refer_one_social)\n",
    "        + [\"social_one\"] * len(preds_social_one_social),\n",
    "        \"tangram_type\": tangram_types_mapping(\n",
    "            np.concatenate(\n",
    "                [\n",
    "                    refer_either_tangram_types,\n",
    "                    refer_one_tangram_types,\n",
    "                    social_one_tangram_types,\n",
    "                ]\n",
    "            )\n",
    "        ),\n",
    "        \"response_earlier\": np.concatenate(\n",
    "            [\n",
    "                refer_either_responses,\n",
    "                refer_one_responses,\n",
    "                social_one_responses,\n",
    "            ]\n",
    "        ),\n",
    "        \"p_earlier\": np.concatenate(\n",
    "            [\n",
    "                preds_refer_either_social,\n",
    "                preds_refer_one_social,\n",
    "                preds_social_one_social,\n",
    "            ]\n",
    "        ),\n",
    "        \"model\": \"social\",\n",
    "    }\n",
    ")\n",
    "\n",
    "preds_df = pd.concat([preds_df_base, preds_df_social])\n"
   ]
  },
  {
   "cell_type": "code",
   "execution_count": 15,
   "metadata": {},
   "outputs": [
    {
     "data": {
      "text/html": [
       "<div>\n",
       "<style scoped>\n",
       "    .dataframe tbody tr th:only-of-type {\n",
       "        vertical-align: middle;\n",
       "    }\n",
       "\n",
       "    .dataframe tbody tr th {\n",
       "        vertical-align: top;\n",
       "    }\n",
       "\n",
       "    .dataframe thead th {\n",
       "        text-align: right;\n",
       "    }\n",
       "</style>\n",
       "<table border=\"1\" class=\"dataframe\">\n",
       "  <thead>\n",
       "    <tr style=\"text-align: right;\">\n",
       "      <th></th>\n",
       "      <th>condition</th>\n",
       "      <th>tangram_type</th>\n",
       "      <th>response_earlier</th>\n",
       "      <th>p_earlier</th>\n",
       "      <th>model</th>\n",
       "    </tr>\n",
       "  </thead>\n",
       "  <tbody>\n",
       "    <tr>\n",
       "      <th>0</th>\n",
       "      <td>refer_either</td>\n",
       "      <td>shared</td>\n",
       "      <td>0</td>\n",
       "      <td>0.331812</td>\n",
       "      <td>base</td>\n",
       "    </tr>\n",
       "    <tr>\n",
       "      <th>1</th>\n",
       "      <td>refer_either</td>\n",
       "      <td>unique</td>\n",
       "      <td>0</td>\n",
       "      <td>0.550169</td>\n",
       "      <td>base</td>\n",
       "    </tr>\n",
       "    <tr>\n",
       "      <th>2</th>\n",
       "      <td>refer_either</td>\n",
       "      <td>unique</td>\n",
       "      <td>0</td>\n",
       "      <td>0.550169</td>\n",
       "      <td>base</td>\n",
       "    </tr>\n",
       "    <tr>\n",
       "      <th>3</th>\n",
       "      <td>refer_either</td>\n",
       "      <td>shared</td>\n",
       "      <td>0</td>\n",
       "      <td>0.331812</td>\n",
       "      <td>base</td>\n",
       "    </tr>\n",
       "    <tr>\n",
       "      <th>4</th>\n",
       "      <td>refer_either</td>\n",
       "      <td>unique</td>\n",
       "      <td>0</td>\n",
       "      <td>0.550169</td>\n",
       "      <td>base</td>\n",
       "    </tr>\n",
       "    <tr>\n",
       "      <th>...</th>\n",
       "      <td>...</td>\n",
       "      <td>...</td>\n",
       "      <td>...</td>\n",
       "      <td>...</td>\n",
       "      <td>...</td>\n",
       "    </tr>\n",
       "    <tr>\n",
       "      <th>2155</th>\n",
       "      <td>social_one</td>\n",
       "      <td>unique</td>\n",
       "      <td>0</td>\n",
       "      <td>0.289050</td>\n",
       "      <td>social</td>\n",
       "    </tr>\n",
       "    <tr>\n",
       "      <th>2156</th>\n",
       "      <td>social_one</td>\n",
       "      <td>shared</td>\n",
       "      <td>0</td>\n",
       "      <td>0.289050</td>\n",
       "      <td>social</td>\n",
       "    </tr>\n",
       "    <tr>\n",
       "      <th>2157</th>\n",
       "      <td>social_one</td>\n",
       "      <td>shared</td>\n",
       "      <td>0</td>\n",
       "      <td>0.289050</td>\n",
       "      <td>social</td>\n",
       "    </tr>\n",
       "    <tr>\n",
       "      <th>2158</th>\n",
       "      <td>social_one</td>\n",
       "      <td>shared</td>\n",
       "      <td>0</td>\n",
       "      <td>0.289050</td>\n",
       "      <td>social</td>\n",
       "    </tr>\n",
       "    <tr>\n",
       "      <th>2159</th>\n",
       "      <td>social_one</td>\n",
       "      <td>shared</td>\n",
       "      <td>0</td>\n",
       "      <td>0.289050</td>\n",
       "      <td>social</td>\n",
       "    </tr>\n",
       "  </tbody>\n",
       "</table>\n",
       "<p>4320 rows × 5 columns</p>\n",
       "</div>"
      ],
      "text/plain": [
       "         condition tangram_type  response_earlier  p_earlier   model\n",
       "0     refer_either       shared                 0   0.331812    base\n",
       "1     refer_either       unique                 0   0.550169    base\n",
       "2     refer_either       unique                 0   0.550169    base\n",
       "3     refer_either       shared                 0   0.331812    base\n",
       "4     refer_either       unique                 0   0.550169    base\n",
       "...            ...          ...               ...        ...     ...\n",
       "2155    social_one       unique                 0   0.289050  social\n",
       "2156    social_one       shared                 0   0.289050  social\n",
       "2157    social_one       shared                 0   0.289050  social\n",
       "2158    social_one       shared                 0   0.289050  social\n",
       "2159    social_one       shared                 0   0.289050  social\n",
       "\n",
       "[4320 rows x 5 columns]"
      ]
     },
     "execution_count": 15,
     "metadata": {},
     "output_type": "execute_result"
    }
   ],
   "source": [
    "preds_df"
   ]
  },
  {
   "cell_type": "code",
   "execution_count": 19,
   "metadata": {},
   "outputs": [
    {
     "data": {
      "image/png": "[encoded data removed]",
      "text/plain": [
       "<Figure size 1393.46x600 with 2 Axes>"
      ]
     },
     "metadata": {},
     "output_type": "display_data"
    }
   ],
   "source": [
    "g = sns.catplot(\n",
    "    data=preds_df,\n",
    "    x=\"condition\",\n",
    "    y=\"p_earlier\",\n",
    "    hue=\"tangram_type\",\n",
    "    col=\"model\",\n",
    "    kind=\"point\",\n",
    "    height=6,\n",
    "    aspect=1,\n",
    "    palette=\"colorblind\",\n",
    "    dodge=0.1,\n",
    "    alpha=0.6,\n",
    "    # linestyle=\"none\",\n",
    ")\n",
    "\n",
    "g.set(ylim=(0, 1))\n",
    "for ax in g.axes.flat:\n",
    "    ax.axhline(0.5, ls=\"--\", color=\"gray\")\n",
    "\n",
    "titles = [f\"Base model\\nBest params: $w_r={best_params_base[0]:.1f}$, $w_c={best_params_base[2]:.1f}$\\nBest NLL: {best_nll_base:.2f}\", f\"Social model\\nBest params: $w_r={best_params_social[0]:.1f}$, $w_s={best_params_social[1]:.1f}$, $w_c={best_params_social[2]:.1f}$\\nBest NLL: {best_nll_social:.2f}\"]\n",
    "for ax, title in zip(g.axes.flat, titles):\n",
    "    ax.set_title(title)\n"
   ]
  },
  {
   "cell_type": "code",
   "execution_count": 25,
   "metadata": {},
   "outputs": [
    {
     "data": {
      "image/png": "[encoded data removed]",
      "text/plain": [
       "<Figure size 853.458x600 with 1 Axes>"
      ]
     },
     "metadata": {},
     "output_type": "display_data"
    }
   ],
   "source": [
    "g = sns.catplot(\n",
    "    data=preds_df,\n",
    "    x=\"condition\",\n",
    "    y=\"response_earlier\",\n",
    "    hue=\"tangram_type\",\n",
    "    kind=\"point\",\n",
    "    height=6,\n",
    "    aspect=1.1,\n",
    "    palette=\"colorblind\",\n",
    "    dodge=0.1,\n",
    "    alpha=0.6\n",
    ")\n",
    "g.set(ylim=(0, 1), title=\"Data\")\n",
    "for ax in g.axes.flat:\n",
    "    ax.axhline(0.5, ls=\"--\", color=\"gray\")\n"
   ]
  },
  {
   "cell_type": "markdown",
   "metadata": {},
   "source": [
    "LR test"
   ]
  },
  {
   "cell_type": "code",
   "execution_count": 17,
   "metadata": {},
   "outputs": [
    {
     "data": {
      "text/plain": [
       "(Array(5.416992, dtype=float32), 0.019941684904667693)"
      ]
     },
     "execution_count": 17,
     "metadata": {},
     "output_type": "execute_result"
    }
   ],
   "source": [
    "from scipy.stats import chi2\n",
    "lr_stat = 2 * (best_nll_base - best_nll_social)\n",
    "df = 1  # social model has additional param w_s\n",
    "p_val = chi2.sf(lr_stat, df)\n",
    "lr_stat, p_val"
   ]
  }
 ],
 "metadata": {
  "kernelspec": {
   "display_name": "code-switching",
   "language": "python",
   "name": "python3"
  },
  "language_info": {
   "codemirror_mode": {
    "name": "ipython",
    "version": 3
   },
   "file_extension": ".py",
   "mimetype": "text/x-python",
   "name": "python",
   "nbconvert_exporter": "python",
   "pygments_lexer": "ipython3",
   "version": "3.12.4"
  }
 },
 "nbformat": 4,
 "nbformat_minor": 2
}
