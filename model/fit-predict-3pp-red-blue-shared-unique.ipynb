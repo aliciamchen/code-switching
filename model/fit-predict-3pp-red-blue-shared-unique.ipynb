{
 "cells": [
  {
   "cell_type": "markdown",
   "metadata": {},
   "source": [
    "# Choosing between shared and group-specific labels, after observing two groups\n",
    "\n",
    "January 2025"
   ]
  },
  {
   "cell_type": "code",
   "execution_count": 1,
   "metadata": {},
   "outputs": [],
   "source": [
    "import numpy as np\n",
    "import pandas as pd\n",
    "import matplotlib.pyplot as plt\n",
    "import seaborn as sns\n",
    "\n",
    "from memo import memo\n",
    "import jax\n",
    "import jax.numpy as jnp\n",
    "import optax\n",
    "\n",
    "from enum import IntEnum\n",
    "from tqdm import tqdm\n",
    "\n",
    "import utils\n",
    "\n",
    "pd.set_option('future.no_silent_downcasting', True)\n",
    "sns.set_context('talk')"
   ]
  },
  {
   "cell_type": "markdown",
   "metadata": {},
   "source": [
    "## Model"
   ]
  },
  {
   "cell_type": "code",
   "execution_count": 2,
   "metadata": {},
   "outputs": [],
   "source": [
    "class TangramTypes(IntEnum):\n",
    "    shared = 0\n",
    "    unique = 1\n",
    "\n",
    "\n",
    "class Responses(IntEnum):\n",
    "    shared = 0\n",
    "    unique = 1  \n",
    "\n",
    "\n",
    "class AudienceConditions(IntEnum):\n",
    "    either = 0\n",
    "    one = 1\n",
    "\n",
    "\n",
    "class Audiences(IntEnum):\n",
    "    ingroup = 1\n",
    "    outgroup = 0"
   ]
  },
  {
   "cell_type": "code",
   "execution_count": 3,
   "metadata": {},
   "outputs": [],
   "source": [
    "# type: ignore\n",
    "\n",
    "@jax.jit\n",
    "def audience_wpp(audience_condition, audience):\n",
    "    # for the \"either group\" condition, return 1 regardless of audience\n",
    "    # for the \"one group\" condition, return 1 for the ingroup and 0 for the outgroup\n",
    "    return jnp.array([1, audience])[audience_condition]\n",
    "\n",
    "\n",
    "@jax.jit\n",
    "def ref_info(audience, utterance):\n",
    "    ingroup_info = jnp.array([1, 1])  # [shared, group-specific]\n",
    "    outgroup_info = jnp.array([1, 0])\n",
    "\n",
    "    info = jax.lax.cond(\n",
    "        audience == Audiences.ingroup,\n",
    "        lambda _: ingroup_info,\n",
    "        lambda _: outgroup_info,\n",
    "        operand=None,\n",
    "    )\n",
    "\n",
    "    return info[utterance]\n",
    "\n",
    "\n",
    "@jax.jit\n",
    "def social_info(utterance):\n",
    "    return jnp.array([0, 1])[utterance]\n",
    "\n",
    "\n",
    "\n",
    "@memo\n",
    "def speaker[\n",
    "    utterance: Responses, audience: Audiences\n",
    "](audience_condition: AudienceConditions, alpha, w_r, w_s):\n",
    "    cast: [speaker]\n",
    "    speaker: chooses(\n",
    "        audience in Audiences, wpp=audience_wpp(audience_condition, audience)\n",
    "    )\n",
    "    speaker: chooses(\n",
    "        utterance in Responses,\n",
    "        wpp=exp(\n",
    "            alpha\n",
    "            * (\n",
    "                w_r * ref_info(audience, utterance)\n",
    "                + w_s * social_info(utterance)\n",
    "            )\n",
    "        ),\n",
    "    )\n",
    "    return Pr[speaker.utterance == utterance]\n"
   ]
  },
  {
   "cell_type": "markdown",
   "metadata": {},
   "source": [
    "## Load data"
   ]
  },
  {
   "cell_type": "code",
   "execution_count": 4,
   "metadata": {},
   "outputs": [
    {
     "data": {
      "text/html": [
       "<div>\n",
       "<style scoped>\n",
       "    .dataframe tbody tr th:only-of-type {\n",
       "        vertical-align: middle;\n",
       "    }\n",
       "\n",
       "    .dataframe tbody tr th {\n",
       "        vertical-align: top;\n",
       "    }\n",
       "\n",
       "    .dataframe thead th {\n",
       "        text-align: right;\n",
       "    }\n",
       "</style>\n",
       "<table border=\"1\" class=\"dataframe\">\n",
       "  <thead>\n",
       "    <tr style=\"text-align: right;\">\n",
       "      <th></th>\n",
       "      <th>subject_id</th>\n",
       "      <th>item_id</th>\n",
       "      <th>counterbalance</th>\n",
       "      <th>condition</th>\n",
       "      <th>audience_group</th>\n",
       "      <th>shared.tangram</th>\n",
       "      <th>unique.tangram</th>\n",
       "      <th>response.unique</th>\n",
       "    </tr>\n",
       "  </thead>\n",
       "  <tbody>\n",
       "    <tr>\n",
       "      <th>0</th>\n",
       "      <td>32503cf8-82cd-4aea-b515-9b247c56f89c</td>\n",
       "      <td>0</td>\n",
       "      <td>b</td>\n",
       "      <td>social one</td>\n",
       "      <td>red</td>\n",
       "      <td>H</td>\n",
       "      <td>L</td>\n",
       "      <td>1</td>\n",
       "    </tr>\n",
       "    <tr>\n",
       "      <th>1</th>\n",
       "      <td>32503cf8-82cd-4aea-b515-9b247c56f89c</td>\n",
       "      <td>0</td>\n",
       "      <td>b</td>\n",
       "      <td>refer one</td>\n",
       "      <td>red</td>\n",
       "      <td>D</td>\n",
       "      <td>L</td>\n",
       "      <td>1</td>\n",
       "    </tr>\n",
       "    <tr>\n",
       "      <th>2</th>\n",
       "      <td>32503cf8-82cd-4aea-b515-9b247c56f89c</td>\n",
       "      <td>0</td>\n",
       "      <td>b</td>\n",
       "      <td>refer one</td>\n",
       "      <td>blue</td>\n",
       "      <td>A</td>\n",
       "      <td>L</td>\n",
       "      <td>0</td>\n",
       "    </tr>\n",
       "    <tr>\n",
       "      <th>3</th>\n",
       "      <td>32503cf8-82cd-4aea-b515-9b247c56f89c</td>\n",
       "      <td>0</td>\n",
       "      <td>b</td>\n",
       "      <td>refer either</td>\n",
       "      <td>red</td>\n",
       "      <td>A</td>\n",
       "      <td>B</td>\n",
       "      <td>0</td>\n",
       "    </tr>\n",
       "    <tr>\n",
       "      <th>4</th>\n",
       "      <td>32503cf8-82cd-4aea-b515-9b247c56f89c</td>\n",
       "      <td>0</td>\n",
       "      <td>b</td>\n",
       "      <td>social one</td>\n",
       "      <td>red</td>\n",
       "      <td>A</td>\n",
       "      <td>L</td>\n",
       "      <td>1</td>\n",
       "    </tr>\n",
       "  </tbody>\n",
       "</table>\n",
       "</div>"
      ],
      "text/plain": [
       "                             subject_id  item_id counterbalance     condition  \\\n",
       "0  32503cf8-82cd-4aea-b515-9b247c56f89c        0              b    social one   \n",
       "1  32503cf8-82cd-4aea-b515-9b247c56f89c        0              b     refer one   \n",
       "2  32503cf8-82cd-4aea-b515-9b247c56f89c        0              b     refer one   \n",
       "3  32503cf8-82cd-4aea-b515-9b247c56f89c        0              b  refer either   \n",
       "4  32503cf8-82cd-4aea-b515-9b247c56f89c        0              b    social one   \n",
       "\n",
       "  audience_group shared.tangram unique.tangram  response.unique  \n",
       "0            red              H              L                1  \n",
       "1            red              D              L                1  \n",
       "2           blue              A              L                0  \n",
       "3            red              A              B                0  \n",
       "4            red              A              L                1  "
      ]
     },
     "execution_count": 4,
     "metadata": {},
     "output_type": "execute_result"
    }
   ],
   "source": [
    "data = pd.read_csv(\"../data/3pp/shared-unique/selection_trials_clean.csv\")\n",
    "data.replace({\"response.unique\": {\"shared\": Responses.shared, \"unique\": Responses.unique}}, inplace=True)\n",
    "data[\"response.unique\"] = data[\"response.unique\"].astype(int)\n",
    "\n",
    "data.head()"
   ]
  },
  {
   "cell_type": "markdown",
   "metadata": {},
   "source": [
    "Make a jax array for each condition"
   ]
  },
  {
   "cell_type": "code",
   "execution_count": 5,
   "metadata": {},
   "outputs": [],
   "source": [
    "refer_either_mask = data[\"condition\"] == \"refer either\"\n",
    "refer_one_mask = data[\"condition\"] == \"refer one\"\n",
    "social_one_mask = data[\"condition\"] == \"social one\"\n",
    "\n",
    "refer_either_responses = jnp.array(data[refer_either_mask][\"response.unique\"].values)\n",
    "refer_one_responses = jnp.array(data[refer_one_mask][\"response.unique\"].values)\n",
    "social_one_responses = jnp.array(data[social_one_mask][\"response.unique\"].values)"
   ]
  },
  {
   "cell_type": "markdown",
   "metadata": {},
   "source": [
    "## Predict"
   ]
  },
  {
   "cell_type": "markdown",
   "metadata": {},
   "source": [
    "Define speaker functions"
   ]
  },
  {
   "cell_type": "code",
   "execution_count": 6,
   "metadata": {},
   "outputs": [],
   "source": [
    "@jax.jit\n",
    "def speaker_refer_either(data, w_r, w_s): \n",
    "    return speaker(\n",
    "        audience_condition=AudienceConditions.either,\n",
    "        alpha=1,\n",
    "        w_r=w_r,\n",
    "        w_s=0\n",
    "    )[1, 0]\n",
    "\n",
    "@jax.jit\n",
    "def speaker_refer_one(data, w_r, w_s): \n",
    "    return speaker(\n",
    "        audience_condition=AudienceConditions.one,\n",
    "        alpha=1,\n",
    "        w_r=w_r,\n",
    "        w_s=0\n",
    "    )[1, 0]\n",
    "\n",
    "@jax.jit\n",
    "def speaker_social_one(data, w_r, w_s): \n",
    "    return speaker(\n",
    "        audience_condition=AudienceConditions.one,\n",
    "        alpha=1,\n",
    "        w_r=0,\n",
    "        w_s=w_s\n",
    "    )[1, 0]\n",
    "\n",
    "speaker_refer_either_vmap = jax.vmap(speaker_refer_either, in_axes=(0, None, None))\n",
    "speaker_refer_one_vmap = jax.vmap(speaker_refer_one, in_axes=(0, None, None))\n",
    "speaker_social_one_vmap = jax.vmap(speaker_social_one, in_axes=(0, None, None))"
   ]
  },
  {
   "cell_type": "markdown",
   "metadata": {},
   "source": [
    "Compute preds"
   ]
  },
  {
   "cell_type": "code",
   "execution_count": 7,
   "metadata": {},
   "outputs": [],
   "source": [
    "class ModelTypes(IntEnum):\n",
    "    base = 0\n",
    "    social = 1\n",
    "# later: move this into utils"
   ]
  },
  {
   "cell_type": "code",
   "execution_count": 8,
   "metadata": {},
   "outputs": [],
   "source": [
    "@jax.jit\n",
    "def predict_all(model_type, w_r, w_s): \n",
    "    # Note that the responses data isn't actually used here, it's just to get the shape of the data\n",
    "    preds_refer_either = speaker_refer_either_vmap(refer_either_responses, w_r, w_s)\n",
    "    preds_refer_one = speaker_refer_one_vmap(refer_one_responses, w_r, w_s)\n",
    "    preds_social_one = jax.lax.cond(\n",
    "        model_type == ModelTypes.base,\n",
    "        lambda _: speaker_refer_one_vmap(social_one_responses, w_r, w_s),\n",
    "        lambda _: speaker_social_one_vmap(social_one_responses, w_r, w_s),\n",
    "        operand=None,\n",
    "    )\n",
    "    return preds_refer_either, preds_refer_one, preds_social_one\n",
    "\n",
    "\n",
    "\n",
    "@jax.jit\n",
    "def compute_NLL_all(model_type, refer_either_responses, refer_one_responses, social_one_responses, w_r, w_s):\n",
    "    preds_refer_either, preds_refer_one, preds_social_one = predict_all(model_type, w_r, w_s)\n",
    "    NLL_refer_either = utils.compute_NLL(preds_refer_either, refer_either_responses)\n",
    "    NLL_refer_one = utils.compute_NLL(preds_refer_one, refer_one_responses)\n",
    "    NLL_social_one = utils.compute_NLL(preds_social_one, social_one_responses)\n",
    "    return NLL_refer_either + NLL_refer_one + NLL_social_one"
   ]
  },
  {
   "cell_type": "markdown",
   "metadata": {},
   "source": [
    "Fit params"
   ]
  },
  {
   "cell_type": "code",
   "execution_count": 9,
   "metadata": {},
   "outputs": [],
   "source": [
    "def fit_params(\n",
    "    model_type,\n",
    "    initial_params,\n",
    "    refer_either_responses,\n",
    "    refer_one_responses,\n",
    "    social_one_responses,\n",
    "    lr=0.001,\n",
    "    tol=1e-6,\n",
    "    max_steps=10000,\n",
    "):\n",
    "    def loss_fn(params):\n",
    "        return compute_NLL_all(\n",
    "            model_type,\n",
    "            refer_either_responses,\n",
    "            refer_one_responses,\n",
    "            social_one_responses,\n",
    "            params[0],\n",
    "            params[1]\n",
    "        )\n",
    "\n",
    "    grad_fn = jax.value_and_grad(loss_fn)\n",
    "    params = jnp.array(initial_params, dtype=jnp.float32)\n",
    "    optimizer = optax.adam(learning_rate=lr)\n",
    "    opt_state = optimizer.init(params)\n",
    "\n",
    "    prev_nll = None\n",
    "    for step in range(max_steps):\n",
    "        nll_value, nll_grads = grad_fn(params)\n",
    "        updates, opt_state = optimizer.update(nll_grads, opt_state)\n",
    "        params = optax.apply_updates(params, updates)\n",
    "        # ensure all params are positive\n",
    "        params = params.at[:].set(jnp.clip(params[:], 0, jnp.inf))\n",
    "\n",
    "        if step % 100 == 0:\n",
    "            print(f\"Step {step}, NLL value: {nll_value}, Params: {params}\")\n",
    "\n",
    "        if prev_nll is not None and abs(nll_value - prev_nll) < tol:\n",
    "            print(f\"Converged at step {step} with NLL={nll_value}\")\n",
    "            break\n",
    "\n",
    "        prev_nll = nll_value\n",
    "\n",
    "    best_nll = loss_fn(params)\n",
    "    return params, best_nll"
   ]
  },
  {
   "cell_type": "code",
   "execution_count": 10,
   "metadata": {},
   "outputs": [
    {
     "name": "stdout",
     "output_type": "stream",
     "text": [
      "Step 0, NLL value: 2326.683349609375, Params: [1.001 0.   ]\n",
      "Step 100, NLL value: 2320.54736328125, Params: [1.0990986 0.       ]\n",
      "Step 200, NLL value: 2315.33056640625, Params: [1.1921189 0.       ]\n",
      "Step 300, NLL value: 2310.8916015625, Params: [1.2802635 0.       ]\n",
      "Step 400, NLL value: 2307.10400390625, Params: [1.363889 0.      ]\n",
      "Step 500, NLL value: 2303.8603515625, Params: [1.4433398 0.       ]\n",
      "Step 600, NLL value: 2301.07177734375, Params: [1.518945 0.      ]\n",
      "Step 700, NLL value: 2298.6650390625, Params: [1.5910144 0.       ]\n",
      "Step 800, NLL value: 2296.5791015625, Params: [1.6598349 0.       ]\n",
      "Step 900, NLL value: 2294.763427734375, Params: [1.725671 0.      ]\n",
      "Step 1000, NLL value: 2293.1767578125, Params: [1.7887653 0.       ]\n",
      "Step 1100, NLL value: 2291.78466796875, Params: [1.8493394 0.       ]\n",
      "Step 1200, NLL value: 2290.55859375, Params: [1.9075953 0.       ]\n",
      "Step 1300, NLL value: 2289.474365234375, Params: [1.9637166 0.       ]\n",
      "Step 1400, NLL value: 2288.51220703125, Params: [2.0178707 0.       ]\n",
      "Step 1500, NLL value: 2287.6552734375, Params: [2.0702093 0.       ]\n",
      "Step 1600, NLL value: 2286.88916015625, Params: [2.1208706 0.       ]\n",
      "Step 1700, NLL value: 2286.202880859375, Params: [2.1699798 0.       ]\n",
      "Step 1800, NLL value: 2285.586181640625, Params: [2.2176518 0.       ]\n",
      "Step 1900, NLL value: 2285.02978515625, Params: [2.2639904 0.       ]\n",
      "Step 2000, NLL value: 2284.52685546875, Params: [2.3090909 0.       ]\n",
      "Step 2100, NLL value: 2284.070556640625, Params: [2.3530414 0.       ]\n",
      "Step 2200, NLL value: 2283.65625, Params: [2.395921 0.      ]\n",
      "Step 2300, NLL value: 2283.27880859375, Params: [2.437803 0.      ]\n",
      "Step 2400, NLL value: 2282.93408203125, Params: [2.478754 0.      ]\n",
      "Step 2500, NLL value: 2282.61865234375, Params: [2.5188358 0.       ]\n",
      "Step 2600, NLL value: 2282.32958984375, Params: [2.558104 0.      ]\n",
      "Step 2700, NLL value: 2282.064208984375, Params: [2.5966127 0.       ]\n",
      "Step 2800, NLL value: 2281.819580078125, Params: [2.6344092 0.       ]\n",
      "Step 2900, NLL value: 2281.594482421875, Params: [2.6715384 0.       ]\n",
      "Step 3000, NLL value: 2281.386474609375, Params: [2.7080421 0.       ]\n",
      "Step 3100, NLL value: 2281.1943359375, Params: [2.743957 0.      ]\n",
      "Step 3200, NLL value: 2281.01611328125, Params: [2.779319 0.      ]\n",
      "Step 3300, NLL value: 2280.85107421875, Params: [2.8141613 0.       ]\n",
      "Step 3400, NLL value: 2280.697509765625, Params: [2.8485153 0.       ]\n",
      "Step 3500, NLL value: 2280.55517578125, Params: [2.882408 0.      ]\n",
      "Step 3600, NLL value: 2280.42236328125, Params: [2.9158664 0.       ]\n",
      "Step 3700, NLL value: 2280.298583984375, Params: [2.9489152 0.       ]\n",
      "Step 3800, NLL value: 2280.18310546875, Params: [2.981578 0.      ]\n",
      "Step 3900, NLL value: 2280.075439453125, Params: [3.0138767 0.       ]\n",
      "Step 4000, NLL value: 2279.974609375, Params: [3.045831 0.      ]\n",
      "Step 4100, NLL value: 2279.88037109375, Params: [3.0774598 0.       ]\n",
      "Step 4200, NLL value: 2279.791748046875, Params: [3.1087813 0.       ]\n",
      "Step 4300, NLL value: 2279.708740234375, Params: [3.1398115 0.       ]\n",
      "Step 4400, NLL value: 2279.63134765625, Params: [3.1705668 0.       ]\n",
      "Step 4500, NLL value: 2279.55810546875, Params: [3.201062 0.      ]\n",
      "Step 4600, NLL value: 2279.489501953125, Params: [3.2313106 0.       ]\n",
      "Step 4700, NLL value: 2279.425048828125, Params: [3.2613258 0.       ]\n",
      "Step 4800, NLL value: 2279.364013671875, Params: [3.2911208 0.       ]\n",
      "Converged at step 4869 with NLL=2279.32470703125\n"
     ]
    }
   ],
   "source": [
    "best_params_base, best_nll_base = fit_params(\n",
    "    ModelTypes.base,\n",
    "    [1.0, 0],\n",
    "    refer_either_responses,\n",
    "    refer_one_responses,\n",
    "    social_one_responses,\n",
    ")"
   ]
  },
  {
   "cell_type": "code",
   "execution_count": 11,
   "metadata": {},
   "outputs": [
    {
     "name": "stdout",
     "output_type": "stream",
     "text": [
      "Step 0, NLL value: 2355.216796875, Params: [1.001 0.999]\n",
      "Step 100, NLL value: 2334.768798828125, Params: [1.0990986 0.9016833]\n",
      "Step 200, NLL value: 2318.39990234375, Params: [1.1921188 0.8122326]\n",
      "Step 300, NLL value: 2305.6103515625, Params: [1.2802634 0.7315438]\n",
      "Step 400, NLL value: 2295.82861328125, Params: [1.363889  0.6601751]\n",
      "Step 500, NLL value: 2288.482666015625, Params: [1.4433398  0.59847355]\n",
      "Step 600, NLL value: 2283.03076171875, Params: [1.5189451 0.5465019]\n",
      "Step 700, NLL value: 2278.99169921875, Params: [1.5910145 0.5039855]\n",
      "Step 800, NLL value: 2275.9658203125, Params: [1.659835   0.47030228]\n",
      "Step 900, NLL value: 2273.64404296875, Params: [1.7256712  0.44452158]\n",
      "Step 1000, NLL value: 2271.80322265625, Params: [1.7887654  0.42549455]\n",
      "Step 1100, NLL value: 2270.2919921875, Params: [1.8493395  0.41197345]\n",
      "Step 1200, NLL value: 2269.0146484375, Params: [1.9075954 0.4027325]\n",
      "Step 1300, NLL value: 2267.90966796875, Params: [1.9637165  0.39666376]\n",
      "Step 1400, NLL value: 2266.939697265625, Params: [2.0178704  0.39283815]\n",
      "Step 1500, NLL value: 2266.080078125, Params: [2.070209   0.39052564]\n",
      "Step 1600, NLL value: 2265.313720703125, Params: [2.1208704  0.38918695]\n",
      "Step 1700, NLL value: 2264.626953125, Params: [2.1699796  0.38844585]\n",
      "Step 1800, NLL value: 2264.010009765625, Params: [2.2176516  0.38805437]\n",
      "Step 1900, NLL value: 2263.45361328125, Params: [2.2639902  0.38785723]\n",
      "Step 2000, NLL value: 2262.95068359375, Params: [2.3090906 0.3877629]\n",
      "Step 2100, NLL value: 2262.49462890625, Params: [2.3530412 0.3877201]\n",
      "Step 2200, NLL value: 2262.080078125, Params: [2.3959208  0.38770178]\n",
      "Step 2300, NLL value: 2261.702392578125, Params: [2.437803  0.3876942]\n",
      "Step 2400, NLL value: 2261.35791015625, Params: [2.478754   0.38769123]\n",
      "Step 2500, NLL value: 2261.04248046875, Params: [2.5188358 0.3876912]\n",
      "Step 2600, NLL value: 2260.75341796875, Params: [2.558104  0.3876912]\n",
      "Step 2700, NLL value: 2260.488037109375, Params: [2.5966127 0.3876912]\n",
      "Step 2800, NLL value: 2260.243408203125, Params: [2.6344094 0.3876911]\n",
      "Step 2900, NLL value: 2260.018310546875, Params: [2.6715386 0.3876911]\n",
      "Step 3000, NLL value: 2259.810302734375, Params: [2.7080424 0.3876911]\n",
      "Step 3100, NLL value: 2259.6181640625, Params: [2.7439573 0.3876911]\n",
      "Step 3200, NLL value: 2259.43994140625, Params: [2.7793193 0.3876909]\n",
      "Step 3300, NLL value: 2259.27490234375, Params: [2.8141615 0.3876909]\n",
      "Step 3400, NLL value: 2259.121337890625, Params: [2.8485155 0.3876909]\n",
      "Step 3500, NLL value: 2258.97900390625, Params: [2.882408  0.3876909]\n",
      "Step 3600, NLL value: 2258.84619140625, Params: [2.9158664  0.38769072]\n",
      "Step 3700, NLL value: 2258.722412109375, Params: [2.9489152  0.38769057]\n",
      "Step 3800, NLL value: 2258.60693359375, Params: [2.981578   0.38769057]\n",
      "Step 3900, NLL value: 2258.499267578125, Params: [3.0138767  0.38769057]\n",
      "Step 4000, NLL value: 2258.3984375, Params: [3.045831   0.38769057]\n",
      "Step 4100, NLL value: 2258.303955078125, Params: [3.0774598  0.38769057]\n",
      "Step 4200, NLL value: 2258.215576171875, Params: [3.1087813  0.38769057]\n",
      "Step 4300, NLL value: 2258.132568359375, Params: [3.1398115  0.38769057]\n",
      "Step 4400, NLL value: 2258.054931640625, Params: [3.1705668  0.38769057]\n",
      "Step 4500, NLL value: 2257.98193359375, Params: [3.201062   0.38769057]\n",
      "Step 4600, NLL value: 2257.913330078125, Params: [3.2313106  0.38769057]\n",
      "Step 4700, NLL value: 2257.848876953125, Params: [3.2613258  0.38769057]\n",
      "Step 4800, NLL value: 2257.787841796875, Params: [3.2911208  0.38769057]\n",
      "Step 4900, NLL value: 2257.73095703125, Params: [3.3207061  0.38769057]\n",
      "Converged at step 4952 with NLL=2257.70263671875\n"
     ]
    }
   ],
   "source": [
    "best_params_social, best_nll_social = fit_params(\n",
    "    ModelTypes.social,\n",
    "    [1, 1],\n",
    "    refer_either_responses,\n",
    "    refer_one_responses,\n",
    "    social_one_responses,\n",
    ")"
   ]
  },
  {
   "cell_type": "markdown",
   "metadata": {},
   "source": [
    "Preds with best params"
   ]
  },
  {
   "cell_type": "code",
   "execution_count": 12,
   "metadata": {},
   "outputs": [],
   "source": [
    "preds_refer_either_base, preds_refer_one_base, preds_social_one_base = predict_all(\n",
    "    ModelTypes.base, *best_params_base\n",
    ")\n",
    "\n",
    "preds_refer_either_social, preds_refer_one_social, preds_social_one_social = predict_all(\n",
    "    ModelTypes.social, *best_params_social\n",
    ")"
   ]
  },
  {
   "cell_type": "code",
   "execution_count": 13,
   "metadata": {},
   "outputs": [],
   "source": [
    "preds_df_base = pd.DataFrame(\n",
    "    {\n",
    "        \"condition\": [\"refer either\"] * len(preds_refer_either_base)\n",
    "        + [\"refer one\"] * len(preds_refer_one_base)\n",
    "        + [\"social one\"] * len(preds_social_one_base),\n",
    "        \"p_unique\": np.concatenate(\n",
    "            [preds_refer_either_base, preds_refer_one_base, preds_social_one_base]\n",
    "        ),\n",
    "        \"model\": \"base\"\n",
    "    }\n",
    ")\n",
    "\n",
    "preds_df_social = pd.DataFrame(\n",
    "    {\n",
    "        \"condition\": [\"refer either\"] * len(preds_refer_either_social)\n",
    "        + [\"refer one\"] * len(preds_refer_one_social)\n",
    "        + [\"social one\"] * len(preds_social_one_social),\n",
    "        \"p_unique\": np.concatenate(\n",
    "            [preds_refer_either_social, preds_refer_one_social, preds_social_one_social]\n",
    "        ),\n",
    "        \"model\": \"social\"\n",
    "    }\n",
    ")\n",
    "\n",
    "preds_df = pd.concat([preds_df_base, preds_df_social])\n",
    "preds_df = preds_df.drop_duplicates()\n",
    "# save to csv\n",
    "preds_df.to_csv(\"preds-3pp-red-blue-shared-unique.csv\", index=False)"
   ]
  },
  {
   "cell_type": "code",
   "execution_count": 14,
   "metadata": {},
   "outputs": [
    {
     "data": {
      "text/html": [
       "<div>\n",
       "<style scoped>\n",
       "    .dataframe tbody tr th:only-of-type {\n",
       "        vertical-align: middle;\n",
       "    }\n",
       "\n",
       "    .dataframe tbody tr th {\n",
       "        vertical-align: top;\n",
       "    }\n",
       "\n",
       "    .dataframe thead th {\n",
       "        text-align: right;\n",
       "    }\n",
       "</style>\n",
       "<table border=\"1\" class=\"dataframe\">\n",
       "  <thead>\n",
       "    <tr style=\"text-align: right;\">\n",
       "      <th></th>\n",
       "      <th>condition</th>\n",
       "      <th>p_unique</th>\n",
       "      <th>model</th>\n",
       "    </tr>\n",
       "  </thead>\n",
       "  <tbody>\n",
       "    <tr>\n",
       "      <th>0</th>\n",
       "      <td>refer either</td>\n",
       "      <td>0.267588</td>\n",
       "      <td>base</td>\n",
       "    </tr>\n",
       "    <tr>\n",
       "      <th>1170</th>\n",
       "      <td>refer one</td>\n",
       "      <td>0.500000</td>\n",
       "      <td>base</td>\n",
       "    </tr>\n",
       "    <tr>\n",
       "      <th>2340</th>\n",
       "      <td>social one</td>\n",
       "      <td>0.500000</td>\n",
       "      <td>base</td>\n",
       "    </tr>\n",
       "    <tr>\n",
       "      <th>0</th>\n",
       "      <td>refer either</td>\n",
       "      <td>0.267178</td>\n",
       "      <td>social</td>\n",
       "    </tr>\n",
       "    <tr>\n",
       "      <th>1170</th>\n",
       "      <td>refer one</td>\n",
       "      <td>0.500000</td>\n",
       "      <td>social</td>\n",
       "    </tr>\n",
       "    <tr>\n",
       "      <th>2340</th>\n",
       "      <td>social one</td>\n",
       "      <td>0.595727</td>\n",
       "      <td>social</td>\n",
       "    </tr>\n",
       "  </tbody>\n",
       "</table>\n",
       "</div>"
      ],
      "text/plain": [
       "         condition  p_unique   model\n",
       "0     refer either  0.267588    base\n",
       "1170     refer one  0.500000    base\n",
       "2340    social one  0.500000    base\n",
       "0     refer either  0.267178  social\n",
       "1170     refer one  0.500000  social\n",
       "2340    social one  0.595727  social"
      ]
     },
     "execution_count": 14,
     "metadata": {},
     "output_type": "execute_result"
    }
   ],
   "source": [
    "preds_df"
   ]
  },
  {
   "cell_type": "code",
   "execution_count": 15,
   "metadata": {},
   "outputs": [
    {
     "data": {
      "image/png": "[encoded data removed]",
      "text/plain": [
       "<Figure size 1200x600 with 2 Axes>"
      ]
     },
     "metadata": {},
     "output_type": "display_data"
    }
   ],
   "source": [
    "# Create a FacetGrid without hue to control colors\n",
    "g = sns.FacetGrid(\n",
    "    preds_df, col=\"model\", height=6, aspect=1, sharey=True\n",
    ")\n",
    "\n",
    "# Map a point plot to the FacetGrid\n",
    "g.map_dataframe(\n",
    "    sns.pointplot, \n",
    "    x=\"condition\", \n",
    "    y=\"p_unique\", \n",
    "    dodge=True, \n",
    "    markers=\"o\", \n",
    "    linestyles=\"-\", \n",
    ")\n",
    "\n",
    "# Set y-axis limits\n",
    "g.set(ylim=(0, 1))\n",
    "\n",
    "# Add a horizontal dashed line at 0.5\n",
    "for ax in g.axes.flat:\n",
    "    ax.axhline(0.5, ls=\"--\", color=\"gray\")\n",
    "\n",
    "# Set custom titles\n",
    "titles = [\n",
    "    f\"Base model\\nBest params: $w_r={best_params_base[0]:.1f}$\\nBest NLL: {best_nll_base:.2f}\",\n",
    "    f\"Social model\\nBest params: $w_r={best_params_social[0]:.1f}$, $w_s={best_params_social[1]:.1f}$\\nBest NLL: {best_nll_social:.2f}\"\n",
    "]\n",
    "for ax, title in zip(g.axes.flat, titles):\n",
    "    ax.set_title(title)\n",
    "\n",
    "plt.show()"
   ]
  },
  {
   "cell_type": "code",
   "execution_count": 16,
   "metadata": {},
   "outputs": [
    {
     "data": {
      "image/png": "[encoded data removed]",
      "text/plain": [
       "<Figure size 640x480 with 1 Axes>"
      ]
     },
     "metadata": {},
     "output_type": "display_data"
    }
   ],
   "source": [
    "g = sns.pointplot(\n",
    "    data=data,\n",
    "    x=\"condition\",\n",
    "    y=\"response.unique\",\n",
    "    errorbar=\"ci\",\n",
    "    alpha=0.9, \n",
    "    order=[\"refer either\", \"refer one\", \"social one\"], \n",
    ")\n",
    "g.set(ylim=(0, 1), title=\"Data\")\n",
    "g.axhline(0.5, ls=\"--\", color=\"gray\")\n",
    "sns.despine()"
   ]
  },
  {
   "cell_type": "markdown",
   "metadata": {},
   "source": [
    "## LR test"
   ]
  },
  {
   "cell_type": "code",
   "execution_count": 17,
   "metadata": {},
   "outputs": [
    {
     "name": "stdout",
     "output_type": "stream",
     "text": [
      "LR test: χ²(1) = 43.244140625, p = 4.831823829931636e-11\n"
     ]
    }
   ],
   "source": [
    "from scipy.stats import chi2\n",
    "lr_stat = 2 * (best_nll_base - best_nll_social)\n",
    "df = 1\n",
    "p = 1 - chi2.cdf(lr_stat, df)\n",
    "print(f\"LR test: χ²({df}) = {lr_stat}, p = {p}\")"
   ]
  }
 ],
 "metadata": {
  "kernelspec": {
   "display_name": "code-switching",
   "language": "python",
   "name": "python3"
  },
  "language_info": {
   "codemirror_mode": {
    "name": "ipython",
    "version": 3
   },
   "file_extension": ".py",
   "mimetype": "text/x-python",
   "name": "python",
   "nbconvert_exporter": "python",
   "pygments_lexer": "ipython3",
   "version": "3.12.4"
  }
 },
 "nbformat": 4,
 "nbformat_minor": 2
}
