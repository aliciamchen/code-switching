{
 "cells": [
  {
   "cell_type": "markdown",
   "metadata": {},
   "source": [
    "# Choosing between shared and group-specific labels, after observing two groups\n",
    "\n",
    "January 2025"
   ]
  },
  {
   "cell_type": "code",
   "execution_count": 1,
   "metadata": {},
   "outputs": [],
   "source": [
    "import numpy as np\n",
    "import pandas as pd\n",
    "import matplotlib.pyplot as plt\n",
    "import seaborn as sns\n",
    "\n",
    "from memo import memo\n",
    "import jax\n",
    "import jax.numpy as jnp\n",
    "\n",
    "from enum import IntEnum\n",
    "from tqdm import tqdm\n",
    "\n",
    "pd.set_option('future.no_silent_downcasting', True)\n",
    "sns.set_context('talk')"
   ]
  },
  {
   "cell_type": "markdown",
   "metadata": {},
   "source": [
    "## Model"
   ]
  },
  {
   "cell_type": "code",
   "execution_count": 2,
   "metadata": {},
   "outputs": [],
   "source": [
    "class TangramTypes(IntEnum):\n",
    "    shared = 0\n",
    "    unique = 1\n",
    "\n",
    "\n",
    "class Responses(IntEnum):\n",
    "    shared = 0\n",
    "    unique = 1  \n",
    "\n",
    "\n",
    "class AudienceConditions(IntEnum):\n",
    "    either = 0\n",
    "    one = 1\n",
    "\n",
    "\n",
    "class Audiences(IntEnum):\n",
    "    ingroup = 1\n",
    "    outgroup = 0"
   ]
  },
  {
   "cell_type": "code",
   "execution_count": 3,
   "metadata": {},
   "outputs": [],
   "source": [
    "# type: ignore\n",
    "\n",
    "@jax.jit\n",
    "def audience_wpp(audience_condition, audience):\n",
    "    # for the \"either group\" condition, return 1 regardless of audience\n",
    "    # for the \"one group\" condition, return 1 for the ingroup and 0 for the outgroup\n",
    "    return jnp.array([1, audience])[audience_condition]\n",
    "\n",
    "\n",
    "@jax.jit\n",
    "def ref_info(audience, utterance):\n",
    "    ingroup_info = jnp.array([1, 1])  # [shared, group-specific]\n",
    "    outgroup_info = jnp.array([1, 0])\n",
    "\n",
    "    info = jax.lax.cond(\n",
    "        audience == Audiences.ingroup,\n",
    "        lambda _: ingroup_info,\n",
    "        lambda _: outgroup_info,\n",
    "        operand=None,\n",
    "    )\n",
    "\n",
    "    return info[utterance]\n",
    "\n",
    "\n",
    "@jax.jit\n",
    "def social_info(utterance):\n",
    "    return jnp.array([0, 1])[utterance]\n",
    "\n",
    "\n",
    "\n",
    "@memo\n",
    "def speaker[\n",
    "    utterance: Responses, audience: Audiences\n",
    "](audience_condition: AudienceConditions, alpha, w_r, w_s):\n",
    "    cast: [speaker]\n",
    "    speaker: chooses(\n",
    "        audience in Audiences, wpp=audience_wpp(audience_condition, audience)\n",
    "    )\n",
    "    speaker: chooses(\n",
    "        utterance in Responses,\n",
    "        wpp=exp(\n",
    "            alpha\n",
    "            * (\n",
    "                w_r * ref_info(audience, utterance)\n",
    "                + w_s * social_info(utterance)\n",
    "            )\n",
    "        ),\n",
    "    )\n",
    "    return Pr[speaker.utterance == utterance]\n"
   ]
  },
  {
   "cell_type": "markdown",
   "metadata": {},
   "source": [
    "## Load data"
   ]
  },
  {
   "cell_type": "code",
   "execution_count": 4,
   "metadata": {},
   "outputs": [
    {
     "data": {
      "text/html": [
       "<div>\n",
       "<style scoped>\n",
       "    .dataframe tbody tr th:only-of-type {\n",
       "        vertical-align: middle;\n",
       "    }\n",
       "\n",
       "    .dataframe tbody tr th {\n",
       "        vertical-align: top;\n",
       "    }\n",
       "\n",
       "    .dataframe thead th {\n",
       "        text-align: right;\n",
       "    }\n",
       "</style>\n",
       "<table border=\"1\" class=\"dataframe\">\n",
       "  <thead>\n",
       "    <tr style=\"text-align: right;\">\n",
       "      <th></th>\n",
       "      <th>subject_id</th>\n",
       "      <th>item_id</th>\n",
       "      <th>counterbalance</th>\n",
       "      <th>condition</th>\n",
       "      <th>audience_group</th>\n",
       "      <th>shared.tangram</th>\n",
       "      <th>unique.tangram</th>\n",
       "      <th>response.unique</th>\n",
       "    </tr>\n",
       "  </thead>\n",
       "  <tbody>\n",
       "    <tr>\n",
       "      <th>0</th>\n",
       "      <td>32503cf8-82cd-4aea-b515-9b247c56f89c</td>\n",
       "      <td>0</td>\n",
       "      <td>b</td>\n",
       "      <td>social one</td>\n",
       "      <td>red</td>\n",
       "      <td>H</td>\n",
       "      <td>L</td>\n",
       "      <td>1</td>\n",
       "    </tr>\n",
       "    <tr>\n",
       "      <th>1</th>\n",
       "      <td>32503cf8-82cd-4aea-b515-9b247c56f89c</td>\n",
       "      <td>0</td>\n",
       "      <td>b</td>\n",
       "      <td>refer one</td>\n",
       "      <td>red</td>\n",
       "      <td>D</td>\n",
       "      <td>L</td>\n",
       "      <td>1</td>\n",
       "    </tr>\n",
       "    <tr>\n",
       "      <th>2</th>\n",
       "      <td>32503cf8-82cd-4aea-b515-9b247c56f89c</td>\n",
       "      <td>0</td>\n",
       "      <td>b</td>\n",
       "      <td>refer one</td>\n",
       "      <td>blue</td>\n",
       "      <td>A</td>\n",
       "      <td>L</td>\n",
       "      <td>0</td>\n",
       "    </tr>\n",
       "    <tr>\n",
       "      <th>3</th>\n",
       "      <td>32503cf8-82cd-4aea-b515-9b247c56f89c</td>\n",
       "      <td>0</td>\n",
       "      <td>b</td>\n",
       "      <td>refer either</td>\n",
       "      <td>red</td>\n",
       "      <td>A</td>\n",
       "      <td>B</td>\n",
       "      <td>0</td>\n",
       "    </tr>\n",
       "    <tr>\n",
       "      <th>4</th>\n",
       "      <td>32503cf8-82cd-4aea-b515-9b247c56f89c</td>\n",
       "      <td>0</td>\n",
       "      <td>b</td>\n",
       "      <td>social one</td>\n",
       "      <td>red</td>\n",
       "      <td>A</td>\n",
       "      <td>L</td>\n",
       "      <td>1</td>\n",
       "    </tr>\n",
       "  </tbody>\n",
       "</table>\n",
       "</div>"
      ],
      "text/plain": [
       "                             subject_id  item_id counterbalance     condition  \\\n",
       "0  32503cf8-82cd-4aea-b515-9b247c56f89c        0              b    social one   \n",
       "1  32503cf8-82cd-4aea-b515-9b247c56f89c        0              b     refer one   \n",
       "2  32503cf8-82cd-4aea-b515-9b247c56f89c        0              b     refer one   \n",
       "3  32503cf8-82cd-4aea-b515-9b247c56f89c        0              b  refer either   \n",
       "4  32503cf8-82cd-4aea-b515-9b247c56f89c        0              b    social one   \n",
       "\n",
       "  audience_group shared.tangram unique.tangram  response.unique  \n",
       "0            red              H              L                1  \n",
       "1            red              D              L                1  \n",
       "2           blue              A              L                0  \n",
       "3            red              A              B                0  \n",
       "4            red              A              L                1  "
      ]
     },
     "execution_count": 4,
     "metadata": {},
     "output_type": "execute_result"
    }
   ],
   "source": [
    "data = pd.read_csv(\"../data/3pp/shared-unique/selection_trials_clean.csv\")\n",
    "data.replace({\"response.unique\": {\"shared\": Responses.shared, \"unique\": Responses.unique}}, inplace=True)\n",
    "data[\"response.unique\"] = data[\"response.unique\"].astype(int)\n",
    "\n",
    "data.head()"
   ]
  },
  {
   "cell_type": "markdown",
   "metadata": {},
   "source": [
    "Make a jax array for each condition"
   ]
  },
  {
   "cell_type": "code",
   "execution_count": 5,
   "metadata": {},
   "outputs": [],
   "source": [
    "refer_either_mask = data[\"condition\"] == \"refer either\"\n",
    "refer_one_mask = data[\"condition\"] == \"refer one\"\n",
    "social_one_mask = data[\"condition\"] == \"social one\"\n",
    "\n",
    "refer_either_responses = jnp.array(data[refer_either_mask][\"response.unique\"].values)\n",
    "refer_one_responses = jnp.array(data[refer_one_mask][\"response.unique\"].values)\n",
    "social_one_responses = jnp.array(data[social_one_mask][\"response.unique\"].values)"
   ]
  },
  {
   "cell_type": "markdown",
   "metadata": {},
   "source": [
    "## Predict"
   ]
  },
  {
   "cell_type": "markdown",
   "metadata": {},
   "source": [
    "Define speaker functions"
   ]
  },
  {
   "cell_type": "code",
   "execution_count": 6,
   "metadata": {},
   "outputs": [],
   "source": [
    "@jax.jit\n",
    "def speaker_refer_either(data, w_r, w_s): \n",
    "    return speaker(\n",
    "        audience_condition=AudienceConditions.either,\n",
    "        alpha=1,\n",
    "        w_r=w_r,\n",
    "        w_s=0\n",
    "    )[1, 0]\n",
    "\n",
    "@jax.jit\n",
    "def speaker_refer_one(data, w_r, w_s): \n",
    "    return speaker(\n",
    "        audience_condition=AudienceConditions.one,\n",
    "        alpha=1,\n",
    "        w_r=w_r,\n",
    "        w_s=0\n",
    "    )[1, 0]\n",
    "\n",
    "@jax.jit\n",
    "def speaker_social_one(data, w_r, w_s): \n",
    "    return speaker(\n",
    "        audience_condition=AudienceConditions.one,\n",
    "        alpha=1,\n",
    "        w_r=0.1,\n",
    "        w_s=w_s\n",
    "    )[1, 0]\n",
    "\n",
    "speaker_refer_either_vmap = jax.vmap(speaker_refer_either, in_axes=(0, None, None))\n",
    "speaker_refer_one_vmap = jax.vmap(speaker_refer_one, in_axes=(0, None, None))\n",
    "speaker_social_one_vmap = jax.vmap(speaker_social_one, in_axes=(0, None, None))"
   ]
  },
  {
   "cell_type": "markdown",
   "metadata": {},
   "source": [
    "Compute preds"
   ]
  },
  {
   "cell_type": "code",
   "execution_count": 7,
   "metadata": {},
   "outputs": [],
   "source": [
    "class ModelTypes(IntEnum):\n",
    "    base = 0\n",
    "    social = 1\n",
    "# later: move this into utils"
   ]
  },
  {
   "cell_type": "code",
   "execution_count": 8,
   "metadata": {},
   "outputs": [],
   "source": [
    "@jax.jit\n",
    "def predict_all(model_type, w_r, w_s): \n",
    "    # Note that the responses data isn't actually used here, it's just to get the shape of the data\n",
    "    preds_refer_either = speaker_refer_either_vmap(refer_either_responses, w_r, w_s)\n",
    "    preds_refer_one = speaker_refer_one_vmap(refer_one_responses, w_r, w_s)\n",
    "    preds_social_one = jax.lax.cond(\n",
    "        model_type == ModelTypes.base,\n",
    "        lambda _: speaker_refer_one_vmap(social_one_responses, w_r, w_s),\n",
    "        lambda _: speaker_social_one_vmap(social_one_responses, w_r, w_s),\n",
    "        operand=None,\n",
    "    )\n",
    "    return preds_refer_either, preds_refer_one, preds_social_one\n",
    "\n",
    "# move this into utils too\n",
    "@jax.jit\n",
    "def compute_NLL(preds, responses):\n",
    "    eps = 1e-7\n",
    "    preds_clipped = jnp.clip(preds, eps, 1 - eps)\n",
    "    return -jnp.sum(\n",
    "        responses * jnp.log(preds_clipped)\n",
    "        + (1 - responses) * jnp.log(1 - preds_clipped)\n",
    "    )\n",
    "\n",
    "@jax.jit\n",
    "def compute_NLL_all(model_type, refer_either_responses, refer_one_responses, social_one_responses, w_r, w_s):\n",
    "    preds_refer_either, preds_refer_one, preds_social_one = predict_all(model_type, w_r, w_s)\n",
    "    NLL_refer_either = compute_NLL(preds_refer_either, refer_either_responses)\n",
    "    NLL_refer_one = compute_NLL(preds_refer_one, refer_one_responses)\n",
    "    NLL_social_one = compute_NLL(preds_social_one, social_one_responses)\n",
    "    return NLL_refer_either + NLL_refer_one + NLL_social_one"
   ]
  },
  {
   "cell_type": "markdown",
   "metadata": {},
   "source": [
    "Fit params"
   ]
  },
  {
   "cell_type": "code",
   "execution_count": 9,
   "metadata": {},
   "outputs": [],
   "source": [
    "w_rs = np.arange(0, 5, 0.1)\n",
    "w_ss = np.arange(0, 5, 0.1)\n",
    "params_list = [(w_r, w_s) for w_r in w_rs for w_s in w_ss]"
   ]
  },
  {
   "cell_type": "code",
   "execution_count": 10,
   "metadata": {},
   "outputs": [],
   "source": [
    "def fit_params(model_type, params_list, *args):\n",
    "    NLLs = []\n",
    "    for params in tqdm(params_list):\n",
    "        NLL = compute_NLL_all(model_type, *args, *params)\n",
    "        NLLs.append(NLL)\n",
    "\n",
    "    nlls = jnp.array(NLLs)\n",
    "    best_params = params_list[np.argmin(nlls)]\n",
    "    best_nll = jnp.min(nlls)\n",
    "    return best_params, best_nll"
   ]
  },
  {
   "cell_type": "code",
   "execution_count": 11,
   "metadata": {},
   "outputs": [
    {
     "name": "stderr",
     "output_type": "stream",
     "text": [
      "100%|██████████| 2500/2500 [00:00<00:00, 12562.31it/s]\n"
     ]
    },
    {
     "data": {
      "text/plain": [
       "((4.9, 0.0), Array(2278.3213, dtype=float32))"
      ]
     },
     "execution_count": 11,
     "metadata": {},
     "output_type": "execute_result"
    }
   ],
   "source": [
    "best_params_base, best_nll_base = fit_params(\n",
    "    ModelTypes.base,\n",
    "    params_list,\n",
    "    refer_either_responses,\n",
    "    refer_one_responses,\n",
    "    social_one_responses,\n",
    ")\n",
    "best_params_base, best_nll_base"
   ]
  },
  {
   "cell_type": "code",
   "execution_count": 12,
   "metadata": {},
   "outputs": [
    {
     "name": "stderr",
     "output_type": "stream",
     "text": [
      "100%|██████████| 2500/2500 [00:00<00:00, 30877.16it/s]\n"
     ]
    },
    {
     "data": {
      "text/plain": [
       "((4.9, 0.4), Array(2256.7666, dtype=float32))"
      ]
     },
     "execution_count": 12,
     "metadata": {},
     "output_type": "execute_result"
    }
   ],
   "source": [
    "best_params_social, best_nll_social = fit_params(\n",
    "    ModelTypes.social,\n",
    "    params_list,\n",
    "    refer_either_responses,\n",
    "    refer_one_responses,\n",
    "    social_one_responses,\n",
    ")\n",
    "best_params_social, best_nll_social"
   ]
  },
  {
   "cell_type": "markdown",
   "metadata": {},
   "source": [
    "Preds with best params"
   ]
  },
  {
   "cell_type": "code",
   "execution_count": 13,
   "metadata": {},
   "outputs": [],
   "source": [
    "preds_refer_either_base, preds_refer_one_base, preds_social_one_base = predict_all(\n",
    "    ModelTypes.base, *best_params_base\n",
    ")\n",
    "\n",
    "preds_refer_either_social, preds_refer_one_social, preds_social_one_social = predict_all(\n",
    "    ModelTypes.social, *best_params_social\n",
    ")"
   ]
  },
  {
   "cell_type": "markdown",
   "metadata": {},
   "source": [
    "TODO: vectorize so its not scalars (not a big issue though)"
   ]
  },
  {
   "cell_type": "code",
   "execution_count": 14,
   "metadata": {},
   "outputs": [],
   "source": [
    "preds_df_base = pd.DataFrame(\n",
    "    {\n",
    "        \"condition\": [\"refer either\"] * len(preds_refer_either_base)\n",
    "        + [\"refer one\"] * len(preds_refer_one_base)\n",
    "        + [\"social one\"] * len(preds_social_one_base),\n",
    "        \"p_unique\": np.concatenate(\n",
    "            [preds_refer_either_base, preds_refer_one_base, preds_social_one_base]\n",
    "        ),\n",
    "        \"model\": \"base\"\n",
    "    }\n",
    ")\n",
    "\n",
    "preds_df_social = pd.DataFrame(\n",
    "    {\n",
    "        \"condition\": [\"refer either\"] * len(preds_refer_either_social)\n",
    "        + [\"refer one\"] * len(preds_refer_one_social)\n",
    "        + [\"social one\"] * len(preds_social_one_social),\n",
    "        \"p_unique\": np.concatenate(\n",
    "            [preds_refer_either_social, preds_refer_one_social, preds_social_one_social]\n",
    "        ),\n",
    "        \"model\": \"social\"\n",
    "    }\n",
    ")\n",
    "\n",
    "preds_df = pd.concat([preds_df_base, preds_df_social])\n",
    "preds_df = preds_df.drop_duplicates()\n",
    "# save to csv\n",
    "preds_df.to_csv(\"preds-3pp-red-blue-shared-unique.csv\", index=False)"
   ]
  },
  {
   "cell_type": "code",
   "execution_count": 15,
   "metadata": {},
   "outputs": [
    {
     "data": {
      "text/html": [
       "<div>\n",
       "<style scoped>\n",
       "    .dataframe tbody tr th:only-of-type {\n",
       "        vertical-align: middle;\n",
       "    }\n",
       "\n",
       "    .dataframe tbody tr th {\n",
       "        vertical-align: top;\n",
       "    }\n",
       "\n",
       "    .dataframe thead th {\n",
       "        text-align: right;\n",
       "    }\n",
       "</style>\n",
       "<table border=\"1\" class=\"dataframe\">\n",
       "  <thead>\n",
       "    <tr style=\"text-align: right;\">\n",
       "      <th></th>\n",
       "      <th>condition</th>\n",
       "      <th>p_unique</th>\n",
       "      <th>model</th>\n",
       "    </tr>\n",
       "  </thead>\n",
       "  <tbody>\n",
       "    <tr>\n",
       "      <th>0</th>\n",
       "      <td>refer either</td>\n",
       "      <td>0.253696</td>\n",
       "      <td>base</td>\n",
       "    </tr>\n",
       "    <tr>\n",
       "      <th>1170</th>\n",
       "      <td>refer one</td>\n",
       "      <td>0.500000</td>\n",
       "      <td>base</td>\n",
       "    </tr>\n",
       "    <tr>\n",
       "      <th>2340</th>\n",
       "      <td>social one</td>\n",
       "      <td>0.500000</td>\n",
       "      <td>base</td>\n",
       "    </tr>\n",
       "    <tr>\n",
       "      <th>0</th>\n",
       "      <td>refer either</td>\n",
       "      <td>0.253696</td>\n",
       "      <td>social</td>\n",
       "    </tr>\n",
       "    <tr>\n",
       "      <th>1170</th>\n",
       "      <td>refer one</td>\n",
       "      <td>0.500000</td>\n",
       "      <td>social</td>\n",
       "    </tr>\n",
       "    <tr>\n",
       "      <th>2340</th>\n",
       "      <td>social one</td>\n",
       "      <td>0.598688</td>\n",
       "      <td>social</td>\n",
       "    </tr>\n",
       "  </tbody>\n",
       "</table>\n",
       "</div>"
      ],
      "text/plain": [
       "         condition  p_unique   model\n",
       "0     refer either  0.253696    base\n",
       "1170     refer one  0.500000    base\n",
       "2340    social one  0.500000    base\n",
       "0     refer either  0.253696  social\n",
       "1170     refer one  0.500000  social\n",
       "2340    social one  0.598688  social"
      ]
     },
     "execution_count": 15,
     "metadata": {},
     "output_type": "execute_result"
    }
   ],
   "source": [
    "preds_df"
   ]
  },
  {
   "cell_type": "code",
   "execution_count": 16,
   "metadata": {},
   "outputs": [
    {
     "data": {
      "image/png": "[encoded data removed]",
      "text/plain": [
       "<Figure size 1200x600 with 2 Axes>"
      ]
     },
     "metadata": {},
     "output_type": "display_data"
    }
   ],
   "source": [
    "# Create a FacetGrid without hue to control colors\n",
    "g = sns.FacetGrid(\n",
    "    preds_df, col=\"model\", height=6, aspect=1, sharey=True\n",
    ")\n",
    "\n",
    "# Map a point plot to the FacetGrid\n",
    "g.map_dataframe(\n",
    "    sns.pointplot, \n",
    "    x=\"condition\", \n",
    "    y=\"p_unique\", \n",
    "    dodge=True, \n",
    "    markers=\"o\", \n",
    "    linestyles=\"-\", \n",
    ")\n",
    "\n",
    "# Set y-axis limits\n",
    "g.set(ylim=(0, 1))\n",
    "\n",
    "# Add a horizontal dashed line at 0.5\n",
    "for ax in g.axes.flat:\n",
    "    ax.axhline(0.5, ls=\"--\", color=\"gray\")\n",
    "\n",
    "# Set custom titles\n",
    "titles = [\n",
    "    f\"Base model\\nBest params: $w_r={best_params_base[0]:.1f}$\\nBest NLL: {best_nll_base:.2f}\",\n",
    "    f\"Social model\\nBest params: $w_r={best_params_social[0]:.1f}$, $w_s={best_params_social[1]:.1f}$\\nBest NLL: {best_nll_social:.2f}\"\n",
    "]\n",
    "for ax, title in zip(g.axes.flat, titles):\n",
    "    ax.set_title(title)\n",
    "\n",
    "plt.show()"
   ]
  },
  {
   "cell_type": "code",
   "execution_count": 17,
   "metadata": {},
   "outputs": [
    {
     "data": {
      "image/png": "[encoded data removed]",
      "text/plain": [
       "<Figure size 640x480 with 1 Axes>"
      ]
     },
     "metadata": {},
     "output_type": "display_data"
    }
   ],
   "source": [
    "g = sns.pointplot(\n",
    "    data=data,\n",
    "    x=\"condition\",\n",
    "    y=\"response.unique\",\n",
    "    errorbar=\"ci\",\n",
    "    alpha=0.9, \n",
    "    order=[\"refer either\", \"refer one\", \"social one\"], \n",
    ")\n",
    "g.set(ylim=(0, 1), title=\"Data\")\n",
    "g.axhline(0.5, ls=\"--\", color=\"gray\")\n",
    "sns.despine()"
   ]
  },
  {
   "cell_type": "markdown",
   "metadata": {},
   "source": [
    "## LR test"
   ]
  },
  {
   "cell_type": "code",
   "execution_count": 18,
   "metadata": {},
   "outputs": [
    {
     "name": "stdout",
     "output_type": "stream",
     "text": [
      "LR test: χ²(1) = 43.109375, p = 5.176359341163561e-11\n"
     ]
    }
   ],
   "source": [
    "from scipy.stats import chi2\n",
    "lr_stat = 2 * (best_nll_base - best_nll_social)\n",
    "df = 1\n",
    "p = 1 - chi2.cdf(lr_stat, df)\n",
    "print(f\"LR test: χ²({df}) = {lr_stat}, p = {p}\")"
   ]
  }
 ],
 "metadata": {
  "kernelspec": {
   "display_name": "code-switching",
   "language": "python",
   "name": "python3"
  },
  "language_info": {
   "codemirror_mode": {
    "name": "ipython",
    "version": 3
   },
   "file_extension": ".py",
   "mimetype": "text/x-python",
   "name": "python",
   "nbconvert_exporter": "python",
   "pygments_lexer": "ipython3",
   "version": "3.12.4"
  }
 },
 "nbformat": 4,
 "nbformat_minor": 2
}
