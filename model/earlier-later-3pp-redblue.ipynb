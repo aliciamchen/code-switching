{
 "cells": [
  {
   "cell_type": "markdown",
   "metadata": {},
   "source": [
    "# Choosing between earlier and later expressions, given two groups' observed interactions\n",
    "\n",
    "December 2024"
   ]
  },
  {
   "cell_type": "code",
   "execution_count": 15,
   "metadata": {},
   "outputs": [],
   "source": [
    "# import jax\n",
    "# import jax.numpy as jnp\n",
    "# from jax import lax\n",
    "import pandas as pd \n",
    "import matplotlib.pyplot as plt\n",
    "import seaborn as sns\n",
    "from scipy.stats import chi2\n",
    "\n",
    "import data_tools\n",
    "import model_tools\n",
    "\n",
    "from enums import *"
   ]
  },
  {
   "cell_type": "code",
   "execution_count": 2,
   "metadata": {},
   "outputs": [],
   "source": [
    "data = data_tools.get_data()\n",
    "tangram_info = data_tools.get_tangram_info(data)\n",
    "data_organized = data_tools.make_data_matrices(data)\n"
   ]
  },
  {
   "cell_type": "code",
   "execution_count": null,
   "metadata": {},
   "outputs": [],
   "source": [
    "tangram_info"
   ]
  },
  {
   "cell_type": "code",
   "execution_count": 4,
   "metadata": {},
   "outputs": [],
   "source": [
    "best_params_no_social, best_nll_no_social, _ = model_tools.grid_search_nll(data_organized, tangram_info, model_type=\"no_social\")\n",
    "best_params_social, best_nll_social, _ = model_tools.grid_search_nll(data_organized, tangram_info, model_type=\"social\")"
   ]
  },
  {
   "cell_type": "code",
   "execution_count": null,
   "metadata": {},
   "outputs": [],
   "source": [
    "print(f\"Best params no social: {best_params_no_social}\")\n",
    "print(f\"NLL no social: {best_nll_no_social}\")\n",
    "print(f\"Best params social: {best_params_social}\")\n",
    "print(f\"NLL social: {best_nll_social}\")"
   ]
  },
  {
   "cell_type": "markdown",
   "metadata": {},
   "source": [
    "Get model predictions (probability of later utterance)"
   ]
  },
  {
   "cell_type": "code",
   "execution_count": 6,
   "metadata": {},
   "outputs": [],
   "source": [
    "preds_no_social = model_tools.get_model_preds(*best_params_no_social)\n",
    "preds_social = model_tools.get_model_preds(*best_params_social)"
   ]
  },
  {
   "cell_type": "markdown",
   "metadata": {},
   "source": [
    "Put the model predictions in a dataframe"
   ]
  },
  {
   "cell_type": "code",
   "execution_count": null,
   "metadata": {},
   "outputs": [],
   "source": [
    "# Put it in a dataframe\n",
    "df_preds = pd.DataFrame(columns=[\"type\", \"condition\", \"tangram_type\", \"p_earlier\"])\n",
    "rows = []\n",
    "for condition in Conditions:\n",
    "    for tangram_type in TangramTypes:\n",
    "        rows.append(\n",
    "            {\n",
    "                \"type\": \"no_social\",\n",
    "                \"condition\": condition.name,\n",
    "                \"tangram_type\": tangram_type.name,\n",
    "                \"p_earlier\": 1 - preds_no_social[condition, tangram_type],\n",
    "            }\n",
    "        )\n",
    "\n",
    "for condition in Conditions:\n",
    "    for tangram_type in TangramTypes:\n",
    "        rows.append(\n",
    "            {\n",
    "                \"type\": \"social\",\n",
    "                \"condition\": condition.name,\n",
    "                \"tangram_type\": tangram_type.name,\n",
    "                \"p_earlier\": 1 - preds_social[condition, tangram_type],\n",
    "            }\n",
    "        )\n",
    "\n",
    "df_preds = pd.concat([df_preds, pd.DataFrame(rows)], ignore_index=True)\n",
    "\n",
    "# remove jax stuff\n",
    "df_preds[\"p_earlier\"] = df_preds[\"p_earlier\"].apply(lambda x: x.item())\n",
    "df_preds"
   ]
  },
  {
   "cell_type": "markdown",
   "metadata": {},
   "source": [
    "Plot"
   ]
  },
  {
   "cell_type": "code",
   "execution_count": null,
   "metadata": {},
   "outputs": [],
   "source": [
    "g = sns.catplot(\n",
    "    data=df_preds,\n",
    "    x=\"condition\",\n",
    "    y=\"p_earlier\",\n",
    "    hue=\"tangram_type\",\n",
    "    col=\"type\",\n",
    "    kind=\"point\",\n",
    "    height=6,\n",
    "    aspect=1,\n",
    "    palette=\"colorblind\",\n",
    "    dodge=0.1,\n",
    "    alpha=0.6,\n",
    "    linestyle=\"none\",\n",
    ")\n",
    "\n",
    "g.set(ylim=(0, 1))\n",
    "for ax in g.axes.flat:\n",
    "    ax.axhline(0.5, ls=\"--\", color=\"gray\")\n",
    "\n",
    "# add an extra title to each of the plots\n",
    "titles = [\n",
    "    \"No social utility\\nBest: $\\\\alpha=1$, $w_r=1.9$, $w_c=0.7$\\nNLL: 1413.0602\",\n",
    "    \"Social utility only on 'one social'\\nBest: $\\\\alpha=0.5$, $w_r=3.4$, $w_s=0.5$, $w_c=1.2$\\nNLL: 1410.3212\",\n",
    "]\n",
    "for ax, title in zip(g.axes.flat, titles):\n",
    "    ax.set_title(title)  # add padding to the title\n",
    "plt.show()"
   ]
  },
  {
   "cell_type": "markdown",
   "metadata": {},
   "source": [
    "Do likelihood ratio test"
   ]
  },
  {
   "cell_type": "code",
   "execution_count": null,
   "metadata": {},
   "outputs": [],
   "source": [
    "# Test statistic\n",
    "lr_stat = 2 * (best_nll_no_social - best_nll_social)\n",
    "\n",
    "# Degrees of freedom: number of additional parameters in the \"social\" model\n",
    "df = 1  # w_s is the additional parameter\n",
    "\n",
    "p_value = chi2.sf(lr_stat, df)\n",
    "\n",
    "print(f\"Likelihood Ratio Test Statistic: {lr_stat}\")\n",
    "print(f\"Degrees of Freedom: {df}\")\n",
    "print(f\"P-value: {p_value}\")"
   ]
  }
 ],
 "metadata": {
  "kernelspec": {
   "display_name": "code-switching",
   "language": "python",
   "name": "python3"
  },
  "language_info": {
   "codemirror_mode": {
    "name": "ipython",
    "version": 3
   },
   "file_extension": ".py",
   "mimetype": "text/x-python",
   "name": "python",
   "nbconvert_exporter": "python",
   "pygments_lexer": "ipython3",
   "version": "3.12.4"
  }
 },
 "nbformat": 4,
 "nbformat_minor": 2
}
