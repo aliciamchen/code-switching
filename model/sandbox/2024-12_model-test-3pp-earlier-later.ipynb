{
 "cells": [
  {
   "cell_type": "markdown",
   "metadata": {},
   "source": [
    "# Earlier-later experiment\n",
    "\n",
    "Dec 2024\n",
    "\n",
    "Sanity check, plugging in numbers for each of the trials/conditions\n",
    "\n",
    "Participants choose between two utterances that are both understood by the audience: an earlier longer utterance, or a later shorter utterance. "
   ]
  },
  {
   "cell_type": "code",
   "execution_count": 1,
   "metadata": {},
   "outputs": [],
   "source": [
    "import numpy as np\n",
    "import pandas as pd\n",
    "import matplotlib.pyplot as plt\n",
    "import seaborn as sns\n",
    "\n",
    "from memo import memo\n",
    "import jax\n",
    "import jax.numpy as jnp\n",
    "from jax import lax\n",
    "from enum import IntEnum"
   ]
  },
  {
   "cell_type": "markdown",
   "metadata": {},
   "source": [
    "Choosing between an earlier+longer and a later+shorter utterance\n",
    "\n",
    "The conditions: \n",
    "- refer + either \n",
    "- refer + one\n",
    "- social + one"
   ]
  },
  {
   "cell_type": "code",
   "execution_count": 2,
   "metadata": {},
   "outputs": [],
   "source": [
    "class Utterances(IntEnum):\n",
    "    Earlier = 0\n",
    "    Later = 1\n",
    "\n",
    "\n",
    "class Audiences(IntEnum):\n",
    "    Ingroup = 0\n",
    "    Naive = 1\n",
    "\n",
    "\n",
    "class TangramTypes(IntEnum):\n",
    "    Shared = 0\n",
    "    NonShared = 1\n",
    "\n",
    "\n",
    "@jax.jit\n",
    "def is_ingroup(audience):\n",
    "    return audience == Audiences.Ingroup\n",
    "\n",
    "\n",
    "@jax.jit\n",
    "def base_info(tangram_type, audience, utt):\n",
    "    naive_info_shared = jnp.array(\n",
    "        [0.8, 0.8]\n",
    "    )  # for 'shared' tangram type, the later utterance has higher referential informativity\n",
    "    naive_info_non_shared = jnp.array([0.8, 0.6])\n",
    "    ingroup_info = jnp.array(\n",
    "        [0.85, 0.85]\n",
    "    )  # later utterance has higher referential informativity to ingroup\n",
    "\n",
    "    naive_info = lax.cond(\n",
    "        tangram_type == TangramTypes.Shared,\n",
    "        lambda _: naive_info_shared,\n",
    "        lambda _: naive_info_non_shared,\n",
    "        operand=None,\n",
    "    )\n",
    "\n",
    "    info = lax.cond(\n",
    "        audience == Audiences.Naive,\n",
    "        lambda _: naive_info,\n",
    "        lambda _: ingroup_info,\n",
    "        operand=None,\n",
    "    )\n",
    "    return info[utt]\n",
    "\n",
    "\n",
    "@jax.jit\n",
    "def utt_length(utt):\n",
    "    return jnp.array([15, 2])[utt]\n",
    "\n",
    "\n",
    "@jax.jit\n",
    "def social_info(utt):\n",
    "    # later utterance has higher social informativity\n",
    "    return jnp.array([0.1, 0.6])[utt]"
   ]
  },
  {
   "cell_type": "code",
   "execution_count": 3,
   "metadata": {},
   "outputs": [],
   "source": [
    "# type: ignore\n",
    "@memo\n",
    "def S_certain[u: Utterances, audience: Audiences](tangram_type, alpha, w_r, w_s, w_c):\n",
    "    cast: [speaker]\n",
    "    speaker: chooses(audience in Audiences, wpp=is_ingroup(audience))\n",
    "    speaker: chooses(\n",
    "        u in Utterances,\n",
    "        wpp=exp(\n",
    "            alpha * (w_r * base_info(tangram_type, audience, u) + w_s * social_info(u) - w_c * utt_length(u))\n",
    "        ),\n",
    "    )\n",
    "    return Pr[speaker.u == u]\n",
    "\n",
    "\n",
    "@memo\n",
    "def S_uncertain[u: Utterances, audience: Audiences](tangram_type, alpha, w_r, w_s, w_c):\n",
    "    cast: [speaker]\n",
    "    speaker: chooses(audience in Audiences, wpp=1)\n",
    "    speaker: chooses(\n",
    "        u in Utterances,\n",
    "        wpp=exp(\n",
    "            alpha * (w_r * base_info(tangram_type, audience, u) + w_s * social_info(u) - w_c * utt_length(u))\n",
    "        ),\n",
    "    )\n",
    "    return Pr[speaker.u == u]"
   ]
  },
  {
   "cell_type": "markdown",
   "metadata": {},
   "source": [
    "Generate predictions"
   ]
  },
  {
   "cell_type": "code",
   "execution_count": 4,
   "metadata": {},
   "outputs": [
    {
     "name": "stderr",
     "output_type": "stream",
     "text": [
      "/var/folders/fc/814yph2s11jgjvdqqz2x9w0c0000gn/T/ipykernel_21602/4041458629.py:3: FutureWarning: The behavior of DataFrame concatenation with empty or all-NA entries is deprecated. In a future version, this will no longer exclude empty or all-NA columns when determining the result dtypes. To retain the old behavior, exclude the relevant entries before the concat operation.\n",
      "  df = pd.concat([\n"
     ]
    }
   ],
   "source": [
    "alpha = 2 \n",
    "df = pd.DataFrame(columns=[\"condition\", \"tangram_type\", \"earlier\"])\n",
    "df = pd.concat([\n",
    "    df, \n",
    "    pd.DataFrame({\n",
    "        \"condition\": \"refer+either\",\n",
    "        \"tangram_type\": \"shared\",\n",
    "        \"earlier\": np.array(S_uncertain(tangram_type=TangramTypes.Shared, alpha=alpha, w_r=1, w_s=0, w_c=0.01))[0]\n",
    "    }), \n",
    "    pd.DataFrame({\n",
    "        \"condition\": \"refer+either\",\n",
    "        \"tangram_type\": \"group-specific\",\n",
    "        \"earlier\": np.array(S_uncertain(tangram_type=TangramTypes.NonShared, alpha=alpha, w_r=1, w_s=0, w_c=0.01))[0]\n",
    "    }),\n",
    "    pd.DataFrame({\n",
    "        \"condition\": \"refer+one\",\n",
    "        \"tangram_type\": \"shared\",\n",
    "        \"earlier\": np.array(S_certain(tangram_type=TangramTypes.Shared, alpha=alpha, w_r=1, w_s=0.5, w_c=0.01))[0]\n",
    "    }),\n",
    "    pd.DataFrame({\n",
    "        \"condition\": \"refer+one\",\n",
    "        \"tangram_type\": \"group-specific\",\n",
    "        \"earlier\": np.array(S_certain(tangram_type=TangramTypes.NonShared, alpha=alpha, w_r=1, w_s=0.5, w_c=0.01))[0]\n",
    "    }),\n",
    "    pd.DataFrame({\n",
    "        \"condition\": \"social+one\",\n",
    "        \"tangram_type\": \"shared\",\n",
    "        \"earlier\": np.array(S_certain(tangram_type=TangramTypes.Shared, alpha=alpha, w_r=0, w_s=1, w_c=0.01))[0]\n",
    "    }),\n",
    "    pd.DataFrame({\n",
    "        \"condition\": \"social+one\",\n",
    "        \"tangram_type\": \"group-specific\",\n",
    "        \"earlier\": np.array(S_certain(tangram_type=TangramTypes.NonShared, alpha=alpha, w_r=0, w_s=1, w_c=0.01))[0]\n",
    "    })\n",
    "])"
   ]
  },
  {
   "cell_type": "code",
   "execution_count": 5,
   "metadata": {},
   "outputs": [
    {
     "data": {
      "text/html": [
       "<div>\n",
       "<style scoped>\n",
       "    .dataframe tbody tr th:only-of-type {\n",
       "        vertical-align: middle;\n",
       "    }\n",
       "\n",
       "    .dataframe tbody tr th {\n",
       "        vertical-align: top;\n",
       "    }\n",
       "\n",
       "    .dataframe thead th {\n",
       "        text-align: right;\n",
       "    }\n",
       "</style>\n",
       "<table border=\"1\" class=\"dataframe\">\n",
       "  <thead>\n",
       "    <tr style=\"text-align: right;\">\n",
       "      <th></th>\n",
       "      <th>condition</th>\n",
       "      <th>tangram_type</th>\n",
       "      <th>earlier</th>\n",
       "    </tr>\n",
       "  </thead>\n",
       "  <tbody>\n",
       "    <tr>\n",
       "      <th>0</th>\n",
       "      <td>refer+either</td>\n",
       "      <td>shared</td>\n",
       "      <td>0.435364</td>\n",
       "    </tr>\n",
       "    <tr>\n",
       "      <th>0</th>\n",
       "      <td>refer+either</td>\n",
       "      <td>group-specific</td>\n",
       "      <td>0.485153</td>\n",
       "    </tr>\n",
       "    <tr>\n",
       "      <th>0</th>\n",
       "      <td>refer+one</td>\n",
       "      <td>shared</td>\n",
       "      <td>0.318646</td>\n",
       "    </tr>\n",
       "    <tr>\n",
       "      <th>0</th>\n",
       "      <td>refer+one</td>\n",
       "      <td>group-specific</td>\n",
       "      <td>0.318646</td>\n",
       "    </tr>\n",
       "    <tr>\n",
       "      <th>0</th>\n",
       "      <td>social+one</td>\n",
       "      <td>shared</td>\n",
       "      <td>0.220974</td>\n",
       "    </tr>\n",
       "    <tr>\n",
       "      <th>0</th>\n",
       "      <td>social+one</td>\n",
       "      <td>group-specific</td>\n",
       "      <td>0.220974</td>\n",
       "    </tr>\n",
       "  </tbody>\n",
       "</table>\n",
       "</div>"
      ],
      "text/plain": [
       "      condition    tangram_type   earlier\n",
       "0  refer+either          shared  0.435364\n",
       "0  refer+either  group-specific  0.485153\n",
       "0     refer+one          shared  0.318646\n",
       "0     refer+one  group-specific  0.318646\n",
       "0    social+one          shared  0.220974\n",
       "0    social+one  group-specific  0.220974"
      ]
     },
     "execution_count": 5,
     "metadata": {},
     "output_type": "execute_result"
    }
   ],
   "source": [
    "df"
   ]
  },
  {
   "cell_type": "code",
   "execution_count": 6,
   "metadata": {},
   "outputs": [
    {
     "data": {
      "image/png": "[encoded data removed]",
      "text/plain": [
       "<Figure size 640x480 with 1 Axes>"
      ]
     },
     "metadata": {},
     "output_type": "display_data"
    }
   ],
   "source": [
    "fig, ax = plt.subplots()\n",
    "\n",
    "offset = 0.1\n",
    "unique_conditions = sorted(df['condition'].unique())\n",
    "x_positions = {cond: i for i, cond in enumerate(unique_conditions)}\n",
    "\n",
    "unique_tangram_types = sorted(df['tangram_type'].unique(), reverse=True)\n",
    "\n",
    "for i, key in enumerate(unique_tangram_types):\n",
    "    grp = df[df['tangram_type'] == key]\n",
    "    # Offset x positions for each tangram_type\n",
    "    x_vals = [x_positions[cond] + i * offset - (len(unique_tangram_types) - 1) * offset / 2\n",
    "              for cond in grp['condition']]\n",
    "    ax.scatter(x_vals, grp['earlier'], label=key, s=64)\n",
    "\n",
    "ax.axhline(0.5, color=\"gray\", linestyle=\"--\")\n",
    "ax.set_ylim(0, 1)\n",
    "ax.legend(title='Tangram Type')\n",
    "ax.set_xticks(range(len(unique_conditions)))\n",
    "ax.set_xticklabels(unique_conditions)\n",
    "ax.set_xlabel('Condition')\n",
    "ax.set_ylabel('Earlier label')\n",
    "plt.title(\"full model\")\n",
    "sns.despine()\n",
    "plt.show()"
   ]
  },
  {
   "cell_type": "markdown",
   "metadata": {},
   "source": [
    "## Refer only or social only"
   ]
  },
  {
   "cell_type": "markdown",
   "metadata": {},
   "source": [
    "Refer only: no social utility possible"
   ]
  },
  {
   "cell_type": "code",
   "execution_count": 7,
   "metadata": {},
   "outputs": [
    {
     "name": "stderr",
     "output_type": "stream",
     "text": [
      "/var/folders/fc/814yph2s11jgjvdqqz2x9w0c0000gn/T/ipykernel_21602/2036686450.py:3: FutureWarning: The behavior of DataFrame concatenation with empty or all-NA entries is deprecated. In a future version, this will no longer exclude empty or all-NA columns when determining the result dtypes. To retain the old behavior, exclude the relevant entries before the concat operation.\n",
      "  df = pd.concat([\n"
     ]
    }
   ],
   "source": [
    "alpha = 2 \n",
    "df = pd.DataFrame(columns=[\"condition\", \"tangram_type\", \"earlier\"])\n",
    "df = pd.concat([\n",
    "    df, \n",
    "    pd.DataFrame({\n",
    "        \"condition\": \"refer+either\",\n",
    "        \"tangram_type\": \"shared\",\n",
    "        \"earlier\": np.array(S_uncertain(tangram_type=TangramTypes.Shared, alpha=alpha, w_r=1, w_s=0, w_c=0.01))[0]\n",
    "    }), \n",
    "    pd.DataFrame({\n",
    "        \"condition\": \"refer+either\",\n",
    "        \"tangram_type\": \"group-specific\",\n",
    "        \"earlier\": np.array(S_uncertain(tangram_type=TangramTypes.NonShared, alpha=alpha, w_r=1, w_s=0, w_c=0.01))[0]\n",
    "    }),\n",
    "    pd.DataFrame({\n",
    "        \"condition\": \"refer+one\",\n",
    "        \"tangram_type\": \"shared\",\n",
    "        \"earlier\": np.array(S_certain(tangram_type=TangramTypes.Shared, alpha=alpha, w_r=1, w_s=0, w_c=0.01))[0]\n",
    "    }),\n",
    "    pd.DataFrame({\n",
    "        \"condition\": \"refer+one\",\n",
    "        \"tangram_type\": \"group-specific\",\n",
    "        \"earlier\": np.array(S_certain(tangram_type=TangramTypes.NonShared, alpha=alpha, w_r=1, w_s=0, w_c=0.01))[0]\n",
    "    }),\n",
    "    pd.DataFrame({\n",
    "        \"condition\": \"social+one\",\n",
    "        \"tangram_type\": \"shared\",\n",
    "        \"earlier\": np.array(S_certain(tangram_type=TangramTypes.Shared, alpha=alpha, w_r=0, w_s=0, w_c=0.01))[0]\n",
    "    }),\n",
    "    pd.DataFrame({\n",
    "        \"condition\": \"social+one\",\n",
    "        \"tangram_type\": \"group-specific\",\n",
    "        \"earlier\": np.array(S_certain(tangram_type=TangramTypes.NonShared, alpha=alpha, w_r=0, w_s=0, w_c=0.01))[0]\n",
    "    })\n",
    "])"
   ]
  },
  {
   "cell_type": "code",
   "execution_count": 8,
   "metadata": {},
   "outputs": [
    {
     "data": {
      "text/html": [
       "<div>\n",
       "<style scoped>\n",
       "    .dataframe tbody tr th:only-of-type {\n",
       "        vertical-align: middle;\n",
       "    }\n",
       "\n",
       "    .dataframe tbody tr th {\n",
       "        vertical-align: top;\n",
       "    }\n",
       "\n",
       "    .dataframe thead th {\n",
       "        text-align: right;\n",
       "    }\n",
       "</style>\n",
       "<table border=\"1\" class=\"dataframe\">\n",
       "  <thead>\n",
       "    <tr style=\"text-align: right;\">\n",
       "      <th></th>\n",
       "      <th>condition</th>\n",
       "      <th>tangram_type</th>\n",
       "      <th>earlier</th>\n",
       "    </tr>\n",
       "  </thead>\n",
       "  <tbody>\n",
       "    <tr>\n",
       "      <th>0</th>\n",
       "      <td>refer+either</td>\n",
       "      <td>shared</td>\n",
       "      <td>0.435364</td>\n",
       "    </tr>\n",
       "    <tr>\n",
       "      <th>0</th>\n",
       "      <td>refer+either</td>\n",
       "      <td>group-specific</td>\n",
       "      <td>0.485153</td>\n",
       "    </tr>\n",
       "    <tr>\n",
       "      <th>0</th>\n",
       "      <td>refer+one</td>\n",
       "      <td>shared</td>\n",
       "      <td>0.435364</td>\n",
       "    </tr>\n",
       "    <tr>\n",
       "      <th>0</th>\n",
       "      <td>refer+one</td>\n",
       "      <td>group-specific</td>\n",
       "      <td>0.435364</td>\n",
       "    </tr>\n",
       "    <tr>\n",
       "      <th>0</th>\n",
       "      <td>social+one</td>\n",
       "      <td>shared</td>\n",
       "      <td>0.435364</td>\n",
       "    </tr>\n",
       "    <tr>\n",
       "      <th>0</th>\n",
       "      <td>social+one</td>\n",
       "      <td>group-specific</td>\n",
       "      <td>0.435364</td>\n",
       "    </tr>\n",
       "  </tbody>\n",
       "</table>\n",
       "</div>"
      ],
      "text/plain": [
       "      condition    tangram_type   earlier\n",
       "0  refer+either          shared  0.435364\n",
       "0  refer+either  group-specific  0.485153\n",
       "0     refer+one          shared  0.435364\n",
       "0     refer+one  group-specific  0.435364\n",
       "0    social+one          shared  0.435364\n",
       "0    social+one  group-specific  0.435364"
      ]
     },
     "execution_count": 8,
     "metadata": {},
     "output_type": "execute_result"
    }
   ],
   "source": [
    "df"
   ]
  },
  {
   "cell_type": "code",
   "execution_count": 9,
   "metadata": {},
   "outputs": [
    {
     "data": {
      "image/png": "[encoded data removed]",
      "text/plain": [
       "<Figure size 640x480 with 1 Axes>"
      ]
     },
     "metadata": {},
     "output_type": "display_data"
    }
   ],
   "source": [
    "fig, ax = plt.subplots()\n",
    "\n",
    "offset = 0.1\n",
    "unique_conditions = sorted(df['condition'].unique())\n",
    "x_positions = {cond: i for i, cond in enumerate(unique_conditions)}\n",
    "\n",
    "unique_tangram_types = sorted(df['tangram_type'].unique(), reverse=True)\n",
    "\n",
    "for i, key in enumerate(unique_tangram_types):\n",
    "    grp = df[df['tangram_type'] == key]\n",
    "    # Offset x positions for each tangram_type\n",
    "    x_vals = [x_positions[cond] + i * offset - (len(unique_tangram_types) - 1) * offset / 2\n",
    "              for cond in grp['condition']]\n",
    "    ax.scatter(x_vals, grp['earlier'], label=key, s=64)\n",
    "\n",
    "ax.axhline(0.5, color=\"gray\", linestyle=\"--\")\n",
    "ax.set_ylim(0, 1)\n",
    "ax.legend(title='Tangram Type')\n",
    "ax.set_xticks(range(len(unique_conditions)))\n",
    "ax.set_xticklabels(unique_conditions)\n",
    "ax.set_xlabel('Condition')\n",
    "ax.set_ylabel('Earlier label')\n",
    "plt.title(\"no social informativity\")\n",
    "sns.despine()\n",
    "plt.show()"
   ]
  },
  {
   "cell_type": "markdown",
   "metadata": {},
   "source": [
    "social only"
   ]
  },
  {
   "cell_type": "code",
   "execution_count": 10,
   "metadata": {},
   "outputs": [
    {
     "name": "stderr",
     "output_type": "stream",
     "text": [
      "/var/folders/fc/814yph2s11jgjvdqqz2x9w0c0000gn/T/ipykernel_21602/2794792392.py:3: FutureWarning: The behavior of DataFrame concatenation with empty or all-NA entries is deprecated. In a future version, this will no longer exclude empty or all-NA columns when determining the result dtypes. To retain the old behavior, exclude the relevant entries before the concat operation.\n",
      "  df = pd.concat([\n"
     ]
    }
   ],
   "source": [
    "alpha = 2 \n",
    "df = pd.DataFrame(columns=[\"condition\", \"tangram_type\", \"earlier\"])\n",
    "df = pd.concat([\n",
    "    df, \n",
    "    pd.DataFrame({\n",
    "        \"condition\": \"refer+either\",\n",
    "        \"tangram_type\": \"shared\",\n",
    "        \"earlier\": np.array(S_uncertain(tangram_type=TangramTypes.Shared, alpha=alpha, w_r=0, w_s=0, w_c=0.01))[0]\n",
    "    }), \n",
    "    pd.DataFrame({\n",
    "        \"condition\": \"refer+either\",\n",
    "        \"tangram_type\": \"group-specific\",\n",
    "        \"earlier\": np.array(S_uncertain(tangram_type=TangramTypes.NonShared, alpha=alpha, w_r=0, w_s=0, w_c=0.01))[0]\n",
    "    }),\n",
    "    pd.DataFrame({\n",
    "        \"condition\": \"refer+one\",\n",
    "        \"tangram_type\": \"shared\",\n",
    "        \"earlier\": np.array(S_certain(tangram_type=TangramTypes.Shared, alpha=alpha, w_r=0, w_s=0.5, w_c=0.01))[0]\n",
    "    }),\n",
    "    pd.DataFrame({\n",
    "        \"condition\": \"refer+one\",\n",
    "        \"tangram_type\": \"group-specific\",\n",
    "        \"earlier\": np.array(S_certain(tangram_type=TangramTypes.NonShared, alpha=alpha, w_r=0, w_s=0.5, w_c=0.01))[0]\n",
    "    }),\n",
    "    pd.DataFrame({\n",
    "        \"condition\": \"social+one\",\n",
    "        \"tangram_type\": \"shared\",\n",
    "        \"earlier\": np.array(S_certain(tangram_type=TangramTypes.Shared, alpha=alpha, w_r=0, w_s=1, w_c=0.01))[0]\n",
    "    }),\n",
    "    pd.DataFrame({\n",
    "        \"condition\": \"social+one\",\n",
    "        \"tangram_type\": \"group-specific\",\n",
    "        \"earlier\": np.array(S_certain(tangram_type=TangramTypes.NonShared, alpha=alpha, w_r=0, w_s=1, w_c=0.01))[0]\n",
    "    })\n",
    "])"
   ]
  },
  {
   "cell_type": "code",
   "execution_count": 11,
   "metadata": {},
   "outputs": [
    {
     "data": {
      "text/html": [
       "<div>\n",
       "<style scoped>\n",
       "    .dataframe tbody tr th:only-of-type {\n",
       "        vertical-align: middle;\n",
       "    }\n",
       "\n",
       "    .dataframe tbody tr th {\n",
       "        vertical-align: top;\n",
       "    }\n",
       "\n",
       "    .dataframe thead th {\n",
       "        text-align: right;\n",
       "    }\n",
       "</style>\n",
       "<table border=\"1\" class=\"dataframe\">\n",
       "  <thead>\n",
       "    <tr style=\"text-align: right;\">\n",
       "      <th></th>\n",
       "      <th>condition</th>\n",
       "      <th>tangram_type</th>\n",
       "      <th>earlier</th>\n",
       "    </tr>\n",
       "  </thead>\n",
       "  <tbody>\n",
       "    <tr>\n",
       "      <th>0</th>\n",
       "      <td>refer+either</td>\n",
       "      <td>shared</td>\n",
       "      <td>0.435364</td>\n",
       "    </tr>\n",
       "    <tr>\n",
       "      <th>0</th>\n",
       "      <td>refer+either</td>\n",
       "      <td>group-specific</td>\n",
       "      <td>0.435364</td>\n",
       "    </tr>\n",
       "    <tr>\n",
       "      <th>0</th>\n",
       "      <td>refer+one</td>\n",
       "      <td>shared</td>\n",
       "      <td>0.318646</td>\n",
       "    </tr>\n",
       "    <tr>\n",
       "      <th>0</th>\n",
       "      <td>refer+one</td>\n",
       "      <td>group-specific</td>\n",
       "      <td>0.318646</td>\n",
       "    </tr>\n",
       "    <tr>\n",
       "      <th>0</th>\n",
       "      <td>social+one</td>\n",
       "      <td>shared</td>\n",
       "      <td>0.220974</td>\n",
       "    </tr>\n",
       "    <tr>\n",
       "      <th>0</th>\n",
       "      <td>social+one</td>\n",
       "      <td>group-specific</td>\n",
       "      <td>0.220974</td>\n",
       "    </tr>\n",
       "  </tbody>\n",
       "</table>\n",
       "</div>"
      ],
      "text/plain": [
       "      condition    tangram_type   earlier\n",
       "0  refer+either          shared  0.435364\n",
       "0  refer+either  group-specific  0.435364\n",
       "0     refer+one          shared  0.318646\n",
       "0     refer+one  group-specific  0.318646\n",
       "0    social+one          shared  0.220974\n",
       "0    social+one  group-specific  0.220974"
      ]
     },
     "execution_count": 11,
     "metadata": {},
     "output_type": "execute_result"
    }
   ],
   "source": [
    "df"
   ]
  },
  {
   "cell_type": "code",
   "execution_count": 12,
   "metadata": {},
   "outputs": [
    {
     "data": {
      "image/png": "[encoded data removed]",
      "text/plain": [
       "<Figure size 640x480 with 1 Axes>"
      ]
     },
     "metadata": {},
     "output_type": "display_data"
    }
   ],
   "source": [
    "fig, ax = plt.subplots()\n",
    "\n",
    "offset = 0.1\n",
    "unique_conditions = sorted(df['condition'].unique())\n",
    "x_positions = {cond: i for i, cond in enumerate(unique_conditions)}\n",
    "\n",
    "unique_tangram_types = sorted(df['tangram_type'].unique(), reverse=True)\n",
    "\n",
    "for i, key in enumerate(unique_tangram_types):\n",
    "    grp = df[df['tangram_type'] == key]\n",
    "    # Offset x positions for each tangram_type\n",
    "    x_vals = [x_positions[cond] + i * offset - (len(unique_tangram_types) - 1) * offset / 2\n",
    "              for cond in grp['condition']]\n",
    "    ax.scatter(x_vals, grp['earlier'], label=key, s=64)\n",
    "\n",
    "ax.axhline(0.5, color=\"gray\", linestyle=\"--\")\n",
    "ax.set_ylim(0, 1)\n",
    "ax.legend(title='Tangram Type')\n",
    "ax.set_xticks(range(len(unique_conditions)))\n",
    "ax.set_xticklabels(unique_conditions)\n",
    "ax.set_xlabel('Condition')\n",
    "ax.set_ylabel('Earlier label')\n",
    "plt.title(\"no referential informativity\")\n",
    "sns.despine()\n",
    "plt.show()"
   ]
  }
 ],
 "metadata": {
  "kernelspec": {
   "display_name": "code-switching",
   "language": "python",
   "name": "python3"
  },
  "language_info": {
   "codemirror_mode": {
    "name": "ipython",
    "version": 3
   },
   "file_extension": ".py",
   "mimetype": "text/x-python",
   "name": "python",
   "nbconvert_exporter": "python",
   "pygments_lexer": "ipython3",
   "version": "3.12.4"
  }
 },
 "nbformat": 4,
 "nbformat_minor": 2
}
