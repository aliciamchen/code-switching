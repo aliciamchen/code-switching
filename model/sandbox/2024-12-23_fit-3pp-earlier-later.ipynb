{
 "cells": [
  {
   "cell_type": "markdown",
   "metadata": {},
   "source": [
    "# Fit model for earlier-later experiment"
   ]
  },
  {
   "cell_type": "code",
   "execution_count": 1,
   "metadata": {},
   "outputs": [],
   "source": [
    "import numpy as np\n",
    "import pandas as pd\n",
    "\n",
    "from memo import memo\n",
    "import jax\n",
    "import jax.numpy as jnp\n",
    "from jax import lax\n",
    "from enum import IntEnum"
   ]
  },
  {
   "cell_type": "markdown",
   "metadata": {},
   "source": [
    "Make an array from the transparency means, with columns corresponding to referential informativity and length, and rows corresponding to the index of the label (indexed by `tangram_set` and then `target`, `earlier`, and `length`) (see `transparency-analysis.Rmd`)"
   ]
  },
  {
   "cell_type": "code",
   "execution_count": 2,
   "metadata": {},
   "outputs": [
    {
     "data": {
      "text/html": [
       "<div>\n",
       "<style scoped>\n",
       "    .dataframe tbody tr th:only-of-type {\n",
       "        vertical-align: middle;\n",
       "    }\n",
       "\n",
       "    .dataframe tbody tr th {\n",
       "        vertical-align: top;\n",
       "    }\n",
       "\n",
       "    .dataframe thead th {\n",
       "        text-align: right;\n",
       "    }\n",
       "</style>\n",
       "<table border=\"1\" class=\"dataframe\">\n",
       "  <thead>\n",
       "    <tr style=\"text-align: right;\">\n",
       "      <th></th>\n",
       "      <th>tangram_set</th>\n",
       "      <th>tangram</th>\n",
       "      <th>earlier</th>\n",
       "      <th>length</th>\n",
       "      <th>label</th>\n",
       "      <th>n</th>\n",
       "      <th>empirical_stat</th>\n",
       "      <th>ci_lower</th>\n",
       "      <th>mean</th>\n",
       "      <th>ci_upper</th>\n",
       "    </tr>\n",
       "  </thead>\n",
       "  <tbody>\n",
       "    <tr>\n",
       "      <th>0</th>\n",
       "      <td>0</td>\n",
       "      <td>A</td>\n",
       "      <td>earlier</td>\n",
       "      <td>27</td>\n",
       "      <td>it looks like someone stood up with their feet...</td>\n",
       "      <td>42</td>\n",
       "      <td>0.952381</td>\n",
       "      <td>0.878788</td>\n",
       "      <td>0.951934</td>\n",
       "      <td>1.000000</td>\n",
       "    </tr>\n",
       "    <tr>\n",
       "      <th>1</th>\n",
       "      <td>0</td>\n",
       "      <td>A</td>\n",
       "      <td>earlier</td>\n",
       "      <td>41</td>\n",
       "      <td>a guy facing left with his head to the right o...</td>\n",
       "      <td>45</td>\n",
       "      <td>0.600000</td>\n",
       "      <td>0.462875</td>\n",
       "      <td>0.598966</td>\n",
       "      <td>0.734779</td>\n",
       "    </tr>\n",
       "    <tr>\n",
       "      <th>2</th>\n",
       "      <td>0</td>\n",
       "      <td>A</td>\n",
       "      <td>earlier</td>\n",
       "      <td>43</td>\n",
       "      <td>it looks like a person kicking one foot in fro...</td>\n",
       "      <td>43</td>\n",
       "      <td>0.930233</td>\n",
       "      <td>0.847826</td>\n",
       "      <td>0.928347</td>\n",
       "      <td>1.000000</td>\n",
       "    </tr>\n",
       "    <tr>\n",
       "      <th>3</th>\n",
       "      <td>0</td>\n",
       "      <td>A</td>\n",
       "      <td>later</td>\n",
       "      <td>1</td>\n",
       "      <td>thriller</td>\n",
       "      <td>35</td>\n",
       "      <td>0.571429</td>\n",
       "      <td>0.416616</td>\n",
       "      <td>0.573758</td>\n",
       "      <td>0.741977</td>\n",
       "    </tr>\n",
       "    <tr>\n",
       "      <th>4</th>\n",
       "      <td>0</td>\n",
       "      <td>A</td>\n",
       "      <td>later</td>\n",
       "      <td>1</td>\n",
       "      <td>zombie</td>\n",
       "      <td>36</td>\n",
       "      <td>0.638889</td>\n",
       "      <td>0.473648</td>\n",
       "      <td>0.639046</td>\n",
       "      <td>0.800000</td>\n",
       "    </tr>\n",
       "  </tbody>\n",
       "</table>\n",
       "</div>"
      ],
      "text/plain": [
       "   tangram_set tangram  earlier  length  \\\n",
       "0            0       A  earlier      27   \n",
       "1            0       A  earlier      41   \n",
       "2            0       A  earlier      43   \n",
       "3            0       A    later       1   \n",
       "4            0       A    later       1   \n",
       "\n",
       "                                               label   n  empirical_stat  \\\n",
       "0  it looks like someone stood up with their feet...  42        0.952381   \n",
       "1  a guy facing left with his head to the right o...  45        0.600000   \n",
       "2  it looks like a person kicking one foot in fro...  43        0.930233   \n",
       "3                                           thriller  35        0.571429   \n",
       "4                                             zombie  36        0.638889   \n",
       "\n",
       "   ci_lower      mean  ci_upper  \n",
       "0  0.878788  0.951934  1.000000  \n",
       "1  0.462875  0.598966  0.734779  \n",
       "2  0.847826  0.928347  1.000000  \n",
       "3  0.416616  0.573758  0.741977  \n",
       "4  0.473648  0.639046  0.800000  "
      ]
     },
     "execution_count": 2,
     "metadata": {},
     "output_type": "execute_result"
    }
   ],
   "source": [
    "df_transparency = pd.read_csv(\"../data/3pp/transparency/means_by_label.csv\").rename(columns={\"target\": \"tangram\"})\n",
    "df_transparency.iloc[:, :5].to_csv(\"label_indices.csv\")\n",
    "\n",
    "df_transparency.head()"
   ]
  },
  {
   "cell_type": "code",
   "execution_count": 3,
   "metadata": {},
   "outputs": [
    {
     "data": {
      "text/plain": [
       "(90, 2)"
      ]
     },
     "execution_count": 3,
     "metadata": {},
     "output_type": "execute_result"
    }
   ],
   "source": [
    "# Save 'length' and 'empirical_stat' columns into a 90x2 numpy array\n",
    "label_info = df_transparency[[\"length\", \"empirical_stat\"]].values\n",
    "label_info.shape"
   ]
  },
  {
   "cell_type": "markdown",
   "metadata": {},
   "source": [
    "Load label info from earlier-later experiment"
   ]
  },
  {
   "cell_type": "code",
   "execution_count": 4,
   "metadata": {},
   "outputs": [
    {
     "data": {
      "text/html": [
       "<div>\n",
       "<style scoped>\n",
       "    .dataframe tbody tr th:only-of-type {\n",
       "        vertical-align: middle;\n",
       "    }\n",
       "\n",
       "    .dataframe tbody tr th {\n",
       "        vertical-align: top;\n",
       "    }\n",
       "\n",
       "    .dataframe thead th {\n",
       "        text-align: right;\n",
       "    }\n",
       "</style>\n",
       "<table border=\"1\" class=\"dataframe\">\n",
       "  <thead>\n",
       "    <tr style=\"text-align: right;\">\n",
       "      <th></th>\n",
       "      <th>tangram_set</th>\n",
       "      <th>counterbalance</th>\n",
       "      <th>tangram</th>\n",
       "      <th>shared</th>\n",
       "      <th>audience_group</th>\n",
       "      <th>earlier_label</th>\n",
       "      <th>later_label</th>\n",
       "    </tr>\n",
       "  </thead>\n",
       "  <tbody>\n",
       "    <tr>\n",
       "      <th>0</th>\n",
       "      <td>0</td>\n",
       "      <td>a</td>\n",
       "      <td>A</td>\n",
       "      <td>unique</td>\n",
       "      <td>blue</td>\n",
       "      <td>it looks like someone stood up with their feet...</td>\n",
       "      <td>zombie</td>\n",
       "    </tr>\n",
       "    <tr>\n",
       "      <th>1</th>\n",
       "      <td>0</td>\n",
       "      <td>a</td>\n",
       "      <td>A</td>\n",
       "      <td>unique</td>\n",
       "      <td>red</td>\n",
       "      <td>a guy facing left with his head to the right o...</td>\n",
       "      <td>thriller</td>\n",
       "    </tr>\n",
       "    <tr>\n",
       "      <th>2</th>\n",
       "      <td>0</td>\n",
       "      <td>a</td>\n",
       "      <td>B</td>\n",
       "      <td>shared</td>\n",
       "      <td>blue</td>\n",
       "      <td>two big ears, pointing nose, facing left. A sm...</td>\n",
       "      <td>mouse</td>\n",
       "    </tr>\n",
       "    <tr>\n",
       "      <th>3</th>\n",
       "      <td>0</td>\n",
       "      <td>a</td>\n",
       "      <td>B</td>\n",
       "      <td>shared</td>\n",
       "      <td>red</td>\n",
       "      <td>the head is on a flat surface with a triangle ...</td>\n",
       "      <td>mouse</td>\n",
       "    </tr>\n",
       "    <tr>\n",
       "      <th>4</th>\n",
       "      <td>0</td>\n",
       "      <td>a</td>\n",
       "      <td>C</td>\n",
       "      <td>shared</td>\n",
       "      <td>blue</td>\n",
       "      <td>it looks like a person is falling backwards wi...</td>\n",
       "      <td>falling guy</td>\n",
       "    </tr>\n",
       "  </tbody>\n",
       "</table>\n",
       "</div>"
      ],
      "text/plain": [
       "   tangram_set counterbalance tangram  shared audience_group  \\\n",
       "0            0              a       A  unique           blue   \n",
       "1            0              a       A  unique            red   \n",
       "2            0              a       B  shared           blue   \n",
       "3            0              a       B  shared            red   \n",
       "4            0              a       C  shared           blue   \n",
       "\n",
       "                                       earlier_label  later_label  \n",
       "0  it looks like someone stood up with their feet...       zombie  \n",
       "1  a guy facing left with his head to the right o...     thriller  \n",
       "2  two big ears, pointing nose, facing left. A sm...        mouse  \n",
       "3  the head is on a flat surface with a triangle ...        mouse  \n",
       "4  it looks like a person is falling backwards wi...  falling guy  "
      ]
     },
     "execution_count": 4,
     "metadata": {},
     "output_type": "execute_result"
    }
   ],
   "source": [
    "labels = pd.read_csv(\"../data/3pp/earlier-later/labels.csv\").rename(\n",
    "    columns={\"item_id\": \"tangram_set\"}\n",
    ").drop(columns=[\"n\"])\n",
    "labels.head()"
   ]
  },
  {
   "cell_type": "markdown",
   "metadata": {},
   "source": [
    "Add length and informativity"
   ]
  },
  {
   "cell_type": "code",
   "execution_count": 5,
   "metadata": {},
   "outputs": [],
   "source": [
    "for label_type in [\"earlier\", \"later\"]:\n",
    "    labels = (\n",
    "        labels.merge(\n",
    "            df_transparency[df_transparency[\"earlier\"] == label_type][\n",
    "                [\"tangram_set\", \"tangram\", \"label\", \"empirical_stat\", \"length\"]\n",
    "            ],\n",
    "            left_on=[\"tangram_set\", \"tangram\", f\"{label_type}_label\"],\n",
    "            right_on=[\"tangram_set\", \"tangram\", \"label\"],\n",
    "        )\n",
    "        .rename(\n",
    "            columns={\n",
    "                \"empirical_stat\": f\"{label_type}_info\",\n",
    "                \"length\": f\"{label_type}_length\",\n",
    "            }\n",
    "        )\n",
    "        .drop(columns=[\"label\"])\n",
    "    )"
   ]
  },
  {
   "cell_type": "code",
   "execution_count": 6,
   "metadata": {},
   "outputs": [
    {
     "data": {
      "text/html": [
       "<div>\n",
       "<style scoped>\n",
       "    .dataframe tbody tr th:only-of-type {\n",
       "        vertical-align: middle;\n",
       "    }\n",
       "\n",
       "    .dataframe tbody tr th {\n",
       "        vertical-align: top;\n",
       "    }\n",
       "\n",
       "    .dataframe thead th {\n",
       "        text-align: right;\n",
       "    }\n",
       "</style>\n",
       "<table border=\"1\" class=\"dataframe\">\n",
       "  <thead>\n",
       "    <tr style=\"text-align: right;\">\n",
       "      <th></th>\n",
       "      <th>tangram_set</th>\n",
       "      <th>counterbalance</th>\n",
       "      <th>tangram</th>\n",
       "      <th>shared</th>\n",
       "      <th>audience_group</th>\n",
       "      <th>earlier_label</th>\n",
       "      <th>later_label</th>\n",
       "      <th>earlier_info</th>\n",
       "      <th>earlier_length</th>\n",
       "      <th>later_info</th>\n",
       "      <th>later_length</th>\n",
       "    </tr>\n",
       "  </thead>\n",
       "  <tbody>\n",
       "    <tr>\n",
       "      <th>0</th>\n",
       "      <td>0</td>\n",
       "      <td>a</td>\n",
       "      <td>A</td>\n",
       "      <td>unique</td>\n",
       "      <td>blue</td>\n",
       "      <td>it looks like someone stood up with their feet...</td>\n",
       "      <td>zombie</td>\n",
       "      <td>0.952381</td>\n",
       "      <td>27</td>\n",
       "      <td>0.638889</td>\n",
       "      <td>1</td>\n",
       "    </tr>\n",
       "    <tr>\n",
       "      <th>1</th>\n",
       "      <td>0</td>\n",
       "      <td>a</td>\n",
       "      <td>A</td>\n",
       "      <td>unique</td>\n",
       "      <td>red</td>\n",
       "      <td>a guy facing left with his head to the right o...</td>\n",
       "      <td>thriller</td>\n",
       "      <td>0.600000</td>\n",
       "      <td>41</td>\n",
       "      <td>0.571429</td>\n",
       "      <td>1</td>\n",
       "    </tr>\n",
       "    <tr>\n",
       "      <th>2</th>\n",
       "      <td>0</td>\n",
       "      <td>a</td>\n",
       "      <td>B</td>\n",
       "      <td>shared</td>\n",
       "      <td>blue</td>\n",
       "      <td>two big ears, pointing nose, facing left. A sm...</td>\n",
       "      <td>mouse</td>\n",
       "      <td>0.827586</td>\n",
       "      <td>28</td>\n",
       "      <td>0.568182</td>\n",
       "      <td>1</td>\n",
       "    </tr>\n",
       "    <tr>\n",
       "      <th>3</th>\n",
       "      <td>0</td>\n",
       "      <td>a</td>\n",
       "      <td>B</td>\n",
       "      <td>shared</td>\n",
       "      <td>red</td>\n",
       "      <td>the head is on a flat surface with a triangle ...</td>\n",
       "      <td>mouse</td>\n",
       "      <td>0.615385</td>\n",
       "      <td>28</td>\n",
       "      <td>0.568182</td>\n",
       "      <td>1</td>\n",
       "    </tr>\n",
       "    <tr>\n",
       "      <th>4</th>\n",
       "      <td>0</td>\n",
       "      <td>a</td>\n",
       "      <td>C</td>\n",
       "      <td>shared</td>\n",
       "      <td>blue</td>\n",
       "      <td>it looks like a person is falling backwards wi...</td>\n",
       "      <td>falling guy</td>\n",
       "      <td>0.956522</td>\n",
       "      <td>32</td>\n",
       "      <td>0.948718</td>\n",
       "      <td>2</td>\n",
       "    </tr>\n",
       "    <tr>\n",
       "      <th>...</th>\n",
       "      <td>...</td>\n",
       "      <td>...</td>\n",
       "      <td>...</td>\n",
       "      <td>...</td>\n",
       "      <td>...</td>\n",
       "      <td>...</td>\n",
       "      <td>...</td>\n",
       "      <td>...</td>\n",
       "      <td>...</td>\n",
       "      <td>...</td>\n",
       "      <td>...</td>\n",
       "    </tr>\n",
       "    <tr>\n",
       "      <th>67</th>\n",
       "      <td>2</td>\n",
       "      <td>b</td>\n",
       "      <td>G</td>\n",
       "      <td>shared</td>\n",
       "      <td>red</td>\n",
       "      <td>It looks like a person looking up and to the r...</td>\n",
       "      <td>leg</td>\n",
       "      <td>0.650000</td>\n",
       "      <td>79</td>\n",
       "      <td>0.181818</td>\n",
       "      <td>1</td>\n",
       "    </tr>\n",
       "    <tr>\n",
       "      <th>68</th>\n",
       "      <td>2</td>\n",
       "      <td>b</td>\n",
       "      <td>I</td>\n",
       "      <td>shared</td>\n",
       "      <td>blue</td>\n",
       "      <td>picture looks like it has 2 hands going forwar...</td>\n",
       "      <td>ice skater</td>\n",
       "      <td>0.942857</td>\n",
       "      <td>20</td>\n",
       "      <td>0.911111</td>\n",
       "      <td>2</td>\n",
       "    </tr>\n",
       "    <tr>\n",
       "      <th>69</th>\n",
       "      <td>2</td>\n",
       "      <td>b</td>\n",
       "      <td>I</td>\n",
       "      <td>shared</td>\n",
       "      <td>red</td>\n",
       "      <td>ice skating one, square head balancing, two tr...</td>\n",
       "      <td>ice skater</td>\n",
       "      <td>1.000000</td>\n",
       "      <td>13</td>\n",
       "      <td>0.911111</td>\n",
       "      <td>2</td>\n",
       "    </tr>\n",
       "    <tr>\n",
       "      <th>70</th>\n",
       "      <td>2</td>\n",
       "      <td>b</td>\n",
       "      <td>K</td>\n",
       "      <td>unique</td>\n",
       "      <td>blue</td>\n",
       "      <td>it's a diamond on a diamond with a triangle ou...</td>\n",
       "      <td>duck</td>\n",
       "      <td>0.875000</td>\n",
       "      <td>25</td>\n",
       "      <td>0.348837</td>\n",
       "      <td>1</td>\n",
       "    </tr>\n",
       "    <tr>\n",
       "      <th>71</th>\n",
       "      <td>2</td>\n",
       "      <td>b</td>\n",
       "      <td>K</td>\n",
       "      <td>unique</td>\n",
       "      <td>red</td>\n",
       "      <td>this one is a slim one like a person standing ...</td>\n",
       "      <td>on their knees</td>\n",
       "      <td>0.552632</td>\n",
       "      <td>87</td>\n",
       "      <td>0.952381</td>\n",
       "      <td>3</td>\n",
       "    </tr>\n",
       "  </tbody>\n",
       "</table>\n",
       "<p>72 rows × 11 columns</p>\n",
       "</div>"
      ],
      "text/plain": [
       "    tangram_set counterbalance tangram  shared audience_group  \\\n",
       "0             0              a       A  unique           blue   \n",
       "1             0              a       A  unique            red   \n",
       "2             0              a       B  shared           blue   \n",
       "3             0              a       B  shared            red   \n",
       "4             0              a       C  shared           blue   \n",
       "..          ...            ...     ...     ...            ...   \n",
       "67            2              b       G  shared            red   \n",
       "68            2              b       I  shared           blue   \n",
       "69            2              b       I  shared            red   \n",
       "70            2              b       K  unique           blue   \n",
       "71            2              b       K  unique            red   \n",
       "\n",
       "                                        earlier_label     later_label  \\\n",
       "0   it looks like someone stood up with their feet...          zombie   \n",
       "1   a guy facing left with his head to the right o...        thriller   \n",
       "2   two big ears, pointing nose, facing left. A sm...           mouse   \n",
       "3   the head is on a flat surface with a triangle ...           mouse   \n",
       "4   it looks like a person is falling backwards wi...     falling guy   \n",
       "..                                                ...             ...   \n",
       "67  It looks like a person looking up and to the r...             leg   \n",
       "68  picture looks like it has 2 hands going forwar...      ice skater   \n",
       "69  ice skating one, square head balancing, two tr...      ice skater   \n",
       "70  it's a diamond on a diamond with a triangle ou...            duck   \n",
       "71  this one is a slim one like a person standing ...  on their knees   \n",
       "\n",
       "    earlier_info  earlier_length  later_info  later_length  \n",
       "0       0.952381              27    0.638889             1  \n",
       "1       0.600000              41    0.571429             1  \n",
       "2       0.827586              28    0.568182             1  \n",
       "3       0.615385              28    0.568182             1  \n",
       "4       0.956522              32    0.948718             2  \n",
       "..           ...             ...         ...           ...  \n",
       "67      0.650000              79    0.181818             1  \n",
       "68      0.942857              20    0.911111             2  \n",
       "69      1.000000              13    0.911111             2  \n",
       "70      0.875000              25    0.348837             1  \n",
       "71      0.552632              87    0.952381             3  \n",
       "\n",
       "[72 rows x 11 columns]"
      ]
     },
     "execution_count": 6,
     "metadata": {},
     "output_type": "execute_result"
    }
   ],
   "source": [
    "labels"
   ]
  },
  {
   "cell_type": "markdown",
   "metadata": {},
   "source": [
    "Extract corresponding \n",
    "\n",
    "Condition x tangram x group for each item, counterbalance pair\n"
   ]
  },
  {
   "cell_type": "markdown",
   "metadata": {},
   "source": [
    "Functions for getting referential informativity, social informativity, and utterance length, given a label\n",
    "\n",
    "- Assign an index to each label"
   ]
  },
  {
   "cell_type": "code",
   "execution_count": 7,
   "metadata": {},
   "outputs": [],
   "source": [
    "# tangram_set x counterbalance x tangram x audience_group x earlier/later\n",
    "info_mtx = np.zeros((3, 2, 12, 2, 2))\n",
    "length_mtx = np.zeros((3, 2, 12, 2, 2))\n",
    "\n",
    "# tangram availability mtx: given a tangram set and counterbalance, what tangrams are available? \n",
    "tangram_mtx = np.zeros((3, 2, 12))\n",
    "# shared-unique mtx: given a tangram set, counterbalance, and tangram, is it shared or unique?\n",
    "shared_unique_mtx = np.zeros((3, 2, 12))\n",
    "\n",
    "counterbalance_to_idx = {\"a\": 0, \"b\": 1}\n",
    "audience_group_to_idx = {\"red\": 0, \"blue\": 1}\n",
    "tangram_to_idx = {\n",
    "    \"A\": 0,\n",
    "    \"B\": 1,\n",
    "    \"C\": 2,\n",
    "    \"D\": 3,\n",
    "    \"E\": 4,\n",
    "    \"F\": 5,\n",
    "    \"G\": 6,\n",
    "    \"H\": 7,\n",
    "    \"I\": 8,\n",
    "    \"J\": 9,\n",
    "    \"K\": 10,\n",
    "    \"L\": 11,\n",
    "}\n",
    "\n",
    "for tangram_set in [0, 1, 2]:\n",
    "    for counterbalance in [\"a\", \"b\"]:\n",
    "        filtered_labels = labels[\n",
    "            (labels[\"tangram_set\"] == tangram_set)\n",
    "            & (labels[\"counterbalance\"] == counterbalance)\n",
    "        ]\n",
    "\n",
    "        for _, row in filtered_labels.iterrows():\n",
    "            info_mtx[\n",
    "                tangram_set,\n",
    "                counterbalance_to_idx[counterbalance],\n",
    "                tangram_to_idx[row[\"tangram\"]],\n",
    "                audience_group_to_idx[row[\"audience_group\"]],\n",
    "                0,\n",
    "            ] = row[\"earlier_info\"]\n",
    "            info_mtx[\n",
    "                tangram_set,\n",
    "                counterbalance_to_idx[counterbalance],\n",
    "                tangram_to_idx[row[\"tangram\"]],\n",
    "                audience_group_to_idx[row[\"audience_group\"]],\n",
    "                1,\n",
    "            ] = row[\"later_info\"]\n",
    "\n",
    "            length_mtx[\n",
    "                tangram_set,\n",
    "                counterbalance_to_idx[counterbalance],\n",
    "                tangram_to_idx[row[\"tangram\"]],\n",
    "                audience_group_to_idx[row[\"audience_group\"]],\n",
    "                0,\n",
    "            ] = row[\"earlier_length\"]\n",
    "            length_mtx[\n",
    "                tangram_set,\n",
    "                counterbalance_to_idx[counterbalance],\n",
    "                tangram_to_idx[row[\"tangram\"]],\n",
    "                audience_group_to_idx[row[\"audience_group\"]],\n",
    "                1,\n",
    "            ] = row[\"later_length\"]\n",
    "\n",
    "            tangram_mtx[tangram_set, counterbalance_to_idx[counterbalance], tangram_to_idx[row[\"tangram\"]]] = 1\n",
    "            shared_unique_mtx[tangram_set, counterbalance_to_idx[counterbalance], tangram_to_idx[row[\"tangram\"]]] = 0 if row[\"shared\"] == \"shared\" else 1"
   ]
  },
  {
   "cell_type": "code",
   "execution_count": 8,
   "metadata": {},
   "outputs": [],
   "source": [
    "# turn both into jax arrays\n",
    "info_mtx = jnp.array(info_mtx)\n",
    "length_mtx = jnp.array(length_mtx)\n",
    "tangram_mtx = jnp.array(tangram_mtx)\n",
    "shared_unique_mtx = jnp.array(shared_unique_mtx)"
   ]
  },
  {
   "cell_type": "markdown",
   "metadata": {},
   "source": [
    "## Model"
   ]
  },
  {
   "cell_type": "code",
   "execution_count": 54,
   "metadata": {},
   "outputs": [],
   "source": [
    "class TangramSet(IntEnum):\n",
    "    Set1 = 0\n",
    "    Set2 = 1\n",
    "    Set3 = 2\n",
    "\n",
    "\n",
    "class Counterbalance(IntEnum):\n",
    "    a = 0\n",
    "    b = 1\n",
    "\n",
    "\n",
    "class Tangram(IntEnum):\n",
    "    A = 0\n",
    "    B = 1\n",
    "    C = 2\n",
    "    D = 3\n",
    "    E = 4\n",
    "    F = 5\n",
    "    G = 6\n",
    "    H = 7\n",
    "    I = 8\n",
    "    J = 9\n",
    "    K = 10\n",
    "    L = 11\n",
    "\n",
    "\n",
    "class AudienceConditions(IntEnum):\n",
    "    EitherGroup = 0\n",
    "    OneGroup = 1\n",
    "\n",
    "\n",
    "class TangramTypes(IntEnum):\n",
    "    Shared = 0\n",
    "    Unique = 1\n",
    "\n",
    "\n",
    "class AudienceGroup(IntEnum):\n",
    "    Red = 0\n",
    "    Blue = 1\n",
    "\n",
    "\n",
    "class Audiences(IntEnum):\n",
    "    Outgroup = 0\n",
    "    Ingroup = 1\n",
    "\n",
    "class Utterances(IntEnum):\n",
    "    Earlier = 0\n",
    "    Later = 1\n",
    "\n",
    "\n",
    "@jax.jit\n",
    "def audience_wpp(audience_condition, audience):\n",
    "    # for the \"either group\" condition, return 1 regardless of audience\n",
    "    # for the \"one group\" condition, return 1 for the ingroup and 0 for the outgroup\n",
    "    # TODO: check this logic\n",
    "    return jnp.array([1, audience])[audience_condition]\n",
    "\n",
    "@jax.jit\n",
    "def ref_info(\n",
    "    tangram_set, counterbalance, tangram, audience_group, \n",
    "    tangram_type, audience, utt\n",
    "):\n",
    "    \"\"\"the values that change are tangram_type, audience, and utt\"\"\"\n",
    "    # if the tangram is unique-label, outgroup info is the same as naive listener\n",
    "    naive_info_unique = info_mtx[\n",
    "        tangram_set, counterbalance, tangram, audience_group, :\n",
    "    ]\n",
    "    # print(naive_info_unique)\n",
    "\n",
    "    # for the ingroup, increase earlier_utt info by 0.1 and later_utt info by 0.3; cap at 1\n",
    "    # this is the assumption that the later utterances are probably seen more times by the in group\n",
    "    ingroup_info = jnp.minimum(naive_info_unique + jnp.array([0.1, 0.3]), 1)\n",
    "\n",
    "    # if the tangram is shared-label, for the outgroup, earlier utt info is same as naive listener but later utt info is same as ingroup\n",
    "    naive_info_shared = jnp.array([naive_info_unique[0], ingroup_info[1]])\n",
    "\n",
    "    naive_info = lax.cond(\n",
    "        tangram_type == TangramTypes.Shared,\n",
    "        lambda _: naive_info_shared,\n",
    "        lambda _: naive_info_unique,\n",
    "        operand=None,\n",
    "    )\n",
    "\n",
    "    info = lax.cond(\n",
    "        audience == Audiences.Outgroup,\n",
    "        lambda _: naive_info,\n",
    "        lambda _: ingroup_info,\n",
    "        operand=None,\n",
    "    )\n",
    "\n",
    "    return info[utt]\n",
    "\n",
    "\n",
    "@jax.jit\n",
    "def social_info(utt):\n",
    "    # later utterance has more social informativity\n",
    "    return jnp.array([0.1, 0.6])[utt]\n",
    "\n",
    "\n",
    "@jax.jit\n",
    "def utt_length(tangram_set, counterbalance, tangram, audience_group, utt):\n",
    "    return length_mtx[tangram_set, counterbalance, tangram, audience_group, utt]"
   ]
  },
  {
   "cell_type": "code",
   "execution_count": 56,
   "metadata": {},
   "outputs": [
    {
     "data": {
      "text/plain": [
       "Array(1, dtype=int32)"
      ]
     },
     "execution_count": 56,
     "metadata": {},
     "output_type": "execute_result"
    }
   ],
   "source": [
    "audience_wpp(AudienceConditions.EitherGroup, Audiences.Ingroup)"
   ]
  },
  {
   "cell_type": "code",
   "execution_count": 57,
   "metadata": {},
   "outputs": [],
   "source": [
    "# type: ignore\n",
    "\n",
    "# the idea is that the goal is in the weights so each goal is fit separately? \n",
    "# TODO: figure out a way to organize the params, and document\n",
    "\n",
    "@memo\n",
    "def speaker[\n",
    "    u: Utterances, audience: Audiences\n",
    "](\n",
    "    #### experimental design stuff\n",
    "    tangram_set,\n",
    "    counterbalance,\n",
    "    tangram,\n",
    "    audience_group,\n",
    "    #### variables\n",
    "    tangram_type,\n",
    "    audience_condition,\n",
    "    #### parameters\n",
    "    alpha,\n",
    "    w_r,\n",
    "    w_s,\n",
    "    w_c,\n",
    "):\n",
    "    cast: [speaker]\n",
    "    speaker: chooses(\n",
    "        audience in Audiences, wpp=audience_wpp(audience_condition, audience)\n",
    "    )\n",
    "    speaker: chooses(\n",
    "        u in Utterances,\n",
    "        wpp=exp(\n",
    "            alpha\n",
    "            * (\n",
    "                w_r * ref_info(tangram_set, counterbalance, tangram, audience_group, tangram_type, audience, u)\n",
    "                + w_s * social_info(u)\n",
    "                - w_c * utt_length(tangram_set, counterbalance, tangram, audience_group, u)\n",
    "            )\n",
    "        ),\n",
    "    )\n",
    "    return Pr[speaker.u == u]"
   ]
  },
  {
   "cell_type": "code",
   "execution_count": 59,
   "metadata": {},
   "outputs": [
    {
     "data": {
      "text/plain": [
       "Array([[0.13840853],\n",
       "       [0.86159146]], dtype=float32)"
      ]
     },
     "execution_count": 59,
     "metadata": {},
     "output_type": "execute_result"
    }
   ],
   "source": [
    "speaker(\n",
    "    tangram_set=TangramSet.Set1,\n",
    "    counterbalance=Counterbalance.a,\n",
    "    tangram=Tangram.A,\n",
    "    audience_group=AudienceGroup.Red,\n",
    "    tangram_type=TangramTypes.Unique,\n",
    "    audience_condition=AudienceConditions.OneGroup,\n",
    "    alpha=2,\n",
    "    w_r=3,\n",
    "    w_s=0,\n",
    "    w_c=0.01,\n",
    ")"
   ]
  },
  {
   "cell_type": "code",
   "execution_count": 60,
   "metadata": {},
   "outputs": [
    {
     "data": {
      "text/plain": [
       "Array(0.24312153, dtype=float32)"
      ]
     },
     "execution_count": 60,
     "metadata": {},
     "output_type": "execute_result"
    }
   ],
   "source": [
    "speaker(\n",
    "    tangram_set=TangramSet.Set1,\n",
    "    counterbalance=Counterbalance.a,\n",
    "    tangram=Tangram.A,\n",
    "    audience_group=AudienceGroup.Red,\n",
    "    tangram_type=TangramTypes.Unique,\n",
    "    audience_condition=AudienceConditions.EitherGroup,\n",
    "    alpha=2,\n",
    "    w_r=3,\n",
    "    w_s=0,\n",
    "    w_c=0.01,\n",
    ")[0, 0]"
   ]
  },
  {
   "cell_type": "code",
   "execution_count": 61,
   "metadata": {},
   "outputs": [
    {
     "data": {
      "text/plain": [
       "Array([0.6      , 0.5714286], dtype=float32)"
      ]
     },
     "execution_count": 61,
     "metadata": {},
     "output_type": "execute_result"
    }
   ],
   "source": [
    "info_mtx[TangramSet.Set1, Counterbalance.a, Tangram.A, AudienceGroup.Red, :]"
   ]
  },
  {
   "cell_type": "markdown",
   "metadata": {},
   "source": [
    "## Generate model predictions and fit weights\n",
    "A different set of weights per condition\n",
    "\n",
    "Make matrix of model predictions: tangram_set x counterbalance x tangram x tangram_type x condition x audience_group \n",
    "\n",
    "Model predicts: likelihood of choosing earlier tangram"
   ]
  },
  {
   "cell_type": "code",
   "execution_count": 129,
   "metadata": {},
   "outputs": [],
   "source": [
    "def generate_model_preds(alpha, w_r, w_s, w_c, audience_condition):\n",
    "    \"\"\"\n",
    "    Generate model predictions\n",
    "    Output: 3 x 2 x 12 x 2  array\n",
    "    tangram_set x counterbalance x tangram x tangram_type x audience_group\n",
    "\n",
    "    Audience condition: either group or one group\n",
    "    Goals are encoded in the weights\n",
    "    \"\"\"\n",
    "    model_preds = np.zeros((3, 2, 12, 2))\n",
    "\n",
    "    for tangram_set in TangramSet:\n",
    "        for counterbalance in Counterbalance:\n",
    "            available_tangrams = tangram_mtx[tangram_set, counterbalance, :]\n",
    "            for tangram in Tangram:\n",
    "                if not available_tangrams[tangram]:\n",
    "                    continue\n",
    "                for tangram_type in TangramTypes:\n",
    "                    if (\n",
    "                        not shared_unique_mtx[tangram_set, counterbalance, tangram]\n",
    "                        == tangram_type\n",
    "                    ):\n",
    "                        continue\n",
    "                    for audience_group in AudienceGroup:\n",
    "                        model_preds[\n",
    "                            tangram_set,\n",
    "                            counterbalance,\n",
    "                            tangram,\n",
    "                            # tangram_type, # Later on: tangram type can be a separate mask\n",
    "                            audience_group\n",
    "                        ] = speaker(\n",
    "                            tangram_set=tangram_set,\n",
    "                            counterbalance=counterbalance,\n",
    "                            tangram=tangram,\n",
    "                            audience_group=audience_group,\n",
    "                            tangram_type=tangram_type,\n",
    "                            audience_condition=audience_condition,\n",
    "                            alpha=alpha,\n",
    "                            w_r=w_r,\n",
    "                            w_s=w_s,\n",
    "                            w_c=w_c,\n",
    "                        )[\n",
    "                            0, 0\n",
    "                        ]  # index into the probability of the earlier utterance\n",
    "\n",
    "    return model_preds"
   ]
  },
  {
   "cell_type": "markdown",
   "metadata": {},
   "source": [
    "Sanity check: Generate and plot model predictions with toy params"
   ]
  },
  {
   "cell_type": "code",
   "execution_count": 63,
   "metadata": {},
   "outputs": [],
   "source": [
    "conditions_params = {\n",
    "    \"refer+either\": {\"alpha\": 2, \"w_r\": 3, \"w_s\": 0, \"w_c\": 0.01, \"audience_condition\": AudienceConditions.EitherGroup},\n",
    "    \"refer+one\": {\"alpha\": 2, \"w_r\": 3, \"w_s\": 1, \"w_c\": 0.01, \"audience_condition\": AudienceConditions.OneGroup},\n",
    "    \"social+one\": {\"alpha\": 2, \"w_r\": 0, \"w_s\": 1, \"w_c\": 0.01, \"audience_condition\": AudienceConditions.OneGroup},\n",
    "}\n",
    "\n",
    "model_preds = {\n",
    "    key: generate_model_preds(**params) for key, params in conditions_params.items()}"
   ]
  },
  {
   "cell_type": "markdown",
   "metadata": {},
   "source": [
    "For each condition, take the mean of all values across tangram type (drop the zeros)"
   ]
  },
  {
   "cell_type": "code",
   "execution_count": 64,
   "metadata": {},
   "outputs": [],
   "source": [
    "means = {}\n",
    "for condition, pred in model_preds.items():\n",
    "   preds_shared = pred[:, :, :, TangramTypes.Shared, :]\n",
    "   preds_unique = pred[:, :, :, TangramTypes.Unique, :]\n",
    "\n",
    "   # compute the mean for preds_shared and preds_unique; omit zeros\n",
    "   means_shared = preds_shared[preds_shared != 0].mean()\n",
    "   means_unique = preds_unique[preds_unique != 0].mean()\n",
    "\n",
    "   means[condition] = (means_shared, means_unique)"
   ]
  },
  {
   "cell_type": "code",
   "execution_count": 65,
   "metadata": {},
   "outputs": [
    {
     "data": {
      "text/plain": [
       "{'refer+either': (0.3307983160743283, 0.4409951085431708),\n",
       " 'refer+one': (0.19126081210561097, 0.19381432020519343),\n",
       " 'social+one': (0.174693637010124, 0.17244326074918112)}"
      ]
     },
     "execution_count": 65,
     "metadata": {},
     "output_type": "execute_result"
    }
   ],
   "source": [
    "means"
   ]
  },
  {
   "cell_type": "markdown",
   "metadata": {},
   "source": [
    "### Fit weights\n"
   ]
  },
  {
   "cell_type": "code",
   "execution_count": 80,
   "metadata": {},
   "outputs": [
    {
     "data": {
      "text/html": [
       "<div>\n",
       "<style scoped>\n",
       "    .dataframe tbody tr th:only-of-type {\n",
       "        vertical-align: middle;\n",
       "    }\n",
       "\n",
       "    .dataframe tbody tr th {\n",
       "        vertical-align: top;\n",
       "    }\n",
       "\n",
       "    .dataframe thead th {\n",
       "        text-align: right;\n",
       "    }\n",
       "</style>\n",
       "<table border=\"1\" class=\"dataframe\">\n",
       "  <thead>\n",
       "    <tr style=\"text-align: right;\">\n",
       "      <th></th>\n",
       "      <th>subject_id</th>\n",
       "      <th>tangram_set</th>\n",
       "      <th>counterbalance</th>\n",
       "      <th>condition</th>\n",
       "      <th>audience_group</th>\n",
       "      <th>tangram</th>\n",
       "      <th>tangram_type</th>\n",
       "      <th>response.earlier</th>\n",
       "    </tr>\n",
       "  </thead>\n",
       "  <tbody>\n",
       "    <tr>\n",
       "      <th>0</th>\n",
       "      <td>dd2c8d9a-acab-46b0-a2d6-58e7c914ac4e</td>\n",
       "      <td>0</td>\n",
       "      <td>a</td>\n",
       "      <td>OneSocial</td>\n",
       "      <td>Red</td>\n",
       "      <td>C</td>\n",
       "      <td>Shared</td>\n",
       "      <td>0</td>\n",
       "    </tr>\n",
       "    <tr>\n",
       "      <th>1</th>\n",
       "      <td>dd2c8d9a-acab-46b0-a2d6-58e7c914ac4e</td>\n",
       "      <td>0</td>\n",
       "      <td>a</td>\n",
       "      <td>EitherRefer</td>\n",
       "      <td>Blue</td>\n",
       "      <td>B</td>\n",
       "      <td>Shared</td>\n",
       "      <td>0</td>\n",
       "    </tr>\n",
       "    <tr>\n",
       "      <th>2</th>\n",
       "      <td>dd2c8d9a-acab-46b0-a2d6-58e7c914ac4e</td>\n",
       "      <td>0</td>\n",
       "      <td>a</td>\n",
       "      <td>OneSocial</td>\n",
       "      <td>Blue</td>\n",
       "      <td>L</td>\n",
       "      <td>Shared</td>\n",
       "      <td>0</td>\n",
       "    </tr>\n",
       "    <tr>\n",
       "      <th>3</th>\n",
       "      <td>dd2c8d9a-acab-46b0-a2d6-58e7c914ac4e</td>\n",
       "      <td>0</td>\n",
       "      <td>a</td>\n",
       "      <td>OneRefer</td>\n",
       "      <td>Blue</td>\n",
       "      <td>L</td>\n",
       "      <td>Shared</td>\n",
       "      <td>0</td>\n",
       "    </tr>\n",
       "    <tr>\n",
       "      <th>4</th>\n",
       "      <td>dd2c8d9a-acab-46b0-a2d6-58e7c914ac4e</td>\n",
       "      <td>0</td>\n",
       "      <td>a</td>\n",
       "      <td>OneRefer</td>\n",
       "      <td>Red</td>\n",
       "      <td>H</td>\n",
       "      <td>Unique</td>\n",
       "      <td>1</td>\n",
       "    </tr>\n",
       "  </tbody>\n",
       "</table>\n",
       "</div>"
      ],
      "text/plain": [
       "                             subject_id  tangram_set counterbalance  \\\n",
       "0  dd2c8d9a-acab-46b0-a2d6-58e7c914ac4e            0              a   \n",
       "1  dd2c8d9a-acab-46b0-a2d6-58e7c914ac4e            0              a   \n",
       "2  dd2c8d9a-acab-46b0-a2d6-58e7c914ac4e            0              a   \n",
       "3  dd2c8d9a-acab-46b0-a2d6-58e7c914ac4e            0              a   \n",
       "4  dd2c8d9a-acab-46b0-a2d6-58e7c914ac4e            0              a   \n",
       "\n",
       "     condition audience_group tangram tangram_type response.earlier  \n",
       "0    OneSocial            Red       C       Shared                0  \n",
       "1  EitherRefer           Blue       B       Shared                0  \n",
       "2    OneSocial           Blue       L       Shared                0  \n",
       "3     OneRefer           Blue       L       Shared                0  \n",
       "4     OneRefer            Red       H       Unique                1  "
      ]
     },
     "execution_count": 80,
     "metadata": {},
     "output_type": "execute_result"
    }
   ],
   "source": [
    "# Load in and add the human data\n",
    "# Into a matrix: tangram_set x counterbalance x tangram x tangram_type x condition x participant\n",
    "\n",
    "# Then, for each condition, compute model predictions vs. human data\n",
    "\n",
    "# duplicate and stack model prediction matrix? \n",
    "\n",
    "# for each condition, loop through participants, make a model prediction matrix\n",
    "\n",
    "data = pd.read_csv(\"../data/3pp/earlier-later/selection_trials_clean.csv\").rename(\n",
    "    columns={\"item_id\": \"tangram_set\", \n",
    "             \"shared\": \"tangram_type\"}\n",
    ")\n",
    "data.loc[data[\"condition\"] == \"either refer\", \"condition\"] = \"EitherRefer\"\n",
    "data.loc[data[\"condition\"] == \"one refer\", \"condition\"] = \"OneRefer\"\n",
    "data.loc[data[\"condition\"] == \"one social\", \"condition\"] = \"OneSocial\"\n",
    "\n",
    "\n",
    "data.loc[data[\"response.earlier\"] == \"earlier\", \"response.earlier\"] = 1\n",
    "data.loc[data[\"response.earlier\"] == \"later\", \"response.earlier\"] = 0\n",
    "\n",
    "data.loc[data[\"tangram_type\"] == \"shared\", \"tangram_type\"] = \"Shared\"\n",
    "data.loc[data[\"tangram_type\"] == \"unique\", \"tangram_type\"] = \"Unique\"\n",
    "\n",
    "data.loc[data[\"audience_group\"] == \"red\", \"audience_group\"] = \"Red\"\n",
    "data.loc[data[\"audience_group\"] == \"blue\", \"audience_group\"] = \"Blue\"\n",
    "\n",
    "data.head()"
   ]
  },
  {
   "cell_type": "markdown",
   "metadata": {},
   "source": [
    "Make data into a matrix\n",
    "\n",
    "tangram_set x counterbalance x tangram x tangram_type x audience_group x condition x participant"
   ]
  },
  {
   "cell_type": "code",
   "execution_count": 81,
   "metadata": {},
   "outputs": [],
   "source": [
    "class Conditions(IntEnum):\n",
    "    EitherRefer = 0\n",
    "    OneRefer = 1\n",
    "    OneSocial = 2\n",
    "\n",
    "Participants = IntEnum(\"Participants\", {str(i): idx for idx, i in enumerate(data[\"subject_id\"].unique())})"
   ]
  },
  {
   "cell_type": "code",
   "execution_count": 120,
   "metadata": {},
   "outputs": [],
   "source": [
    "data_organized = {}\n",
    "for tangram_set in [0, 1, 2]:\n",
    "    for counterbalance in [\"a\", \"b\"]:\n",
    "        filtered_data = data[\n",
    "            (data[\"tangram_set\"] == tangram_set)\n",
    "            & (data[\"counterbalance\"] == counterbalance)\n",
    "        ]\n",
    "        filtered_data_participants = filtered_data[\"subject_id\"].unique()\n",
    "\n",
    "        this_set_mtx = np.zeros(\n",
    "            (12, 2, len(Conditions), len(filtered_data_participants))\n",
    "        )\n",
    "        for i, participant in enumerate(filtered_data_participants):\n",
    "            this_data = filtered_data[filtered_data[\"subject_id\"] == participant]\n",
    "            this_participant_mtx = np.zeros((12, 2, len(Conditions)))\n",
    "            for _, row in this_data.iterrows():\n",
    "                this_participant_mtx[\n",
    "                    Tangram[row[\"tangram\"]],\n",
    "                    AudienceGroup[row[\"audience_group\"]],\n",
    "                    Conditions[row[\"condition\"]],\n",
    "                ] = row[\"response.earlier\"]\n",
    "                this_set_mtx[:, :, :, i] = this_participant_mtx\n",
    "\n",
    "        data_organized[(tangram_set, counterbalance)] = this_set_mtx"
   ]
  },
  {
   "cell_type": "code",
   "execution_count": 122,
   "metadata": {},
   "outputs": [
    {
     "name": "stdout",
     "output_type": "stream",
     "text": [
      "(0, 'a') (12, 2, 3, 8)\n",
      "(0, 'b') (12, 2, 3, 9)\n",
      "(1, 'a') (12, 2, 3, 11)\n",
      "(1, 'b') (12, 2, 3, 13)\n",
      "(2, 'a') (12, 2, 3, 11)\n",
      "(2, 'b') (12, 2, 3, 9)\n"
     ]
    }
   ],
   "source": [
    "for key, mtx in data_organized.items():\n",
    "    print(key, mtx.shape)"
   ]
  },
  {
   "cell_type": "code",
   "execution_count": 130,
   "metadata": {},
   "outputs": [
    {
     "name": "stdout",
     "output_type": "stream",
     "text": [
      "(3, 2, 12, 2)\n",
      "(12, 2)\n"
     ]
    }
   ],
   "source": [
    "# Start with (0, \"a\")\n",
    "this_condition = Conditions.EitherRefer\n",
    "refer_either_preds = generate_model_preds(**conditions_params[\"refer+either\"])\n",
    "print(refer_either_preds.shape) # tangram x counterbalance x tangram x audience_group\n",
    "test_preds = refer_either_preds[TangramSet.Set1, Counterbalance.a, :, :]\n",
    "print(test_preds.shape) # tangram x audience_group\n",
    "\n",
    "# Get (0, \"a\") model preds\n"
   ]
  },
  {
   "cell_type": "code",
   "execution_count": 135,
   "metadata": {},
   "outputs": [
    {
     "data": {
      "text/plain": [
       "((12, 2, 61), (12, 2, 61))"
      ]
     },
     "execution_count": 135,
     "metadata": {},
     "output_type": "execute_result"
    }
   ],
   "source": [
    "# get matrices to compare for the either + refer condition\n",
    "refer_either_preds = generate_model_preds(**conditions_params[\"refer+either\"])\n",
    "data_all = []\n",
    "model_all = []\n",
    "for key, mtx in data_organized.items():\n",
    "    data_mtx = mtx[:, :, Conditions.EitherRefer, :]\n",
    "    model_mtx = refer_either_preds[key[0], Counterbalance[key[1]], :, :]\n",
    "    # duplicate model mtx for each participant along the last axis of the data mtx\n",
    "    model_mtx_stacked = np.stack([model_mtx for _ in range(data_mtx.shape[-1])], axis=-1)\n",
    "    assert data_mtx.shape == model_mtx_stacked.shape\n",
    "    data_all.append(data_mtx)\n",
    "    model_all.append(model_mtx_stacked)\n",
    "\n",
    "data_all = np.concatenate(data_all, axis=-1)\n",
    "model_all = np.concatenate(model_all, axis=-1)\n",
    "\n",
    "data_all.shape, model_all.shape"
   ]
  },
  {
   "cell_type": "code",
   "execution_count": 143,
   "metadata": {},
   "outputs": [],
   "source": [
    "# This is currently bad. Improve later\n",
    "def generate_data_model_matrices(condition, params): \n",
    "    model_preds = generate_model_preds(**params)\n",
    "    data_all = []\n",
    "    model_all = []\n",
    "    for key, mtx in data_organized.items():\n",
    "        data_mtx = mtx[:, :, condition, :]\n",
    "        model_mtx = model_preds[key[0], Counterbalance[key[1]], :, :]\n",
    "        # duplicate model mtx for each participant along the last axis of the data mtx\n",
    "        model_mtx_stacked = np.stack([model_mtx for _ in range(data_mtx.shape[-1])], axis=-1)\n",
    "        assert data_mtx.shape == model_mtx_stacked.shape\n",
    "        data_all.append(data_mtx)\n",
    "        model_all.append(model_mtx_stacked)\n",
    "\n",
    "    data_all = np.concatenate(data_all, axis=-1)\n",
    "    model_all = np.concatenate(model_all, axis=-1)\n",
    "    return data_all, model_all"
   ]
  },
  {
   "cell_type": "code",
   "execution_count": 173,
   "metadata": {},
   "outputs": [],
   "source": [
    "def compute_nll(data, model):\n",
    "    mask = model != 0\n",
    "    return -np.sum(data[mask] * np.log(model[mask]) + (1 - data[mask]) * np.log(1 - model[mask]))"
   ]
  },
  {
   "cell_type": "code",
   "execution_count": 174,
   "metadata": {},
   "outputs": [
    {
     "data": {
      "text/plain": [
       "1083.370770486826"
      ]
     },
     "execution_count": 174,
     "metadata": {},
     "output_type": "execute_result"
    }
   ],
   "source": [
    "compute_nll(data_all, model_all)"
   ]
  },
  {
   "cell_type": "code",
   "execution_count": 178,
   "metadata": {},
   "outputs": [
    {
     "data": {
      "text/plain": [
       "{'alpha': 2,\n",
       " 'w_r': 1.4285714285714286,\n",
       " 'w_s': 0.0,\n",
       " 'w_c': 0.01,\n",
       " 'audience_condition': <AudienceConditions.EitherGroup: 0>}"
      ]
     },
     "execution_count": 178,
     "metadata": {},
     "output_type": "execute_result"
    }
   ],
   "source": [
    "params_list = [\n",
    "    {\n",
    "        \"alpha\": 2,\n",
    "        \"w_r\": w_r,\n",
    "        \"w_s\": w_s,\n",
    "        \"w_c\": 0.01,\n",
    "        \"audience_condition\": AudienceConditions.EitherGroup,\n",
    "    }\n",
    "    for w_r in np.linspace(0, 5, 50)\n",
    "    for w_s in np.linspace(0, 5, 50)\n",
    "]\n",
    "\n",
    "nlls = []\n",
    "\n",
    "for params in params_list:\n",
    "    data_all, model_all = generate_data_model_matrices(Conditions.EitherRefer, params)\n",
    "    nll = compute_nll(data_all, model_all)\n",
    "    nlls.append(nll)\n",
    "\n",
    "nlls = np.array(nlls)\n",
    "best_params = params_list[np.argmin(nlls)]\n",
    "best_params\n",
    "    "
   ]
  },
  {
   "cell_type": "code",
   "execution_count": 179,
   "metadata": {},
   "outputs": [
    {
     "data": {
      "text/plain": [
       "{'alpha': 2,\n",
       " 'w_r': 1.0204081632653061,\n",
       " 'w_s': 0.10204081632653061,\n",
       " 'w_c': 0.01,\n",
       " 'audience_condition': <AudienceConditions.OneGroup: 1>}"
      ]
     },
     "execution_count": 179,
     "metadata": {},
     "output_type": "execute_result"
    }
   ],
   "source": [
    "# Do this for the other conditions\n",
    "params_list = [\n",
    "    {\n",
    "        \"alpha\": 2,\n",
    "        \"w_r\": w_r,\n",
    "        \"w_s\": w_s,\n",
    "        \"w_c\": 0.01,\n",
    "        \"audience_condition\": AudienceConditions.OneGroup,\n",
    "    }\n",
    "    for w_r in np.linspace(0, 5, 50)\n",
    "    for w_s in np.linspace(0, 5, 50)\n",
    "]\n",
    "\n",
    "nlls = []\n",
    "\n",
    "for params in params_list:\n",
    "    data_all, model_all = generate_data_model_matrices(Conditions.OneRefer, params)\n",
    "    nll = compute_nll(data_all, model_all)\n",
    "    nlls.append(nll)\n",
    "\n",
    "nlls = np.array(nlls)\n",
    "best_params = params_list[np.argmin(nlls)]\n",
    "best_params"
   ]
  },
  {
   "cell_type": "code",
   "execution_count": 180,
   "metadata": {},
   "outputs": [
    {
     "data": {
      "text/plain": [
       "{'alpha': 2,\n",
       " 'w_r': 0.7142857142857143,\n",
       " 'w_s': 0.30612244897959184,\n",
       " 'w_c': 0.01,\n",
       " 'audience_condition': <AudienceConditions.OneGroup: 1>}"
      ]
     },
     "execution_count": 180,
     "metadata": {},
     "output_type": "execute_result"
    }
   ],
   "source": [
    "# Do this for the other conditions\n",
    "params_list = [\n",
    "    {\n",
    "        \"alpha\": 2,\n",
    "        \"w_r\": w_r,\n",
    "        \"w_s\": w_s,\n",
    "        \"w_c\": 0.01,\n",
    "        \"audience_condition\": AudienceConditions.OneGroup,\n",
    "    }\n",
    "    for w_r in np.linspace(0, 5, 50)\n",
    "    for w_s in np.linspace(0, 5, 50)\n",
    "]\n",
    "\n",
    "nlls = []\n",
    "\n",
    "for params in params_list:\n",
    "    data_all, model_all = generate_data_model_matrices(Conditions.OneSocial, params)\n",
    "    nll = compute_nll(data_all, model_all)\n",
    "    nlls.append(nll)\n",
    "\n",
    "nlls = np.array(nlls)\n",
    "best_params = params_list[np.argmin(nlls)]\n",
    "best_params"
   ]
  },
  {
   "cell_type": "code",
   "execution_count": 182,
   "metadata": {},
   "outputs": [],
   "source": [
    "refer_either_params = {'alpha': 2,\n",
    " 'w_r': 1.4285714285714286,\n",
    " 'w_s': 0.0,\n",
    " 'w_c': 0.01}\n",
    "\n",
    "refer_one_params = {'alpha': 2,\n",
    " 'w_r': 1.0204081632653061,\n",
    " 'w_s': 0.10204081632653061,\n",
    " 'w_c': 0.01} \n",
    "\n",
    "social_one_params = {'alpha': 2,\n",
    " 'w_r': 0.7142857142857143,\n",
    " 'w_s': 0.30612244897959184,\n",
    " 'w_c': 0.01}\n",
    "\n",
    "# put params all in one dataframe\n",
    "params_df = pd.DataFrame([refer_either_params, refer_one_params, social_one_params], index=[\"refer+either\", \"refer+one\", \"social+one\"])"
   ]
  },
  {
   "cell_type": "code",
   "execution_count": 183,
   "metadata": {},
   "outputs": [
    {
     "data": {
      "text/html": [
       "<div>\n",
       "<style scoped>\n",
       "    .dataframe tbody tr th:only-of-type {\n",
       "        vertical-align: middle;\n",
       "    }\n",
       "\n",
       "    .dataframe tbody tr th {\n",
       "        vertical-align: top;\n",
       "    }\n",
       "\n",
       "    .dataframe thead th {\n",
       "        text-align: right;\n",
       "    }\n",
       "</style>\n",
       "<table border=\"1\" class=\"dataframe\">\n",
       "  <thead>\n",
       "    <tr style=\"text-align: right;\">\n",
       "      <th></th>\n",
       "      <th>alpha</th>\n",
       "      <th>w_r</th>\n",
       "      <th>w_s</th>\n",
       "      <th>w_c</th>\n",
       "    </tr>\n",
       "  </thead>\n",
       "  <tbody>\n",
       "    <tr>\n",
       "      <th>refer+either</th>\n",
       "      <td>2</td>\n",
       "      <td>1.428571</td>\n",
       "      <td>0.000000</td>\n",
       "      <td>0.01</td>\n",
       "    </tr>\n",
       "    <tr>\n",
       "      <th>refer+one</th>\n",
       "      <td>2</td>\n",
       "      <td>1.020408</td>\n",
       "      <td>0.102041</td>\n",
       "      <td>0.01</td>\n",
       "    </tr>\n",
       "    <tr>\n",
       "      <th>social+one</th>\n",
       "      <td>2</td>\n",
       "      <td>0.714286</td>\n",
       "      <td>0.306122</td>\n",
       "      <td>0.01</td>\n",
       "    </tr>\n",
       "  </tbody>\n",
       "</table>\n",
       "</div>"
      ],
      "text/plain": [
       "              alpha       w_r       w_s   w_c\n",
       "refer+either      2  1.428571  0.000000  0.01\n",
       "refer+one         2  1.020408  0.102041  0.01\n",
       "social+one        2  0.714286  0.306122  0.01"
      ]
     },
     "execution_count": 183,
     "metadata": {},
     "output_type": "execute_result"
    }
   ],
   "source": [
    "params_df"
   ]
  },
  {
   "cell_type": "code",
   "execution_count": 163,
   "metadata": {},
   "outputs": [
    {
     "data": {
      "text/plain": [
       "(array([  0,  50, 100, 150, 200, 250, 300, 350, 400, 450, 500, 550, 600,\n",
       "        650, 700, 750]),)"
      ]
     },
     "execution_count": 163,
     "metadata": {},
     "output_type": "execute_result"
    }
   ],
   "source": [
    "nlls[nlls < 250]\n",
    "np.where(nlls < 230)"
   ]
  },
  {
   "cell_type": "code",
   "execution_count": 169,
   "metadata": {},
   "outputs": [
    {
     "data": {
      "text/plain": [
       "{'alpha': 2,\n",
       " 'w_r': 0.8163265306122449,\n",
       " 'w_s': 0.0,\n",
       " 'w_c': 0.01,\n",
       " 'audience_condition': <AudienceConditions.OneGroup: 1>}"
      ]
     },
     "execution_count": 169,
     "metadata": {},
     "output_type": "execute_result"
    }
   ],
   "source": [
    "params_list[400]"
   ]
  },
  {
   "cell_type": "markdown",
   "metadata": {},
   "source": [
    "TODOS\n",
    "\n",
    "- Make heatmaps and figure out whats happening with `w_s`\n",
    "- try plugging in these weights in toy model and see what happens, also just w model predictions. Can change behavior just by changing `w_r`...\n",
    "- see if data loaded in is correct... plot data maybe? \n",
    "- use the weights to plot the trial-level data\n",
    "- refactor code and organize and make it FASTER \n",
    "- is the data right...\n",
    "- move code to script stop using jupyter\n",
    "\n",
    "- Can you get the results using just weights on rever adn COST?? Do you need weight on social\n",
    "\n",
    "\n",
    "Get rid fo cost weight"
   ]
  },
  {
   "cell_type": "markdown",
   "metadata": {},
   "source": [
    "Fit data\n",
    "\n",
    "Start with refer+either condition\n",
    "\n",
    "Model predictions matrix:     Output: 3 x 2 x 12 x 2 x 2  array\n",
    "    tangram_set x counterbalance x tangram x tangram_type x audience_group\n",
    "\n",
    "Data matrix: \n",
    "tangram_set x counterbalance x tangram x tangram_type x audience_group x condition x participant"
   ]
  },
  {
   "cell_type": "code",
   "execution_count": null,
   "metadata": {},
   "outputs": [],
   "source": [
    "this_condition = Conditions.EitherRefer\n",
    "test_model_preds = generate_model_preds(**conditions_params[\"refer+either\"])\n",
    "test_data = data_mtx[:, :, :, :, :, this_condition, 0]\n",
    "assert test_model_preds.shape == test_data.shape"
   ]
  },
  {
   "cell_type": "code",
   "execution_count": 84,
   "metadata": {},
   "outputs": [
    {
     "data": {
      "text/plain": [
       "((3, 2, 12, 2, 2), (3, 2, 12, 2, 2))"
      ]
     },
     "execution_count": 84,
     "metadata": {},
     "output_type": "execute_result"
    }
   ],
   "source": [
    "# Calculate MSE\n",
    "def mse(pred, data):\n",
    "    return ((pred - data) ** 2).mean()"
   ]
  },
  {
   "cell_type": "code",
   "execution_count": 98,
   "metadata": {},
   "outputs": [
    {
     "data": {
      "text/plain": [
       "array([[0.        , 0.62882805],\n",
       "       [0.3838926 , 0.        ],\n",
       "       [0.32575074, 0.        ],\n",
       "       [0.        , 0.52077317],\n",
       "       [0.        , 0.        ],\n",
       "       [0.        , 0.        ],\n",
       "       [0.        , 0.        ],\n",
       "       [0.        , 0.27000737],\n",
       "       [0.        , 0.        ],\n",
       "       [0.        , 0.        ],\n",
       "       [0.        , 0.        ],\n",
       "       [0.27071151, 0.        ]])"
      ]
     },
     "execution_count": 98,
     "metadata": {},
     "output_type": "execute_result"
    }
   ],
   "source": [
    "test_model_preds[0, 0, :, :, 1]"
   ]
  },
  {
   "cell_type": "code",
   "execution_count": 95,
   "metadata": {},
   "outputs": [
    {
     "data": {
      "text/plain": [
       "array([[0., 0.],\n",
       "       [0., 0.],\n",
       "       [0., 0.],\n",
       "       [0., 0.],\n",
       "       [0., 0.],\n",
       "       [0., 0.],\n",
       "       [0., 0.],\n",
       "       [0., 1.],\n",
       "       [0., 0.],\n",
       "       [0., 0.],\n",
       "       [0., 0.],\n",
       "       [0., 0.]])"
      ]
     },
     "execution_count": 95,
     "metadata": {},
     "output_type": "execute_result"
    }
   ],
   "source": [
    "test_data[0, 0, :, :, 0]"
   ]
  },
  {
   "cell_type": "markdown",
   "metadata": {},
   "source": [
    "FIT BY GOAL (refer vs. social) NOT condition\n",
    "Or maybe fit by condition? \n",
    "\n",
    "Instead of weird dicts use intenum from the beginning"
   ]
  }
 ],
 "metadata": {
  "kernelspec": {
   "display_name": "code-switching",
   "language": "python",
   "name": "python3"
  },
  "language_info": {
   "codemirror_mode": {
    "name": "ipython",
    "version": 3
   },
   "file_extension": ".py",
   "mimetype": "text/x-python",
   "name": "python",
   "nbconvert_exporter": "python",
   "pygments_lexer": "ipython3",
   "version": "3.12.4"
  }
 },
 "nbformat": 4,
 "nbformat_minor": 2
}
